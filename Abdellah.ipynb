{
 "cells": [
  {
   "cell_type": "code",
   "execution_count": 2,
   "metadata": {},
   "outputs": [],
   "source": [
    "import pandas as pd\n",
    "data = pd.read_hdf(r\"C:\\Users\\dell\\Desktop\\train_dc2020.h5\", 'data')\n",
    "venues=pd.read_csv(r\"C:\\Users\\dell\\Desktop\\train_labels.csv\")\n",
    "test = pd.read_hdf(r\"C:\\Users\\dell\\Desktop\\test_dc2020.h5\", 'data')"
   ]
  },
  {
   "cell_type": "code",
   "execution_count": 69,
   "metadata": {},
   "outputs": [
    {
     "data": {
      "text/html": [
       "<div>\n",
       "<style scoped>\n",
       "    .dataframe tbody tr th:only-of-type {\n",
       "        vertical-align: middle;\n",
       "    }\n",
       "\n",
       "    .dataframe tbody tr th {\n",
       "        vertical-align: top;\n",
       "    }\n",
       "\n",
       "    .dataframe thead th {\n",
       "        text-align: right;\n",
       "    }\n",
       "</style>\n",
       "<table border=\"1\" class=\"dataframe\">\n",
       "  <thead>\n",
       "    <tr style=\"text-align: right;\">\n",
       "      <th></th>\n",
       "      <th>(0, ask)</th>\n",
       "      <th>(0, ask1)</th>\n",
       "      <th>(0, ask_size)</th>\n",
       "      <th>(0, ask_size1)</th>\n",
       "      <th>(0, bid)</th>\n",
       "      <th>(0, bid1)</th>\n",
       "      <th>(0, bid_size)</th>\n",
       "      <th>(0, bid_size1)</th>\n",
       "      <th>(0, price)</th>\n",
       "      <th>(0, qty)</th>\n",
       "      <th>...</th>\n",
       "      <th>(8, qty)</th>\n",
       "      <th>(8, source_id)</th>\n",
       "      <th>(8, tod)</th>\n",
       "      <th>(9, price)</th>\n",
       "      <th>(9, qty)</th>\n",
       "      <th>(9, source_id)</th>\n",
       "      <th>(9, tod)</th>\n",
       "      <th>stock_id</th>\n",
       "      <th>day_id</th>\n",
       "      <th>ID</th>\n",
       "    </tr>\n",
       "  </thead>\n",
       "  <tbody>\n",
       "    <tr>\n",
       "      <th>0</th>\n",
       "      <td>4.5</td>\n",
       "      <td>562.5</td>\n",
       "      <td>0.002330</td>\n",
       "      <td>0.093197</td>\n",
       "      <td>-25.5</td>\n",
       "      <td>-545.5</td>\n",
       "      <td>0.046598</td>\n",
       "      <td>0.046598</td>\n",
       "      <td>-0.5</td>\n",
       "      <td>0.037279</td>\n",
       "      <td>...</td>\n",
       "      <td>0.004660</td>\n",
       "      <td>4</td>\n",
       "      <td>38930876675</td>\n",
       "      <td>-3.5</td>\n",
       "      <td>0.046598</td>\n",
       "      <td>2</td>\n",
       "      <td>38930876000</td>\n",
       "      <td>387</td>\n",
       "      <td>238</td>\n",
       "      <td>0</td>\n",
       "    </tr>\n",
       "    <tr>\n",
       "      <th>1</th>\n",
       "      <td>2.5</td>\n",
       "      <td>14.5</td>\n",
       "      <td>0.001314</td>\n",
       "      <td>0.013139</td>\n",
       "      <td>-10.5</td>\n",
       "      <td>-406.5</td>\n",
       "      <td>0.013139</td>\n",
       "      <td>0.026278</td>\n",
       "      <td>-0.5</td>\n",
       "      <td>0.013139</td>\n",
       "      <td>...</td>\n",
       "      <td>0.013139</td>\n",
       "      <td>2</td>\n",
       "      <td>46336088000</td>\n",
       "      <td>1.5</td>\n",
       "      <td>0.013139</td>\n",
       "      <td>4</td>\n",
       "      <td>46336087875</td>\n",
       "      <td>437</td>\n",
       "      <td>22</td>\n",
       "      <td>1</td>\n",
       "    </tr>\n",
       "    <tr>\n",
       "      <th>2</th>\n",
       "      <td>5.0</td>\n",
       "      <td>210.0</td>\n",
       "      <td>0.010792</td>\n",
       "      <td>0.010792</td>\n",
       "      <td>-95.0</td>\n",
       "      <td>-285.0</td>\n",
       "      <td>0.032376</td>\n",
       "      <td>0.021584</td>\n",
       "      <td>-3.0</td>\n",
       "      <td>0.010253</td>\n",
       "      <td>...</td>\n",
       "      <td>0.050615</td>\n",
       "      <td>2</td>\n",
       "      <td>57584792000</td>\n",
       "      <td>0.0</td>\n",
       "      <td>0.010792</td>\n",
       "      <td>2</td>\n",
       "      <td>57583312000</td>\n",
       "      <td>7</td>\n",
       "      <td>255</td>\n",
       "      <td>2</td>\n",
       "    </tr>\n",
       "    <tr>\n",
       "      <th>3</th>\n",
       "      <td>0.5</td>\n",
       "      <td>1.5</td>\n",
       "      <td>0.006943</td>\n",
       "      <td>0.006943</td>\n",
       "      <td>-2.5</td>\n",
       "      <td>-3.5</td>\n",
       "      <td>0.006943</td>\n",
       "      <td>0.013886</td>\n",
       "      <td>-0.5</td>\n",
       "      <td>0.000069</td>\n",
       "      <td>...</td>\n",
       "      <td>0.013886</td>\n",
       "      <td>4</td>\n",
       "      <td>49549010300</td>\n",
       "      <td>0.5</td>\n",
       "      <td>0.006943</td>\n",
       "      <td>1</td>\n",
       "      <td>49549010200</td>\n",
       "      <td>48</td>\n",
       "      <td>64</td>\n",
       "      <td>3</td>\n",
       "    </tr>\n",
       "    <tr>\n",
       "      <th>4</th>\n",
       "      <td>15.0</td>\n",
       "      <td>442.0</td>\n",
       "      <td>0.035689</td>\n",
       "      <td>0.071378</td>\n",
       "      <td>-391.0</td>\n",
       "      <td>-397.0</td>\n",
       "      <td>0.035689</td>\n",
       "      <td>0.035689</td>\n",
       "      <td>3.0</td>\n",
       "      <td>0.035689</td>\n",
       "      <td>...</td>\n",
       "      <td>0.035689</td>\n",
       "      <td>2</td>\n",
       "      <td>42452055000</td>\n",
       "      <td>-8.0</td>\n",
       "      <td>0.035689</td>\n",
       "      <td>3</td>\n",
       "      <td>42451072650</td>\n",
       "      <td>52</td>\n",
       "      <td>231</td>\n",
       "      <td>4</td>\n",
       "    </tr>\n",
       "  </tbody>\n",
       "</table>\n",
       "<p>5 rows × 97 columns</p>\n",
       "</div>"
      ],
      "text/plain": [
       "   (0, ask)  (0, ask1)  (0, ask_size)  (0, ask_size1)  (0, bid)  (0, bid1)  \\\n",
       "0       4.5      562.5       0.002330        0.093197     -25.5     -545.5   \n",
       "1       2.5       14.5       0.001314        0.013139     -10.5     -406.5   \n",
       "2       5.0      210.0       0.010792        0.010792     -95.0     -285.0   \n",
       "3       0.5        1.5       0.006943        0.006943      -2.5       -3.5   \n",
       "4      15.0      442.0       0.035689        0.071378    -391.0     -397.0   \n",
       "\n",
       "   (0, bid_size)  (0, bid_size1)  (0, price)  (0, qty)  ...  (8, qty)  \\\n",
       "0       0.046598        0.046598        -0.5  0.037279  ...  0.004660   \n",
       "1       0.013139        0.026278        -0.5  0.013139  ...  0.013139   \n",
       "2       0.032376        0.021584        -3.0  0.010253  ...  0.050615   \n",
       "3       0.006943        0.013886        -0.5  0.000069  ...  0.013886   \n",
       "4       0.035689        0.035689         3.0  0.035689  ...  0.035689   \n",
       "\n",
       "   (8, source_id)     (8, tod)  (9, price)  (9, qty)  (9, source_id)  \\\n",
       "0               4  38930876675        -3.5  0.046598               2   \n",
       "1               2  46336088000         1.5  0.013139               4   \n",
       "2               2  57584792000         0.0  0.010792               2   \n",
       "3               4  49549010300         0.5  0.006943               1   \n",
       "4               2  42452055000        -8.0  0.035689               3   \n",
       "\n",
       "      (9, tod)  stock_id  day_id  ID  \n",
       "0  38930876000       387     238   0  \n",
       "1  46336087875       437      22   1  \n",
       "2  57583312000         7     255   2  \n",
       "3  49549010200        48      64   3  \n",
       "4  42451072650        52     231   4  \n",
       "\n",
       "[5 rows x 97 columns]"
      ]
     },
     "execution_count": 69,
     "metadata": {},
     "output_type": "execute_result"
    }
   ],
   "source": [
    "data.head()"
   ]
  },
  {
   "cell_type": "code",
   "execution_count": 91,
   "metadata": {},
   "outputs": [
    {
     "data": {
      "text/plain": [
       "<matplotlib.axes._subplots.AxesSubplot at 0x1c481f46f10>"
      ]
     },
     "execution_count": 91,
     "metadata": {},
     "output_type": "execute_result"
    },
    {
     "data": {
      "image/png": "[encoded data removed]",
      "text/plain": [
       "<Figure size 432x288 with 1 Axes>"
      ]
     },
     "metadata": {
      "needs_background": "light"
     },
     "output_type": "display_data"
    }
   ],
   "source": [
    "# Density Plot and Histogram of all arrival delays\n",
    "import matplotlib.pyplot as plt\n",
    "import seaborn as sns\n",
    "sns.distplot(data[data.columns[86]], hist=True, kde=True, \n",
    "             bins=int(180/5), color = 'darkblue', \n",
    "             hist_kws={'edgecolor':'black'},\n",
    "             kde_kws={'linewidth': 2})"
   ]
  },
  {
   "cell_type": "code",
   "execution_count": 103,
   "metadata": {},
   "outputs": [
    {
     "data": {
      "image/png": "[encoded data removed]",
      "text/plain": [
       "<Figure size 432x288 with 1 Axes>"
      ]
     },
     "metadata": {
      "needs_background": "light"
     },
     "output_type": "display_data"
    }
   ],
   "source": [
    "# library and dataset\n",
    "import seaborn as sns \n",
    "# plot of 2 variables\n",
    "p1=sns.kdeplot(data[(0, 'bid_size')], shade=True)\n",
    "p1=sns.kdeplot(data[(1, 'bid_size')], shade=True)\n",
    "p1=sns.kdeplot(data[(2, 'bid_size')], shade=True)\n",
    "p1=sns.kdeplot(data[(3, 'bid_size')], shade=True)\n",
    "p1=sns.kdeplot(data[(4, 'bid_size')], shade=True)\n",
    "p1=sns.kdeplot(data[(5, 'bid_size')], shade=True)\n",
    "\n",
    "\n",
    "\n",
    "#sns.plt.show()"
   ]
  },
  {
   "cell_type": "code",
   "execution_count": 74,
   "metadata": {},
   "outputs": [
    {
     "data": {
      "text/html": [
       "<div>\n",
       "<style scoped>\n",
       "    .dataframe tbody tr th:only-of-type {\n",
       "        vertical-align: middle;\n",
       "    }\n",
       "\n",
       "    .dataframe tbody tr th {\n",
       "        vertical-align: top;\n",
       "    }\n",
       "\n",
       "    .dataframe thead tr th {\n",
       "        text-align: left;\n",
       "    }\n",
       "\n",
       "    .dataframe thead tr:last-of-type th {\n",
       "        text-align: right;\n",
       "    }\n",
       "</style>\n",
       "<table border=\"1\" class=\"dataframe\">\n",
       "  <thead>\n",
       "    <tr>\n",
       "      <th></th>\n",
       "      <th colspan=\"13\" halign=\"left\">val</th>\n",
       "    </tr>\n",
       "    <tr>\n",
       "      <th>idx</th>\n",
       "      <th>ask</th>\n",
       "      <th>ask1</th>\n",
       "      <th>ask_size</th>\n",
       "      <th>ask_size1</th>\n",
       "      <th>bid</th>\n",
       "      <th>bid1</th>\n",
       "      <th>bid_size</th>\n",
       "      <th>bid_size1</th>\n",
       "      <th>price</th>\n",
       "      <th>qty</th>\n",
       "      <th>source_id</th>\n",
       "      <th>tod</th>\n",
       "      <th>ts_last_update</th>\n",
       "    </tr>\n",
       "    <tr>\n",
       "      <th>key</th>\n",
       "      <th></th>\n",
       "      <th></th>\n",
       "      <th></th>\n",
       "      <th></th>\n",
       "      <th></th>\n",
       "      <th></th>\n",
       "      <th></th>\n",
       "      <th></th>\n",
       "      <th></th>\n",
       "      <th></th>\n",
       "      <th></th>\n",
       "      <th></th>\n",
       "      <th></th>\n",
       "    </tr>\n",
       "  </thead>\n",
       "  <tbody>\n",
       "    <tr>\n",
       "      <th>0</th>\n",
       "      <td>2.5</td>\n",
       "      <td>14.5</td>\n",
       "      <td>0.001314</td>\n",
       "      <td>0.013139</td>\n",
       "      <td>-10.5</td>\n",
       "      <td>-406.5</td>\n",
       "      <td>0.013139</td>\n",
       "      <td>0.026278</td>\n",
       "      <td>-0.5</td>\n",
       "      <td>0.013139</td>\n",
       "      <td>4.0</td>\n",
       "      <td>4.633610e+10</td>\n",
       "      <td>4.633609e+10</td>\n",
       "    </tr>\n",
       "    <tr>\n",
       "      <th>1</th>\n",
       "      <td>1.5</td>\n",
       "      <td>2.5</td>\n",
       "      <td>0.013139</td>\n",
       "      <td>0.032584</td>\n",
       "      <td>-1.5</td>\n",
       "      <td>-2.5</td>\n",
       "      <td>0.013139</td>\n",
       "      <td>0.039417</td>\n",
       "      <td>-0.5</td>\n",
       "      <td>0.013139</td>\n",
       "      <td>4.0</td>\n",
       "      <td>4.633610e+10</td>\n",
       "      <td>4.633610e+10</td>\n",
       "    </tr>\n",
       "    <tr>\n",
       "      <th>2</th>\n",
       "      <td>1.5</td>\n",
       "      <td>3.5</td>\n",
       "      <td>0.027592</td>\n",
       "      <td>0.039417</td>\n",
       "      <td>-1.5</td>\n",
       "      <td>-2.5</td>\n",
       "      <td>0.039417</td>\n",
       "      <td>0.026278</td>\n",
       "      <td>-0.5</td>\n",
       "      <td>0.078833</td>\n",
       "      <td>4.0</td>\n",
       "      <td>4.633610e+10</td>\n",
       "      <td>4.633610e+10</td>\n",
       "    </tr>\n",
       "    <tr>\n",
       "      <th>3</th>\n",
       "      <td>2.5</td>\n",
       "      <td>12.5</td>\n",
       "      <td>0.010511</td>\n",
       "      <td>0.013139</td>\n",
       "      <td>-8.5</td>\n",
       "      <td>-406.5</td>\n",
       "      <td>0.013139</td>\n",
       "      <td>0.013139</td>\n",
       "      <td>-0.5</td>\n",
       "      <td>0.013139</td>\n",
       "      <td>3.0</td>\n",
       "      <td>4.633610e+10</td>\n",
       "      <td>4.633610e+10</td>\n",
       "    </tr>\n",
       "    <tr>\n",
       "      <th>4</th>\n",
       "      <td>2.5</td>\n",
       "      <td>3.5</td>\n",
       "      <td>0.170805</td>\n",
       "      <td>0.161083</td>\n",
       "      <td>-1.5</td>\n",
       "      <td>-2.5</td>\n",
       "      <td>0.078833</td>\n",
       "      <td>0.118775</td>\n",
       "      <td>-0.5</td>\n",
       "      <td>0.013139</td>\n",
       "      <td>1.0</td>\n",
       "      <td>4.633610e+10</td>\n",
       "      <td>4.633610e+10</td>\n",
       "    </tr>\n",
       "    <tr>\n",
       "      <th>5</th>\n",
       "      <td>2.5</td>\n",
       "      <td>3.5</td>\n",
       "      <td>0.015767</td>\n",
       "      <td>0.027986</td>\n",
       "      <td>-1.5</td>\n",
       "      <td>-2.5</td>\n",
       "      <td>0.026278</td>\n",
       "      <td>0.065694</td>\n",
       "      <td>-0.5</td>\n",
       "      <td>0.039417</td>\n",
       "      <td>2.0</td>\n",
       "      <td>4.633610e+10</td>\n",
       "      <td>4.633609e+10</td>\n",
       "    </tr>\n",
       "    <tr>\n",
       "      <th>6</th>\n",
       "      <td>NaN</td>\n",
       "      <td>NaN</td>\n",
       "      <td>NaN</td>\n",
       "      <td>NaN</td>\n",
       "      <td>NaN</td>\n",
       "      <td>NaN</td>\n",
       "      <td>NaN</td>\n",
       "      <td>NaN</td>\n",
       "      <td>-0.5</td>\n",
       "      <td>0.013139</td>\n",
       "      <td>2.0</td>\n",
       "      <td>4.633610e+10</td>\n",
       "      <td>NaN</td>\n",
       "    </tr>\n",
       "    <tr>\n",
       "      <th>7</th>\n",
       "      <td>NaN</td>\n",
       "      <td>NaN</td>\n",
       "      <td>NaN</td>\n",
       "      <td>NaN</td>\n",
       "      <td>NaN</td>\n",
       "      <td>NaN</td>\n",
       "      <td>NaN</td>\n",
       "      <td>NaN</td>\n",
       "      <td>1.5</td>\n",
       "      <td>0.013139</td>\n",
       "      <td>5.0</td>\n",
       "      <td>4.633609e+10</td>\n",
       "      <td>NaN</td>\n",
       "    </tr>\n",
       "    <tr>\n",
       "      <th>8</th>\n",
       "      <td>NaN</td>\n",
       "      <td>NaN</td>\n",
       "      <td>NaN</td>\n",
       "      <td>NaN</td>\n",
       "      <td>NaN</td>\n",
       "      <td>NaN</td>\n",
       "      <td>NaN</td>\n",
       "      <td>NaN</td>\n",
       "      <td>1.5</td>\n",
       "      <td>0.013139</td>\n",
       "      <td>2.0</td>\n",
       "      <td>4.633609e+10</td>\n",
       "      <td>NaN</td>\n",
       "    </tr>\n",
       "    <tr>\n",
       "      <th>9</th>\n",
       "      <td>NaN</td>\n",
       "      <td>NaN</td>\n",
       "      <td>NaN</td>\n",
       "      <td>NaN</td>\n",
       "      <td>NaN</td>\n",
       "      <td>NaN</td>\n",
       "      <td>NaN</td>\n",
       "      <td>NaN</td>\n",
       "      <td>1.5</td>\n",
       "      <td>0.013139</td>\n",
       "      <td>4.0</td>\n",
       "      <td>4.633609e+10</td>\n",
       "      <td>NaN</td>\n",
       "    </tr>\n",
       "  </tbody>\n",
       "</table>\n",
       "</div>"
      ],
      "text/plain": [
       "     val                                                                   \\\n",
       "idx  ask  ask1  ask_size ask_size1   bid   bid1  bid_size bid_size1 price   \n",
       "key                                                                         \n",
       "0    2.5  14.5  0.001314  0.013139 -10.5 -406.5  0.013139  0.026278  -0.5   \n",
       "1    1.5   2.5  0.013139  0.032584  -1.5   -2.5  0.013139  0.039417  -0.5   \n",
       "2    1.5   3.5  0.027592  0.039417  -1.5   -2.5  0.039417  0.026278  -0.5   \n",
       "3    2.5  12.5  0.010511  0.013139  -8.5 -406.5  0.013139  0.013139  -0.5   \n",
       "4    2.5   3.5  0.170805  0.161083  -1.5   -2.5  0.078833  0.118775  -0.5   \n",
       "5    2.5   3.5  0.015767  0.027986  -1.5   -2.5  0.026278  0.065694  -0.5   \n",
       "6    NaN   NaN       NaN       NaN   NaN    NaN       NaN       NaN  -0.5   \n",
       "7    NaN   NaN       NaN       NaN   NaN    NaN       NaN       NaN   1.5   \n",
       "8    NaN   NaN       NaN       NaN   NaN    NaN       NaN       NaN   1.5   \n",
       "9    NaN   NaN       NaN       NaN   NaN    NaN       NaN       NaN   1.5   \n",
       "\n",
       "                                                      \n",
       "idx       qty source_id           tod ts_last_update  \n",
       "key                                                   \n",
       "0    0.013139       4.0  4.633610e+10   4.633609e+10  \n",
       "1    0.013139       4.0  4.633610e+10   4.633610e+10  \n",
       "2    0.078833       4.0  4.633610e+10   4.633610e+10  \n",
       "3    0.013139       3.0  4.633610e+10   4.633610e+10  \n",
       "4    0.013139       1.0  4.633610e+10   4.633610e+10  \n",
       "5    0.039417       2.0  4.633610e+10   4.633609e+10  \n",
       "6    0.013139       2.0  4.633610e+10            NaN  \n",
       "7    0.013139       5.0  4.633609e+10            NaN  \n",
       "8    0.013139       2.0  4.633609e+10            NaN  \n",
       "9    0.013139       4.0  4.633609e+10            NaN  "
      ]
     },
     "execution_count": 74,
     "metadata": {},
     "output_type": "execute_result"
    }
   ],
   "source": [
    "\n",
    "out = []\n",
    "for key, val in data.iloc[1].to_dict().items():\n",
    "   if isinstance(key, tuple):\n",
    "       key, idx = key\n",
    "   else:\n",
    "       continue\n",
    "   out.append({'idx': idx, 'key': key, 'val': val})\n",
    "out = pd.DataFrame(out).set_index(['key', 'idx']).unstack(-1)\n",
    "out"
   ]
  },
  {
   "cell_type": "code",
   "execution_count": 31,
   "metadata": {},
   "outputs": [
    {
     "data": {
      "text/plain": [
       "(0, 'ask')"
      ]
     },
     "execution_count": 31,
     "metadata": {},
     "output_type": "execute_result"
    }
   ],
   "source": [
    "list(data.iloc[0].to_dict().items())[0][0]"
   ]
  },
  {
   "cell_type": "code",
   "execution_count": 43,
   "metadata": {
    "scrolled": true
   },
   "outputs": [
    {
     "data": {
      "text/html": [
       "<div>\n",
       "<style scoped>\n",
       "    .dataframe tbody tr th:only-of-type {\n",
       "        vertical-align: middle;\n",
       "    }\n",
       "\n",
       "    .dataframe tbody tr th {\n",
       "        vertical-align: top;\n",
       "    }\n",
       "\n",
       "    .dataframe thead th {\n",
       "        text-align: right;\n",
       "    }\n",
       "</style>\n",
       "<table border=\"1\" class=\"dataframe\">\n",
       "  <thead>\n",
       "    <tr style=\"text-align: right;\">\n",
       "      <th></th>\n",
       "      <th>ID</th>\n",
       "      <th>source_id</th>\n",
       "    </tr>\n",
       "  </thead>\n",
       "  <tbody>\n",
       "    <tr>\n",
       "      <th>0</th>\n",
       "      <td>0</td>\n",
       "      <td>2</td>\n",
       "    </tr>\n",
       "    <tr>\n",
       "      <th>1</th>\n",
       "      <td>1</td>\n",
       "      <td>2</td>\n",
       "    </tr>\n",
       "    <tr>\n",
       "      <th>2</th>\n",
       "      <td>2</td>\n",
       "      <td>2</td>\n",
       "    </tr>\n",
       "    <tr>\n",
       "      <th>3</th>\n",
       "      <td>3</td>\n",
       "      <td>4</td>\n",
       "    </tr>\n",
       "    <tr>\n",
       "      <th>4</th>\n",
       "      <td>4</td>\n",
       "      <td>2</td>\n",
       "    </tr>\n",
       "    <tr>\n",
       "      <th>...</th>\n",
       "      <td>...</td>\n",
       "      <td>...</td>\n",
       "    </tr>\n",
       "    <tr>\n",
       "      <th>959501</th>\n",
       "      <td>959501</td>\n",
       "      <td>4</td>\n",
       "    </tr>\n",
       "    <tr>\n",
       "      <th>959502</th>\n",
       "      <td>959502</td>\n",
       "      <td>1</td>\n",
       "    </tr>\n",
       "    <tr>\n",
       "      <th>959503</th>\n",
       "      <td>959503</td>\n",
       "      <td>3</td>\n",
       "    </tr>\n",
       "    <tr>\n",
       "      <th>959504</th>\n",
       "      <td>959504</td>\n",
       "      <td>4</td>\n",
       "    </tr>\n",
       "    <tr>\n",
       "      <th>959505</th>\n",
       "      <td>959505</td>\n",
       "      <td>3</td>\n",
       "    </tr>\n",
       "  </tbody>\n",
       "</table>\n",
       "<p>959506 rows × 2 columns</p>\n",
       "</div>"
      ],
      "text/plain": [
       "            ID  source_id\n",
       "0            0          2\n",
       "1            1          2\n",
       "2            2          2\n",
       "3            3          4\n",
       "4            4          2\n",
       "...        ...        ...\n",
       "959501  959501          4\n",
       "959502  959502          1\n",
       "959503  959503          3\n",
       "959504  959504          4\n",
       "959505  959505          3\n",
       "\n",
       "[959506 rows x 2 columns]"
      ]
     },
     "execution_count": 43,
     "metadata": {},
     "output_type": "execute_result"
    }
   ],
   "source": [
    "venues"
   ]
  },
  {
   "cell_type": "code",
   "execution_count": 18,
   "metadata": {},
   "outputs": [
    {
     "data": {
      "text/plain": [
       "<matplotlib.axes._subplots.AxesSubplot at 0x237b8497490>"
      ]
     },
     "execution_count": 18,
     "metadata": {},
     "output_type": "execute_result"
    },
    {
     "data": {
      "image/png": "[encoded data removed]",
      "text/plain": [
       "<Figure size 432x288 with 1 Axes>"
      ]
     },
     "metadata": {
      "needs_background": "light"
     },
     "output_type": "display_data"
    }
   ],
   "source": [
    "data.day_id.hist(bins = 50)"
   ]
  },
  {
   "cell_type": "code",
   "execution_count": 6,
   "metadata": {},
   "outputs": [],
   "source": [
    "import sklearn.datasets\n",
    "from sklearn.model_selection import train_test_split\n",
    "import numpy as np\n",
    "import pandas as pd\n",
    "import matplotlib.pyplot as plt\n",
    "\n",
    "X_train, X_val, y_train, y_val = train_test_split(np.nan_to_num(data), venues.source_id, test_size = 0.2)"
   ]
  },
  {
   "cell_type": "code",
   "execution_count": 7,
   "metadata": {},
   "outputs": [
    {
     "data": {
      "text/plain": [
       "RandomForestClassifier(n_estimators=300)"
      ]
     },
     "execution_count": 7,
     "metadata": {},
     "output_type": "execute_result"
    }
   ],
   "source": [
    "from sklearn.ensemble import RandomForestClassifier\n",
    "from sklearn.metrics import accuracy_score\n",
    "\n",
    "rf = RandomForestClassifier(n_estimators=300)\n",
    "rf.fit(X_train, y_train)\n"
   ]
  },
  {
   "cell_type": "code",
   "execution_count": 49,
   "metadata": {},
   "outputs": [
    {
     "name": "stdout",
     "output_type": "stream",
     "text": [
      "[16:51:07] WARNING: C:/Users/Administrator/workspace/xgboost-win64_release_1.3.0/src/learner.cc:1061: Starting in XGBoost 1.3.0, the default evaluation metric used with the objective 'multi:softprob' was changed from 'merror' to 'mlogloss'. Explicitly set eval_metric if you'd like to restore the old behavior.\n"
     ]
    },
    {
     "ename": "KeyboardInterrupt",
     "evalue": "",
     "output_type": "error",
     "traceback": [
      "\u001b[1;31m---------------------------------------------------------------------------\u001b[0m",
      "\u001b[1;31mKeyboardInterrupt\u001b[0m                         Traceback (most recent call last)",
      "\u001b[1;32m<ipython-input-49-31afb57e8088>\u001b[0m in \u001b[0;36m<module>\u001b[1;34m\u001b[0m\n\u001b[0;32m      6\u001b[0m \u001b[0mclf\u001b[0m \u001b[1;33m=\u001b[0m \u001b[0mxgb\u001b[0m\u001b[1;33m.\u001b[0m\u001b[0mXGBClassifier\u001b[0m\u001b[1;33m(\u001b[0m\u001b[1;33m**\u001b[0m\u001b[0mparam_dist\u001b[0m\u001b[1;33m)\u001b[0m\u001b[1;33m\u001b[0m\u001b[1;33m\u001b[0m\u001b[0m\n\u001b[0;32m      7\u001b[0m \u001b[1;33m\u001b[0m\u001b[0m\n\u001b[1;32m----> 8\u001b[1;33m \u001b[0mclf\u001b[0m\u001b[1;33m.\u001b[0m\u001b[0mfit\u001b[0m\u001b[1;33m(\u001b[0m\u001b[0mdata\u001b[0m\u001b[1;33m,\u001b[0m \u001b[0mvenues\u001b[0m\u001b[1;33m.\u001b[0m\u001b[0msource_id\u001b[0m\u001b[1;33m,\u001b[0m\u001b[0mverbose\u001b[0m\u001b[1;33m=\u001b[0m\u001b[1;32mTrue\u001b[0m\u001b[1;33m)\u001b[0m\u001b[1;33m\u001b[0m\u001b[1;33m\u001b[0m\u001b[0m\n\u001b[0m",
      "\u001b[1;32mC:\\ProgramData\\Anaconda3\\lib\\site-packages\\xgboost\\core.py\u001b[0m in \u001b[0;36minner_f\u001b[1;34m(*args, **kwargs)\u001b[0m\n\u001b[0;32m    419\u001b[0m         \u001b[1;32mfor\u001b[0m \u001b[0mk\u001b[0m\u001b[1;33m,\u001b[0m \u001b[0marg\u001b[0m \u001b[1;32min\u001b[0m \u001b[0mzip\u001b[0m\u001b[1;33m(\u001b[0m\u001b[0msig\u001b[0m\u001b[1;33m.\u001b[0m\u001b[0mparameters\u001b[0m\u001b[1;33m,\u001b[0m \u001b[0margs\u001b[0m\u001b[1;33m)\u001b[0m\u001b[1;33m:\u001b[0m\u001b[1;33m\u001b[0m\u001b[1;33m\u001b[0m\u001b[0m\n\u001b[0;32m    420\u001b[0m             \u001b[0mkwargs\u001b[0m\u001b[1;33m[\u001b[0m\u001b[0mk\u001b[0m\u001b[1;33m]\u001b[0m \u001b[1;33m=\u001b[0m \u001b[0marg\u001b[0m\u001b[1;33m\u001b[0m\u001b[1;33m\u001b[0m\u001b[0m\n\u001b[1;32m--> 421\u001b[1;33m         \u001b[1;32mreturn\u001b[0m \u001b[0mf\u001b[0m\u001b[1;33m(\u001b[0m\u001b[1;33m**\u001b[0m\u001b[0mkwargs\u001b[0m\u001b[1;33m)\u001b[0m\u001b[1;33m\u001b[0m\u001b[1;33m\u001b[0m\u001b[0m\n\u001b[0m\u001b[0;32m    422\u001b[0m \u001b[1;33m\u001b[0m\u001b[0m\n\u001b[0;32m    423\u001b[0m     \u001b[1;32mreturn\u001b[0m \u001b[0minner_f\u001b[0m\u001b[1;33m\u001b[0m\u001b[1;33m\u001b[0m\u001b[0m\n",
      "\u001b[1;32mC:\\ProgramData\\Anaconda3\\lib\\site-packages\\xgboost\\sklearn.py\u001b[0m in \u001b[0;36mfit\u001b[1;34m(self, X, y, sample_weight, base_margin, eval_set, eval_metric, early_stopping_rounds, verbose, xgb_model, sample_weight_eval_set, feature_weights, callbacks)\u001b[0m\n\u001b[0;32m    907\u001b[0m             eval_group=None, label_transform=label_transform)\n\u001b[0;32m    908\u001b[0m \u001b[1;33m\u001b[0m\u001b[0m\n\u001b[1;32m--> 909\u001b[1;33m         self._Booster = train(xgb_options, train_dmatrix,\n\u001b[0m\u001b[0;32m    910\u001b[0m                               \u001b[0mself\u001b[0m\u001b[1;33m.\u001b[0m\u001b[0mget_num_boosting_rounds\u001b[0m\u001b[1;33m(\u001b[0m\u001b[1;33m)\u001b[0m\u001b[1;33m,\u001b[0m\u001b[1;33m\u001b[0m\u001b[1;33m\u001b[0m\u001b[0m\n\u001b[0;32m    911\u001b[0m                               \u001b[0mevals\u001b[0m\u001b[1;33m=\u001b[0m\u001b[0mevals\u001b[0m\u001b[1;33m,\u001b[0m\u001b[1;33m\u001b[0m\u001b[1;33m\u001b[0m\u001b[0m\n",
      "\u001b[1;32mC:\\ProgramData\\Anaconda3\\lib\\site-packages\\xgboost\\training.py\u001b[0m in \u001b[0;36mtrain\u001b[1;34m(params, dtrain, num_boost_round, evals, obj, feval, maximize, early_stopping_rounds, evals_result, verbose_eval, xgb_model, callbacks)\u001b[0m\n\u001b[0;32m    217\u001b[0m     \u001b[0mBooster\u001b[0m \u001b[1;33m:\u001b[0m \u001b[0ma\u001b[0m \u001b[0mtrained\u001b[0m \u001b[0mbooster\u001b[0m \u001b[0mmodel\u001b[0m\u001b[1;33m\u001b[0m\u001b[1;33m\u001b[0m\u001b[0m\n\u001b[0;32m    218\u001b[0m     \"\"\"\n\u001b[1;32m--> 219\u001b[1;33m     bst = _train_internal(params, dtrain,\n\u001b[0m\u001b[0;32m    220\u001b[0m                           \u001b[0mnum_boost_round\u001b[0m\u001b[1;33m=\u001b[0m\u001b[0mnum_boost_round\u001b[0m\u001b[1;33m,\u001b[0m\u001b[1;33m\u001b[0m\u001b[1;33m\u001b[0m\u001b[0m\n\u001b[0;32m    221\u001b[0m                           \u001b[0mevals\u001b[0m\u001b[1;33m=\u001b[0m\u001b[0mevals\u001b[0m\u001b[1;33m,\u001b[0m\u001b[1;33m\u001b[0m\u001b[1;33m\u001b[0m\u001b[0m\n",
      "\u001b[1;32mC:\\ProgramData\\Anaconda3\\lib\\site-packages\\xgboost\\training.py\u001b[0m in \u001b[0;36m_train_internal\u001b[1;34m(params, dtrain, num_boost_round, evals, obj, feval, xgb_model, callbacks, evals_result, maximize, verbose_eval, early_stopping_rounds)\u001b[0m\n\u001b[0;32m    112\u001b[0m         \u001b[1;31m# Skip the first update if it is a recovery step.\u001b[0m\u001b[1;33m\u001b[0m\u001b[1;33m\u001b[0m\u001b[1;33m\u001b[0m\u001b[0m\n\u001b[0;32m    113\u001b[0m         \u001b[1;32mif\u001b[0m \u001b[0mversion\u001b[0m \u001b[1;33m%\u001b[0m \u001b[1;36m2\u001b[0m \u001b[1;33m==\u001b[0m \u001b[1;36m0\u001b[0m\u001b[1;33m:\u001b[0m\u001b[1;33m\u001b[0m\u001b[1;33m\u001b[0m\u001b[0m\n\u001b[1;32m--> 114\u001b[1;33m             \u001b[0mbst\u001b[0m\u001b[1;33m.\u001b[0m\u001b[0mupdate\u001b[0m\u001b[1;33m(\u001b[0m\u001b[0mdtrain\u001b[0m\u001b[1;33m,\u001b[0m \u001b[0mi\u001b[0m\u001b[1;33m,\u001b[0m \u001b[0mobj\u001b[0m\u001b[1;33m)\u001b[0m\u001b[1;33m\u001b[0m\u001b[1;33m\u001b[0m\u001b[0m\n\u001b[0m\u001b[0;32m    115\u001b[0m             \u001b[0mbst\u001b[0m\u001b[1;33m.\u001b[0m\u001b[0msave_rabit_checkpoint\u001b[0m\u001b[1;33m(\u001b[0m\u001b[1;33m)\u001b[0m\u001b[1;33m\u001b[0m\u001b[1;33m\u001b[0m\u001b[0m\n\u001b[0;32m    116\u001b[0m             \u001b[0mversion\u001b[0m \u001b[1;33m+=\u001b[0m \u001b[1;36m1\u001b[0m\u001b[1;33m\u001b[0m\u001b[1;33m\u001b[0m\u001b[0m\n",
      "\u001b[1;32mC:\\ProgramData\\Anaconda3\\lib\\site-packages\\xgboost\\core.py\u001b[0m in \u001b[0;36mupdate\u001b[1;34m(self, dtrain, iteration, fobj)\u001b[0m\n\u001b[0;32m   1265\u001b[0m \u001b[1;33m\u001b[0m\u001b[0m\n\u001b[0;32m   1266\u001b[0m         \u001b[1;32mif\u001b[0m \u001b[0mfobj\u001b[0m \u001b[1;32mis\u001b[0m \u001b[1;32mNone\u001b[0m\u001b[1;33m:\u001b[0m\u001b[1;33m\u001b[0m\u001b[1;33m\u001b[0m\u001b[0m\n\u001b[1;32m-> 1267\u001b[1;33m             _check_call(_LIB.XGBoosterUpdateOneIter(self.handle,\n\u001b[0m\u001b[0;32m   1268\u001b[0m                                                     \u001b[0mctypes\u001b[0m\u001b[1;33m.\u001b[0m\u001b[0mc_int\u001b[0m\u001b[1;33m(\u001b[0m\u001b[0miteration\u001b[0m\u001b[1;33m)\u001b[0m\u001b[1;33m,\u001b[0m\u001b[1;33m\u001b[0m\u001b[1;33m\u001b[0m\u001b[0m\n\u001b[0;32m   1269\u001b[0m                                                     dtrain.handle))\n",
      "\u001b[1;31mKeyboardInterrupt\u001b[0m: "
     ]
    }
   ],
   "source": [
    "import xgboost as xgb\n",
    "\n",
    "\n",
    "param_dist = {'objective':'multi:softmax', 'n_estimators':100}\n",
    "\n",
    "clf = xgb.XGBClassifier(**param_dist)\n",
    "\n",
    "clf.fit(data, venues.source_id,verbose=True)\n"
   ]
  },
  {
   "cell_type": "code",
   "execution_count": null,
   "metadata": {},
   "outputs": [],
   "source": [
    "from sklearn.metrics import classification_report, confusion_matrix, accuracy_score\n",
    "\n",
    "print(confusion_matrix(y_test,y_pred))\n",
    "print(classification_report(y_test,y_pred))\n",
    "print(accuracy_score(y_test, y_pred))"
   ]
  },
  {
   "cell_type": "code",
   "execution_count": 48,
   "metadata": {},
   "outputs": [],
   "source": [
    "\n",
    "predictions= clf.predict(test)\n",
    "\n",
    "sub= pd.DataFrame({'ID': test.ID, 'source_id': predictions})\n",
    "\n",
    "sub.to_csv('SubmissionCFM.csv',index=False)"
   ]
  },
  {
   "cell_type": "code",
   "execution_count": 21,
   "metadata": {},
   "outputs": [
    {
     "name": "stdout",
     "output_type": "stream",
     "text": [
      "Collecting xgboost\n",
      "  Downloading xgboost-1.3.0.post0-py3-none-win_amd64.whl (95.2 MB)\n",
      "Requirement already satisfied: scipy in c:\\programdata\\anaconda3\\lib\\site-packages (from xgboost) (1.5.0)\n",
      "Requirement already satisfied: numpy in c:\\programdata\\anaconda3\\lib\\site-packages (from xgboost) (1.18.5)\n",
      "Installing collected packages: xgboost\n",
      "Successfully installed xgboost-1.3.0.post0\n"
     ]
    }
   ],
   "source": [
    "!pip install xgboost"
   ]
  },
  {
   "cell_type": "code",
   "execution_count": 77,
   "metadata": {},
   "outputs": [
    {
     "data": {
      "text/plain": [
       "(1, 'bid_size1')"
      ]
     },
     "execution_count": 77,
     "metadata": {},
     "output_type": "execute_result"
    }
   ],
   "source": [
    "data.columns[20]"
   ]
  },
  {
   "cell_type": "code",
   "execution_count": 85,
   "metadata": {},
   "outputs": [
    {
     "name": "stdout",
     "output_type": "stream",
     "text": [
      "Collecting plotly\n",
      "  Downloading plotly-4.14.1-py2.py3-none-any.whl (13.2 MB)\n",
      "Requirement already satisfied: six in c:\\programdata\\anaconda3\\lib\\site-packages (from plotly) (1.15.0)\n",
      "Collecting retrying>=1.3.3\n",
      "  Downloading retrying-1.3.3.tar.gz (10 kB)\n",
      "Building wheels for collected packages: retrying\n",
      "  Building wheel for retrying (setup.py): started\n",
      "  Building wheel for retrying (setup.py): finished with status 'done'\n",
      "  Created wheel for retrying: filename=retrying-1.3.3-py3-none-any.whl size=11435 sha256=193fbcd1382c973420996426026f26d46ec5afb236e5f3d1dd7a833cdbaae953\n",
      "  Stored in directory: c:\\users\\dell\\appdata\\local\\pip\\cache\\wheels\\c4\\a7\\48\\0a434133f6d56e878ca511c0e6c38326907c0792f67b476e56\n",
      "Successfully built retrying\n",
      "Installing collected packages: retrying, plotly\n",
      "Successfully installed plotly-4.14.1 retrying-1.3.3\n"
     ]
    }
   ],
   "source": [
    "!pip install plotly"
   ]
  },
  {
   "cell_type": "code",
   "execution_count": null,
   "metadata": {},
   "outputs": [],
   "source": []
  }
 ],
 "metadata": {
  "kernelspec": {
   "display_name": "Python 3",
   "language": "python",
   "name": "python3"
  },
  "language_info": {
   "codemirror_mode": {
    "name": "ipython",
    "version": 3
   },
   "file_extension": ".py",
   "mimetype": "text/x-python",
   "name": "python",
   "nbconvert_exporter": "python",
   "pygments_lexer": "ipython3",
   "version": "3.8.3"
  }
 },
 "nbformat": 4,
 "nbformat_minor": 4
}
