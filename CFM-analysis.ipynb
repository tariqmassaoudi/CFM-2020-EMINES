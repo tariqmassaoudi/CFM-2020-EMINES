{
 "cells": [
  {
   "cell_type": "markdown",
   "metadata": {},
   "source": [
    "# Challenge Context"
   ]
  },
  {
   "cell_type": "markdown",
   "metadata": {},
   "source": [
    "<img src=\"https://challengedata.ens.fr/logo/public/CFM_CoRGB_300dpi_Tight_box.png\" width=\"300\" height=\"300\" />\n",
    "Most financial markets use an electronic trading mechanism called a limit order book to facilitate the trading of assets (stocks, futures, options, etc.). Participants submit (or cancel) orders to this electronic order book. These orders are requests to buy or sell a given quantity of an asset at a specified price, thus allowing buyers to be matched with sellers at a mutually agreed price [1][2]. Since an asset can be traded on multiple trading venues, participants can choose to which venue they send an order. For instance, a US stock can be traded on various exchanges, such as NYSE, NASDAQ, Direct Edge or BATS. When sending an order, participants generally select the best available trading venue at that time [3]. Their decisions may include a statistical analysis of past venue activity.\n",
    "\n",
    "[1] Trades, Quotes and Prices - Financial Markets Under the Microscope – Jean-Philippe Bouchaud, Julius Bonart, Jonathan Donier, Martin Gould – 2018\n",
    "[2] https://en.wikipedia.org/wiki/Order_book_(trading)\n",
    "[3] https://en.wikipedia.org/wiki/Smart_order_routing"
   ]
  },
  {
   "cell_type": "markdown",
   "metadata": {},
   "source": [
    "## Lecture de données"
   ]
  },
  {
   "cell_type": "code",
   "execution_count": 1,
   "metadata": {},
   "outputs": [],
   "source": [
    "import numpy as np\n",
    "import pandas as pd\n",
    "train_data = pd.read_hdf(r\"C:\\Users\\dell\\Desktop\\train_dc2020.h5\", 'data').drop(columns=[\"ID\"])\n",
    "labels = pd.read_csv(r\"C:\\Users\\dell\\Desktop\\train_labels.csv\")\n",
    "test_data= pd.read_hdf(r\"C:\\Users\\dell\\Desktop\\test_dc2020.h5\", 'data')\n",
    "concat=pd.concat([train_data,labels],axis=1).drop(columns=[\"ID\"]).dropna()\n"
   ]
  },
  {
   "cell_type": "code",
   "execution_count": 2,
   "metadata": {},
   "outputs": [
    {
     "data": {
      "text/html": [
       "<div>\n",
       "<style scoped>\n",
       "    .dataframe tbody tr th:only-of-type {\n",
       "        vertical-align: middle;\n",
       "    }\n",
       "\n",
       "    .dataframe tbody tr th {\n",
       "        vertical-align: top;\n",
       "    }\n",
       "\n",
       "    .dataframe thead th {\n",
       "        text-align: right;\n",
       "    }\n",
       "</style>\n",
       "<table border=\"1\" class=\"dataframe\">\n",
       "  <thead>\n",
       "    <tr style=\"text-align: right;\">\n",
       "      <th></th>\n",
       "      <th>ID</th>\n",
       "      <th>source_id</th>\n",
       "    </tr>\n",
       "  </thead>\n",
       "  <tbody>\n",
       "    <tr>\n",
       "      <th>0</th>\n",
       "      <td>0</td>\n",
       "      <td>2</td>\n",
       "    </tr>\n",
       "    <tr>\n",
       "      <th>1</th>\n",
       "      <td>1</td>\n",
       "      <td>2</td>\n",
       "    </tr>\n",
       "    <tr>\n",
       "      <th>2</th>\n",
       "      <td>2</td>\n",
       "      <td>2</td>\n",
       "    </tr>\n",
       "    <tr>\n",
       "      <th>3</th>\n",
       "      <td>3</td>\n",
       "      <td>4</td>\n",
       "    </tr>\n",
       "    <tr>\n",
       "      <th>4</th>\n",
       "      <td>4</td>\n",
       "      <td>2</td>\n",
       "    </tr>\n",
       "    <tr>\n",
       "      <th>...</th>\n",
       "      <td>...</td>\n",
       "      <td>...</td>\n",
       "    </tr>\n",
       "    <tr>\n",
       "      <th>959501</th>\n",
       "      <td>959501</td>\n",
       "      <td>4</td>\n",
       "    </tr>\n",
       "    <tr>\n",
       "      <th>959502</th>\n",
       "      <td>959502</td>\n",
       "      <td>1</td>\n",
       "    </tr>\n",
       "    <tr>\n",
       "      <th>959503</th>\n",
       "      <td>959503</td>\n",
       "      <td>3</td>\n",
       "    </tr>\n",
       "    <tr>\n",
       "      <th>959504</th>\n",
       "      <td>959504</td>\n",
       "      <td>4</td>\n",
       "    </tr>\n",
       "    <tr>\n",
       "      <th>959505</th>\n",
       "      <td>959505</td>\n",
       "      <td>3</td>\n",
       "    </tr>\n",
       "  </tbody>\n",
       "</table>\n",
       "<p>959506 rows × 2 columns</p>\n",
       "</div>"
      ],
      "text/plain": [
       "            ID  source_id\n",
       "0            0          2\n",
       "1            1          2\n",
       "2            2          2\n",
       "3            3          4\n",
       "4            4          2\n",
       "...        ...        ...\n",
       "959501  959501          4\n",
       "959502  959502          1\n",
       "959503  959503          3\n",
       "959504  959504          4\n",
       "959505  959505          3\n",
       "\n",
       "[959506 rows x 2 columns]"
      ]
     },
     "execution_count": 2,
     "metadata": {},
     "output_type": "execute_result"
    }
   ],
   "source": [
    "labels"
   ]
  },
  {
   "cell_type": "code",
   "execution_count": 3,
   "metadata": {},
   "outputs": [
    {
     "data": {
      "text/html": [
       "<div>\n",
       "<style scoped>\n",
       "    .dataframe tbody tr th:only-of-type {\n",
       "        vertical-align: middle;\n",
       "    }\n",
       "\n",
       "    .dataframe tbody tr th {\n",
       "        vertical-align: top;\n",
       "    }\n",
       "\n",
       "    .dataframe thead th {\n",
       "        text-align: right;\n",
       "    }\n",
       "</style>\n",
       "<table border=\"1\" class=\"dataframe\">\n",
       "  <thead>\n",
       "    <tr style=\"text-align: right;\">\n",
       "      <th></th>\n",
       "      <th>(0, ask)</th>\n",
       "      <th>(0, ask1)</th>\n",
       "      <th>(0, ask_size)</th>\n",
       "      <th>(0, ask_size1)</th>\n",
       "      <th>(0, bid)</th>\n",
       "      <th>(0, bid1)</th>\n",
       "      <th>(0, bid_size)</th>\n",
       "      <th>(0, bid_size1)</th>\n",
       "      <th>(0, price)</th>\n",
       "      <th>(0, qty)</th>\n",
       "      <th>...</th>\n",
       "      <th>(8, qty)</th>\n",
       "      <th>(8, source_id)</th>\n",
       "      <th>(8, tod)</th>\n",
       "      <th>(9, price)</th>\n",
       "      <th>(9, qty)</th>\n",
       "      <th>(9, source_id)</th>\n",
       "      <th>(9, tod)</th>\n",
       "      <th>stock_id</th>\n",
       "      <th>day_id</th>\n",
       "      <th>source_id</th>\n",
       "    </tr>\n",
       "  </thead>\n",
       "  <tbody>\n",
       "    <tr>\n",
       "      <th>0</th>\n",
       "      <td>1.5</td>\n",
       "      <td>2.5</td>\n",
       "      <td>0.003510</td>\n",
       "      <td>0.003510</td>\n",
       "      <td>-0.5</td>\n",
       "      <td>-1.5</td>\n",
       "      <td>0.010530</td>\n",
       "      <td>0.007020</td>\n",
       "      <td>0.5</td>\n",
       "      <td>0.003510</td>\n",
       "      <td>...</td>\n",
       "      <td>0.003510</td>\n",
       "      <td>4.0</td>\n",
       "      <td>5.338431e+10</td>\n",
       "      <td>-0.5</td>\n",
       "      <td>0.003510</td>\n",
       "      <td>4.0</td>\n",
       "      <td>5.338431e+10</td>\n",
       "      <td>444.0</td>\n",
       "      <td>183.0</td>\n",
       "      <td>2</td>\n",
       "    </tr>\n",
       "    <tr>\n",
       "      <th>1</th>\n",
       "      <td>1.5</td>\n",
       "      <td>5.5</td>\n",
       "      <td>0.038110</td>\n",
       "      <td>0.038110</td>\n",
       "      <td>-5.5</td>\n",
       "      <td>-9.5</td>\n",
       "      <td>0.038110</td>\n",
       "      <td>0.038110</td>\n",
       "      <td>0.5</td>\n",
       "      <td>0.022104</td>\n",
       "      <td>...</td>\n",
       "      <td>0.053735</td>\n",
       "      <td>5.0</td>\n",
       "      <td>5.577584e+10</td>\n",
       "      <td>0.5</td>\n",
       "      <td>0.057546</td>\n",
       "      <td>5.0</td>\n",
       "      <td>5.577584e+10</td>\n",
       "      <td>95.0</td>\n",
       "      <td>226.0</td>\n",
       "      <td>2</td>\n",
       "    </tr>\n",
       "    <tr>\n",
       "      <th>3</th>\n",
       "      <td>3.0</td>\n",
       "      <td>6.0</td>\n",
       "      <td>0.073099</td>\n",
       "      <td>0.036550</td>\n",
       "      <td>-2.0</td>\n",
       "      <td>-6.0</td>\n",
       "      <td>0.036550</td>\n",
       "      <td>0.036550</td>\n",
       "      <td>0.0</td>\n",
       "      <td>0.014620</td>\n",
       "      <td>...</td>\n",
       "      <td>0.000365</td>\n",
       "      <td>1.0</td>\n",
       "      <td>3.508851e+10</td>\n",
       "      <td>-4.0</td>\n",
       "      <td>0.033991</td>\n",
       "      <td>1.0</td>\n",
       "      <td>3.508851e+10</td>\n",
       "      <td>305.0</td>\n",
       "      <td>248.0</td>\n",
       "      <td>4</td>\n",
       "    </tr>\n",
       "    <tr>\n",
       "      <th>4</th>\n",
       "      <td>8.5</td>\n",
       "      <td>212.5</td>\n",
       "      <td>0.028645</td>\n",
       "      <td>0.028645</td>\n",
       "      <td>-12.5</td>\n",
       "      <td>-208.5</td>\n",
       "      <td>0.028645</td>\n",
       "      <td>0.028645</td>\n",
       "      <td>-1.5</td>\n",
       "      <td>0.028645</td>\n",
       "      <td>...</td>\n",
       "      <td>0.021770</td>\n",
       "      <td>4.0</td>\n",
       "      <td>4.195373e+10</td>\n",
       "      <td>-1.5</td>\n",
       "      <td>0.028645</td>\n",
       "      <td>2.0</td>\n",
       "      <td>4.195373e+10</td>\n",
       "      <td>70.0</td>\n",
       "      <td>177.0</td>\n",
       "      <td>2</td>\n",
       "    </tr>\n",
       "    <tr>\n",
       "      <th>5</th>\n",
       "      <td>1.0</td>\n",
       "      <td>3.0</td>\n",
       "      <td>0.031847</td>\n",
       "      <td>0.031847</td>\n",
       "      <td>-3.0</td>\n",
       "      <td>-6.0</td>\n",
       "      <td>0.031847</td>\n",
       "      <td>0.031847</td>\n",
       "      <td>-1.0</td>\n",
       "      <td>0.031847</td>\n",
       "      <td>...</td>\n",
       "      <td>0.031847</td>\n",
       "      <td>1.0</td>\n",
       "      <td>3.743043e+10</td>\n",
       "      <td>-1.0</td>\n",
       "      <td>0.001592</td>\n",
       "      <td>3.0</td>\n",
       "      <td>3.743033e+10</td>\n",
       "      <td>279.0</td>\n",
       "      <td>127.0</td>\n",
       "      <td>5</td>\n",
       "    </tr>\n",
       "  </tbody>\n",
       "</table>\n",
       "<p>5 rows × 97 columns</p>\n",
       "</div>"
      ],
      "text/plain": [
       "   (0, ask)  (0, ask1)  (0, ask_size)  (0, ask_size1)  (0, bid)  (0, bid1)  \\\n",
       "0       1.5        2.5       0.003510        0.003510      -0.5       -1.5   \n",
       "1       1.5        5.5       0.038110        0.038110      -5.5       -9.5   \n",
       "3       3.0        6.0       0.073099        0.036550      -2.0       -6.0   \n",
       "4       8.5      212.5       0.028645        0.028645     -12.5     -208.5   \n",
       "5       1.0        3.0       0.031847        0.031847      -3.0       -6.0   \n",
       "\n",
       "   (0, bid_size)  (0, bid_size1)  (0, price)  (0, qty)  ...  (8, qty)  \\\n",
       "0       0.010530        0.007020         0.5  0.003510  ...  0.003510   \n",
       "1       0.038110        0.038110         0.5  0.022104  ...  0.053735   \n",
       "3       0.036550        0.036550         0.0  0.014620  ...  0.000365   \n",
       "4       0.028645        0.028645        -1.5  0.028645  ...  0.021770   \n",
       "5       0.031847        0.031847        -1.0  0.031847  ...  0.031847   \n",
       "\n",
       "   (8, source_id)      (8, tod)  (9, price)  (9, qty)  (9, source_id)  \\\n",
       "0             4.0  5.338431e+10        -0.5  0.003510             4.0   \n",
       "1             5.0  5.577584e+10         0.5  0.057546             5.0   \n",
       "3             1.0  3.508851e+10        -4.0  0.033991             1.0   \n",
       "4             4.0  4.195373e+10        -1.5  0.028645             2.0   \n",
       "5             1.0  3.743043e+10        -1.0  0.001592             3.0   \n",
       "\n",
       "       (9, tod)  stock_id  day_id  source_id  \n",
       "0  5.338431e+10     444.0   183.0          2  \n",
       "1  5.577584e+10      95.0   226.0          2  \n",
       "3  3.508851e+10     305.0   248.0          4  \n",
       "4  4.195373e+10      70.0   177.0          2  \n",
       "5  3.743033e+10     279.0   127.0          5  \n",
       "\n",
       "[5 rows x 97 columns]"
      ]
     },
     "execution_count": 3,
     "metadata": {},
     "output_type": "execute_result"
    }
   ],
   "source": [
    "concat.head()"
   ]
  },
  {
   "cell_type": "markdown",
   "metadata": {},
   "source": [
    "# Exploratory Data Analysis"
   ]
  },
  {
   "cell_type": "code",
   "execution_count": 3,
   "metadata": {},
   "outputs": [],
   "source": [
    "def askvsbid(index,df):\n",
    "    df=df.iloc[index]\n",
    "    emptydict={\"name\":[],\"value\":[],\"venue\":[],\"type\":[]}\n",
    "    for key,data in df.to_dict().items():\n",
    "        emptydict[\"name\"].append(key[1])\n",
    "        emptydict[\"value\"].append(data)\n",
    "        emptydict[\"venue\"].append(key[0])\n",
    "        datatype=\"book\"\n",
    "        if key[1]==\"price\" or key[1]==\"qty\" or key[1]==\"source_id\" or key[1]==\"tod\":\n",
    "            datatype=\"trade\"\n",
    "        emptydict[\"type\"].append(datatype)\n",
    "    finaldf=pd.DataFrame(emptydict)[:94]\n",
    "    allowedcolumns=[\"ask\",\"bid\",]\n",
    "    onlyAskAndBid=finaldf[finaldf.name.isin(allowedcolumns)]\n",
    "    return onlyAskAndBid"
   ]
  },
  {
   "cell_type": "code",
   "execution_count": 4,
   "metadata": {},
   "outputs": [],
   "source": [
    "onlyAskAndBid=askvsbid(0,concat)\n",
    "onlyAskAndBid[\"name\"]=onlyAskAndBid[\"name\"]+\"_\"+onlyAskAndBid[\"venue\"].apply(str)\n",
    "onlyAskAndBid[\"value\"]=onlyAskAndBid[\"value\"]+50"
   ]
  },
  {
   "cell_type": "code",
   "execution_count": 9,
   "metadata": {},
   "outputs": [
    {
     "data": {
      "application/vnd.plotly.v1+json": {
       "config": {
        "plotlyServerURL": "https://plot.ly"
       },
       "data": [
        {
         "alignmentgroup": "True",
         "hovertemplate": "Plateforme boursiere=0<br>name=%{x}<br>value=%{y}<extra></extra>",
         "legendgroup": "0",
         "marker": {
          "color": "#636efa"
         },
         "name": "0",
         "offsetgroup": "0",
         "orientation": "v",
         "showlegend": true,
         "textposition": "auto",
         "type": "bar",
         "x": [
          "ask_0",
          "bid_0"
         ],
         "xaxis": "x",
         "y": [
          54.5,
          24.5
         ],
         "yaxis": "y"
        },
        {
         "alignmentgroup": "True",
         "hovertemplate": "Plateforme boursiere=1<br>name=%{x}<br>value=%{y}<extra></extra>",
         "legendgroup": "1",
         "marker": {
          "color": "#EF553B"
         },
         "name": "1",
         "offsetgroup": "1",
         "orientation": "v",
         "showlegend": true,
         "textposition": "auto",
         "type": "bar",
         "x": [
          "ask_1",
          "bid_1"
         ],
         "xaxis": "x",
         "y": [
          54.5,
          31.5
         ],
         "yaxis": "y"
        },
        {
         "alignmentgroup": "True",
         "hovertemplate": "Plateforme boursiere=2<br>name=%{x}<br>value=%{y}<extra></extra>",
         "legendgroup": "2",
         "marker": {
          "color": "#00cc96"
         },
         "name": "2",
         "offsetgroup": "2",
         "orientation": "v",
         "showlegend": true,
         "textposition": "auto",
         "type": "bar",
         "x": [
          "ask_2",
          "bid_2"
         ],
         "xaxis": "x",
         "y": [
          53.5,
          45.5
         ],
         "yaxis": "y"
        },
        {
         "alignmentgroup": "True",
         "hovertemplate": "Plateforme boursiere=3<br>name=%{x}<br>value=%{y}<extra></extra>",
         "legendgroup": "3",
         "marker": {
          "color": "#ab63fa"
         },
         "name": "3",
         "offsetgroup": "3",
         "orientation": "v",
         "showlegend": true,
         "textposition": "auto",
         "type": "bar",
         "x": [
          "ask_3",
          "bid_3"
         ],
         "xaxis": "x",
         "y": [
          54.5,
          24.5
         ],
         "yaxis": "y"
        },
        {
         "alignmentgroup": "True",
         "hovertemplate": "Plateforme boursiere=4<br>name=%{x}<br>value=%{y}<extra></extra>",
         "legendgroup": "4",
         "marker": {
          "color": "#FFA15A"
         },
         "name": "4",
         "offsetgroup": "4",
         "orientation": "v",
         "showlegend": true,
         "textposition": "auto",
         "type": "bar",
         "x": [
          "ask_4",
          "bid_4"
         ],
         "xaxis": "x",
         "y": [
          54.5,
          41.5
         ],
         "yaxis": "y"
        },
        {
         "alignmentgroup": "True",
         "hovertemplate": "Plateforme boursiere=5<br>name=%{x}<br>value=%{y}<extra></extra>",
         "legendgroup": "5",
         "marker": {
          "color": "#19d3f3"
         },
         "name": "5",
         "offsetgroup": "5",
         "orientation": "v",
         "showlegend": true,
         "textposition": "auto",
         "type": "bar",
         "x": [
          "ask_5",
          "bid_5"
         ],
         "xaxis": "x",
         "y": [
          54.5,
          46.5
         ],
         "yaxis": "y"
        }
       ],
       "layout": {
        "barmode": "relative",
        "legend": {
         "title": {
          "text": "Plateforme boursiere"
         },
         "tracegroupgap": 0
        },
        "margin": {
         "t": 60
        },
        "template": {
         "data": {
          "bar": [
           {
            "error_x": {
             "color": "#2a3f5f"
            },
            "error_y": {
             "color": "#2a3f5f"
            },
            "marker": {
             "line": {
              "color": "#E5ECF6",
              "width": 0.5
             }
            },
            "type": "bar"
           }
          ],
          "barpolar": [
           {
            "marker": {
             "line": {
              "color": "#E5ECF6",
              "width": 0.5
             }
            },
            "type": "barpolar"
           }
          ],
          "carpet": [
           {
            "aaxis": {
             "endlinecolor": "#2a3f5f",
             "gridcolor": "white",
             "linecolor": "white",
             "minorgridcolor": "white",
             "startlinecolor": "#2a3f5f"
            },
            "baxis": {
             "endlinecolor": "#2a3f5f",
             "gridcolor": "white",
             "linecolor": "white",
             "minorgridcolor": "white",
             "startlinecolor": "#2a3f5f"
            },
            "type": "carpet"
           }
          ],
          "choropleth": [
           {
            "colorbar": {
             "outlinewidth": 0,
             "ticks": ""
            },
            "type": "choropleth"
           }
          ],
          "contour": [
           {
            "colorbar": {
             "outlinewidth": 0,
             "ticks": ""
            },
            "colorscale": [
             [
              0,
              "#0d0887"
             ],
             [
              0.1111111111111111,
              "#46039f"
             ],
             [
              0.2222222222222222,
              "#7201a8"
             ],
             [
              0.3333333333333333,
              "#9c179e"
             ],
             [
              0.4444444444444444,
              "#bd3786"
             ],
             [
              0.5555555555555556,
              "#d8576b"
             ],
             [
              0.6666666666666666,
              "#ed7953"
             ],
             [
              0.7777777777777778,
              "#fb9f3a"
             ],
             [
              0.8888888888888888,
              "#fdca26"
             ],
             [
              1,
              "#f0f921"
             ]
            ],
            "type": "contour"
           }
          ],
          "contourcarpet": [
           {
            "colorbar": {
             "outlinewidth": 0,
             "ticks": ""
            },
            "type": "contourcarpet"
           }
          ],
          "heatmap": [
           {
            "colorbar": {
             "outlinewidth": 0,
             "ticks": ""
            },
            "colorscale": [
             [
              0,
              "#0d0887"
             ],
             [
              0.1111111111111111,
              "#46039f"
             ],
             [
              0.2222222222222222,
              "#7201a8"
             ],
             [
              0.3333333333333333,
              "#9c179e"
             ],
             [
              0.4444444444444444,
              "#bd3786"
             ],
             [
              0.5555555555555556,
              "#d8576b"
             ],
             [
              0.6666666666666666,
              "#ed7953"
             ],
             [
              0.7777777777777778,
              "#fb9f3a"
             ],
             [
              0.8888888888888888,
              "#fdca26"
             ],
             [
              1,
              "#f0f921"
             ]
            ],
            "type": "heatmap"
           }
          ],
          "heatmapgl": [
           {
            "colorbar": {
             "outlinewidth": 0,
             "ticks": ""
            },
            "colorscale": [
             [
              0,
              "#0d0887"
             ],
             [
              0.1111111111111111,
              "#46039f"
             ],
             [
              0.2222222222222222,
              "#7201a8"
             ],
             [
              0.3333333333333333,
              "#9c179e"
             ],
             [
              0.4444444444444444,
              "#bd3786"
             ],
             [
              0.5555555555555556,
              "#d8576b"
             ],
             [
              0.6666666666666666,
              "#ed7953"
             ],
             [
              0.7777777777777778,
              "#fb9f3a"
             ],
             [
              0.8888888888888888,
              "#fdca26"
             ],
             [
              1,
              "#f0f921"
             ]
            ],
            "type": "heatmapgl"
           }
          ],
          "histogram": [
           {
            "marker": {
             "colorbar": {
              "outlinewidth": 0,
              "ticks": ""
             }
            },
            "type": "histogram"
           }
          ],
          "histogram2d": [
           {
            "colorbar": {
             "outlinewidth": 0,
             "ticks": ""
            },
            "colorscale": [
             [
              0,
              "#0d0887"
             ],
             [
              0.1111111111111111,
              "#46039f"
             ],
             [
              0.2222222222222222,
              "#7201a8"
             ],
             [
              0.3333333333333333,
              "#9c179e"
             ],
             [
              0.4444444444444444,
              "#bd3786"
             ],
             [
              0.5555555555555556,
              "#d8576b"
             ],
             [
              0.6666666666666666,
              "#ed7953"
             ],
             [
              0.7777777777777778,
              "#fb9f3a"
             ],
             [
              0.8888888888888888,
              "#fdca26"
             ],
             [
              1,
              "#f0f921"
             ]
            ],
            "type": "histogram2d"
           }
          ],
          "histogram2dcontour": [
           {
            "colorbar": {
             "outlinewidth": 0,
             "ticks": ""
            },
            "colorscale": [
             [
              0,
              "#0d0887"
             ],
             [
              0.1111111111111111,
              "#46039f"
             ],
             [
              0.2222222222222222,
              "#7201a8"
             ],
             [
              0.3333333333333333,
              "#9c179e"
             ],
             [
              0.4444444444444444,
              "#bd3786"
             ],
             [
              0.5555555555555556,
              "#d8576b"
             ],
             [
              0.6666666666666666,
              "#ed7953"
             ],
             [
              0.7777777777777778,
              "#fb9f3a"
             ],
             [
              0.8888888888888888,
              "#fdca26"
             ],
             [
              1,
              "#f0f921"
             ]
            ],
            "type": "histogram2dcontour"
           }
          ],
          "mesh3d": [
           {
            "colorbar": {
             "outlinewidth": 0,
             "ticks": ""
            },
            "type": "mesh3d"
           }
          ],
          "parcoords": [
           {
            "line": {
             "colorbar": {
              "outlinewidth": 0,
              "ticks": ""
             }
            },
            "type": "parcoords"
           }
          ],
          "pie": [
           {
            "automargin": true,
            "type": "pie"
           }
          ],
          "scatter": [
           {
            "marker": {
             "colorbar": {
              "outlinewidth": 0,
              "ticks": ""
             }
            },
            "type": "scatter"
           }
          ],
          "scatter3d": [
           {
            "line": {
             "colorbar": {
              "outlinewidth": 0,
              "ticks": ""
             }
            },
            "marker": {
             "colorbar": {
              "outlinewidth": 0,
              "ticks": ""
             }
            },
            "type": "scatter3d"
           }
          ],
          "scattercarpet": [
           {
            "marker": {
             "colorbar": {
              "outlinewidth": 0,
              "ticks": ""
             }
            },
            "type": "scattercarpet"
           }
          ],
          "scattergeo": [
           {
            "marker": {
             "colorbar": {
              "outlinewidth": 0,
              "ticks": ""
             }
            },
            "type": "scattergeo"
           }
          ],
          "scattergl": [
           {
            "marker": {
             "colorbar": {
              "outlinewidth": 0,
              "ticks": ""
             }
            },
            "type": "scattergl"
           }
          ],
          "scattermapbox": [
           {
            "marker": {
             "colorbar": {
              "outlinewidth": 0,
              "ticks": ""
             }
            },
            "type": "scattermapbox"
           }
          ],
          "scatterpolar": [
           {
            "marker": {
             "colorbar": {
              "outlinewidth": 0,
              "ticks": ""
             }
            },
            "type": "scatterpolar"
           }
          ],
          "scatterpolargl": [
           {
            "marker": {
             "colorbar": {
              "outlinewidth": 0,
              "ticks": ""
             }
            },
            "type": "scatterpolargl"
           }
          ],
          "scatterternary": [
           {
            "marker": {
             "colorbar": {
              "outlinewidth": 0,
              "ticks": ""
             }
            },
            "type": "scatterternary"
           }
          ],
          "surface": [
           {
            "colorbar": {
             "outlinewidth": 0,
             "ticks": ""
            },
            "colorscale": [
             [
              0,
              "#0d0887"
             ],
             [
              0.1111111111111111,
              "#46039f"
             ],
             [
              0.2222222222222222,
              "#7201a8"
             ],
             [
              0.3333333333333333,
              "#9c179e"
             ],
             [
              0.4444444444444444,
              "#bd3786"
             ],
             [
              0.5555555555555556,
              "#d8576b"
             ],
             [
              0.6666666666666666,
              "#ed7953"
             ],
             [
              0.7777777777777778,
              "#fb9f3a"
             ],
             [
              0.8888888888888888,
              "#fdca26"
             ],
             [
              1,
              "#f0f921"
             ]
            ],
            "type": "surface"
           }
          ],
          "table": [
           {
            "cells": {
             "fill": {
              "color": "#EBF0F8"
             },
             "line": {
              "color": "white"
             }
            },
            "header": {
             "fill": {
              "color": "#C8D4E3"
             },
             "line": {
              "color": "white"
             }
            },
            "type": "table"
           }
          ]
         },
         "layout": {
          "annotationdefaults": {
           "arrowcolor": "#2a3f5f",
           "arrowhead": 0,
           "arrowwidth": 1
          },
          "autotypenumbers": "strict",
          "coloraxis": {
           "colorbar": {
            "outlinewidth": 0,
            "ticks": ""
           }
          },
          "colorscale": {
           "diverging": [
            [
             0,
             "#8e0152"
            ],
            [
             0.1,
             "#c51b7d"
            ],
            [
             0.2,
             "#de77ae"
            ],
            [
             0.3,
             "#f1b6da"
            ],
            [
             0.4,
             "#fde0ef"
            ],
            [
             0.5,
             "#f7f7f7"
            ],
            [
             0.6,
             "#e6f5d0"
            ],
            [
             0.7,
             "#b8e186"
            ],
            [
             0.8,
             "#7fbc41"
            ],
            [
             0.9,
             "#4d9221"
            ],
            [
             1,
             "#276419"
            ]
           ],
           "sequential": [
            [
             0,
             "#0d0887"
            ],
            [
             0.1111111111111111,
             "#46039f"
            ],
            [
             0.2222222222222222,
             "#7201a8"
            ],
            [
             0.3333333333333333,
             "#9c179e"
            ],
            [
             0.4444444444444444,
             "#bd3786"
            ],
            [
             0.5555555555555556,
             "#d8576b"
            ],
            [
             0.6666666666666666,
             "#ed7953"
            ],
            [
             0.7777777777777778,
             "#fb9f3a"
            ],
            [
             0.8888888888888888,
             "#fdca26"
            ],
            [
             1,
             "#f0f921"
            ]
           ],
           "sequentialminus": [
            [
             0,
             "#0d0887"
            ],
            [
             0.1111111111111111,
             "#46039f"
            ],
            [
             0.2222222222222222,
             "#7201a8"
            ],
            [
             0.3333333333333333,
             "#9c179e"
            ],
            [
             0.4444444444444444,
             "#bd3786"
            ],
            [
             0.5555555555555556,
             "#d8576b"
            ],
            [
             0.6666666666666666,
             "#ed7953"
            ],
            [
             0.7777777777777778,
             "#fb9f3a"
            ],
            [
             0.8888888888888888,
             "#fdca26"
            ],
            [
             1,
             "#f0f921"
            ]
           ]
          },
          "colorway": [
           "#636efa",
           "#EF553B",
           "#00cc96",
           "#ab63fa",
           "#FFA15A",
           "#19d3f3",
           "#FF6692",
           "#B6E880",
           "#FF97FF",
           "#FECB52"
          ],
          "font": {
           "color": "#2a3f5f"
          },
          "geo": {
           "bgcolor": "white",
           "lakecolor": "white",
           "landcolor": "#E5ECF6",
           "showlakes": true,
           "showland": true,
           "subunitcolor": "white"
          },
          "hoverlabel": {
           "align": "left"
          },
          "hovermode": "closest",
          "mapbox": {
           "style": "light"
          },
          "paper_bgcolor": "white",
          "plot_bgcolor": "#E5ECF6",
          "polar": {
           "angularaxis": {
            "gridcolor": "white",
            "linecolor": "white",
            "ticks": ""
           },
           "bgcolor": "#E5ECF6",
           "radialaxis": {
            "gridcolor": "white",
            "linecolor": "white",
            "ticks": ""
           }
          },
          "scene": {
           "xaxis": {
            "backgroundcolor": "#E5ECF6",
            "gridcolor": "white",
            "gridwidth": 2,
            "linecolor": "white",
            "showbackground": true,
            "ticks": "",
            "zerolinecolor": "white"
           },
           "yaxis": {
            "backgroundcolor": "#E5ECF6",
            "gridcolor": "white",
            "gridwidth": 2,
            "linecolor": "white",
            "showbackground": true,
            "ticks": "",
            "zerolinecolor": "white"
           },
           "zaxis": {
            "backgroundcolor": "#E5ECF6",
            "gridcolor": "white",
            "gridwidth": 2,
            "linecolor": "white",
            "showbackground": true,
            "ticks": "",
            "zerolinecolor": "white"
           }
          },
          "shapedefaults": {
           "line": {
            "color": "#2a3f5f"
           }
          },
          "ternary": {
           "aaxis": {
            "gridcolor": "white",
            "linecolor": "white",
            "ticks": ""
           },
           "baxis": {
            "gridcolor": "white",
            "linecolor": "white",
            "ticks": ""
           },
           "bgcolor": "#E5ECF6",
           "caxis": {
            "gridcolor": "white",
            "linecolor": "white",
            "ticks": ""
           }
          },
          "title": {
           "x": 0.05
          },
          "xaxis": {
           "automargin": true,
           "gridcolor": "white",
           "linecolor": "white",
           "ticks": "",
           "title": {
            "standoff": 15
           },
           "zerolinecolor": "white",
           "zerolinewidth": 2
          },
          "yaxis": {
           "automargin": true,
           "gridcolor": "white",
           "linecolor": "white",
           "ticks": "",
           "title": {
            "standoff": 15
           },
           "zerolinecolor": "white",
           "zerolinewidth": 2
          }
         }
        },
        "xaxis": {
         "anchor": "y",
         "domain": [
          0,
          1
         ],
         "title": {
          "text": "name"
         }
        },
        "yaxis": {
         "anchor": "x",
         "domain": [
          0,
          1
         ],
         "title": {
          "text": "value"
         }
        }
       }
      },
      "text/html": [
       "<div>                            <div id=\"cb35d7c8-b620-41ea-ad37-20668099885d\" class=\"plotly-graph-div\" style=\"height:525px; width:100%;\"></div>            <script type=\"text/javascript\">                require([\"plotly\"], function(Plotly) {                    window.PLOTLYENV=window.PLOTLYENV || {};                                    if (document.getElementById(\"cb35d7c8-b620-41ea-ad37-20668099885d\")) {                    Plotly.newPlot(                        \"cb35d7c8-b620-41ea-ad37-20668099885d\",                        [{\"alignmentgroup\": \"True\", \"hovertemplate\": \"Plateforme boursiere=0<br>name=%{x}<br>value=%{y}<extra></extra>\", \"legendgroup\": \"0\", \"marker\": {\"color\": \"#636efa\"}, \"name\": \"0\", \"offsetgroup\": \"0\", \"orientation\": \"v\", \"showlegend\": true, \"textposition\": \"auto\", \"type\": \"bar\", \"x\": [\"ask_0\", \"bid_0\"], \"xaxis\": \"x\", \"y\": [54.5, 24.5], \"yaxis\": \"y\"}, {\"alignmentgroup\": \"True\", \"hovertemplate\": \"Plateforme boursiere=1<br>name=%{x}<br>value=%{y}<extra></extra>\", \"legendgroup\": \"1\", \"marker\": {\"color\": \"#EF553B\"}, \"name\": \"1\", \"offsetgroup\": \"1\", \"orientation\": \"v\", \"showlegend\": true, \"textposition\": \"auto\", \"type\": \"bar\", \"x\": [\"ask_1\", \"bid_1\"], \"xaxis\": \"x\", \"y\": [54.5, 31.5], \"yaxis\": \"y\"}, {\"alignmentgroup\": \"True\", \"hovertemplate\": \"Plateforme boursiere=2<br>name=%{x}<br>value=%{y}<extra></extra>\", \"legendgroup\": \"2\", \"marker\": {\"color\": \"#00cc96\"}, \"name\": \"2\", \"offsetgroup\": \"2\", \"orientation\": \"v\", \"showlegend\": true, \"textposition\": \"auto\", \"type\": \"bar\", \"x\": [\"ask_2\", \"bid_2\"], \"xaxis\": \"x\", \"y\": [53.5, 45.5], \"yaxis\": \"y\"}, {\"alignmentgroup\": \"True\", \"hovertemplate\": \"Plateforme boursiere=3<br>name=%{x}<br>value=%{y}<extra></extra>\", \"legendgroup\": \"3\", \"marker\": {\"color\": \"#ab63fa\"}, \"name\": \"3\", \"offsetgroup\": \"3\", \"orientation\": \"v\", \"showlegend\": true, \"textposition\": \"auto\", \"type\": \"bar\", \"x\": [\"ask_3\", \"bid_3\"], \"xaxis\": \"x\", \"y\": [54.5, 24.5], \"yaxis\": \"y\"}, {\"alignmentgroup\": \"True\", \"hovertemplate\": \"Plateforme boursiere=4<br>name=%{x}<br>value=%{y}<extra></extra>\", \"legendgroup\": \"4\", \"marker\": {\"color\": \"#FFA15A\"}, \"name\": \"4\", \"offsetgroup\": \"4\", \"orientation\": \"v\", \"showlegend\": true, \"textposition\": \"auto\", \"type\": \"bar\", \"x\": [\"ask_4\", \"bid_4\"], \"xaxis\": \"x\", \"y\": [54.5, 41.5], \"yaxis\": \"y\"}, {\"alignmentgroup\": \"True\", \"hovertemplate\": \"Plateforme boursiere=5<br>name=%{x}<br>value=%{y}<extra></extra>\", \"legendgroup\": \"5\", \"marker\": {\"color\": \"#19d3f3\"}, \"name\": \"5\", \"offsetgroup\": \"5\", \"orientation\": \"v\", \"showlegend\": true, \"textposition\": \"auto\", \"type\": \"bar\", \"x\": [\"ask_5\", \"bid_5\"], \"xaxis\": \"x\", \"y\": [54.5, 46.5], \"yaxis\": \"y\"}],                        {\"barmode\": \"relative\", \"legend\": {\"title\": {\"text\": \"Plateforme boursiere\"}, \"tracegroupgap\": 0}, \"margin\": {\"t\": 60}, \"template\": {\"data\": {\"bar\": [{\"error_x\": {\"color\": \"#2a3f5f\"}, \"error_y\": {\"color\": \"#2a3f5f\"}, \"marker\": {\"line\": {\"color\": \"#E5ECF6\", \"width\": 0.5}}, \"type\": \"bar\"}], \"barpolar\": [{\"marker\": {\"line\": {\"color\": \"#E5ECF6\", \"width\": 0.5}}, \"type\": \"barpolar\"}], \"carpet\": [{\"aaxis\": {\"endlinecolor\": \"#2a3f5f\", \"gridcolor\": \"white\", \"linecolor\": \"white\", \"minorgridcolor\": \"white\", \"startlinecolor\": \"#2a3f5f\"}, \"baxis\": {\"endlinecolor\": \"#2a3f5f\", \"gridcolor\": \"white\", \"linecolor\": \"white\", \"minorgridcolor\": \"white\", \"startlinecolor\": \"#2a3f5f\"}, \"type\": \"carpet\"}], \"choropleth\": [{\"colorbar\": {\"outlinewidth\": 0, \"ticks\": \"\"}, \"type\": \"choropleth\"}], \"contour\": [{\"colorbar\": {\"outlinewidth\": 0, \"ticks\": \"\"}, \"colorscale\": [[0.0, \"#0d0887\"], [0.1111111111111111, \"#46039f\"], [0.2222222222222222, \"#7201a8\"], [0.3333333333333333, \"#9c179e\"], [0.4444444444444444, \"#bd3786\"], [0.5555555555555556, \"#d8576b\"], [0.6666666666666666, \"#ed7953\"], [0.7777777777777778, \"#fb9f3a\"], [0.8888888888888888, \"#fdca26\"], [1.0, \"#f0f921\"]], \"type\": \"contour\"}], \"contourcarpet\": [{\"colorbar\": {\"outlinewidth\": 0, \"ticks\": \"\"}, \"type\": \"contourcarpet\"}], \"heatmap\": [{\"colorbar\": {\"outlinewidth\": 0, \"ticks\": \"\"}, \"colorscale\": [[0.0, \"#0d0887\"], [0.1111111111111111, \"#46039f\"], [0.2222222222222222, \"#7201a8\"], [0.3333333333333333, \"#9c179e\"], [0.4444444444444444, \"#bd3786\"], [0.5555555555555556, \"#d8576b\"], [0.6666666666666666, \"#ed7953\"], [0.7777777777777778, \"#fb9f3a\"], [0.8888888888888888, \"#fdca26\"], [1.0, \"#f0f921\"]], \"type\": \"heatmap\"}], \"heatmapgl\": [{\"colorbar\": {\"outlinewidth\": 0, \"ticks\": \"\"}, \"colorscale\": [[0.0, \"#0d0887\"], [0.1111111111111111, \"#46039f\"], [0.2222222222222222, \"#7201a8\"], [0.3333333333333333, \"#9c179e\"], [0.4444444444444444, \"#bd3786\"], [0.5555555555555556, \"#d8576b\"], [0.6666666666666666, \"#ed7953\"], [0.7777777777777778, \"#fb9f3a\"], [0.8888888888888888, \"#fdca26\"], [1.0, \"#f0f921\"]], \"type\": \"heatmapgl\"}], \"histogram\": [{\"marker\": {\"colorbar\": {\"outlinewidth\": 0, \"ticks\": \"\"}}, \"type\": \"histogram\"}], \"histogram2d\": [{\"colorbar\": {\"outlinewidth\": 0, \"ticks\": \"\"}, \"colorscale\": [[0.0, \"#0d0887\"], [0.1111111111111111, \"#46039f\"], [0.2222222222222222, \"#7201a8\"], [0.3333333333333333, \"#9c179e\"], [0.4444444444444444, \"#bd3786\"], [0.5555555555555556, \"#d8576b\"], [0.6666666666666666, \"#ed7953\"], [0.7777777777777778, \"#fb9f3a\"], [0.8888888888888888, \"#fdca26\"], [1.0, \"#f0f921\"]], \"type\": \"histogram2d\"}], \"histogram2dcontour\": [{\"colorbar\": {\"outlinewidth\": 0, \"ticks\": \"\"}, \"colorscale\": [[0.0, \"#0d0887\"], [0.1111111111111111, \"#46039f\"], [0.2222222222222222, \"#7201a8\"], [0.3333333333333333, \"#9c179e\"], [0.4444444444444444, \"#bd3786\"], [0.5555555555555556, \"#d8576b\"], [0.6666666666666666, \"#ed7953\"], [0.7777777777777778, \"#fb9f3a\"], [0.8888888888888888, \"#fdca26\"], [1.0, \"#f0f921\"]], \"type\": \"histogram2dcontour\"}], \"mesh3d\": [{\"colorbar\": {\"outlinewidth\": 0, \"ticks\": \"\"}, \"type\": \"mesh3d\"}], \"parcoords\": [{\"line\": {\"colorbar\": {\"outlinewidth\": 0, \"ticks\": \"\"}}, \"type\": \"parcoords\"}], \"pie\": [{\"automargin\": true, \"type\": \"pie\"}], \"scatter\": [{\"marker\": {\"colorbar\": {\"outlinewidth\": 0, \"ticks\": \"\"}}, \"type\": \"scatter\"}], \"scatter3d\": [{\"line\": {\"colorbar\": {\"outlinewidth\": 0, \"ticks\": \"\"}}, \"marker\": {\"colorbar\": {\"outlinewidth\": 0, \"ticks\": \"\"}}, \"type\": \"scatter3d\"}], \"scattercarpet\": [{\"marker\": {\"colorbar\": {\"outlinewidth\": 0, \"ticks\": \"\"}}, \"type\": \"scattercarpet\"}], \"scattergeo\": [{\"marker\": {\"colorbar\": {\"outlinewidth\": 0, \"ticks\": \"\"}}, \"type\": \"scattergeo\"}], \"scattergl\": [{\"marker\": {\"colorbar\": {\"outlinewidth\": 0, \"ticks\": \"\"}}, \"type\": \"scattergl\"}], \"scattermapbox\": [{\"marker\": {\"colorbar\": {\"outlinewidth\": 0, \"ticks\": \"\"}}, \"type\": \"scattermapbox\"}], \"scatterpolar\": [{\"marker\": {\"colorbar\": {\"outlinewidth\": 0, \"ticks\": \"\"}}, \"type\": \"scatterpolar\"}], \"scatterpolargl\": [{\"marker\": {\"colorbar\": {\"outlinewidth\": 0, \"ticks\": \"\"}}, \"type\": \"scatterpolargl\"}], \"scatterternary\": [{\"marker\": {\"colorbar\": {\"outlinewidth\": 0, \"ticks\": \"\"}}, \"type\": \"scatterternary\"}], \"surface\": [{\"colorbar\": {\"outlinewidth\": 0, \"ticks\": \"\"}, \"colorscale\": [[0.0, \"#0d0887\"], [0.1111111111111111, \"#46039f\"], [0.2222222222222222, \"#7201a8\"], [0.3333333333333333, \"#9c179e\"], [0.4444444444444444, \"#bd3786\"], [0.5555555555555556, \"#d8576b\"], [0.6666666666666666, \"#ed7953\"], [0.7777777777777778, \"#fb9f3a\"], [0.8888888888888888, \"#fdca26\"], [1.0, \"#f0f921\"]], \"type\": \"surface\"}], \"table\": [{\"cells\": {\"fill\": {\"color\": \"#EBF0F8\"}, \"line\": {\"color\": \"white\"}}, \"header\": {\"fill\": {\"color\": \"#C8D4E3\"}, \"line\": {\"color\": \"white\"}}, \"type\": \"table\"}]}, \"layout\": {\"annotationdefaults\": {\"arrowcolor\": \"#2a3f5f\", \"arrowhead\": 0, \"arrowwidth\": 1}, \"autotypenumbers\": \"strict\", \"coloraxis\": {\"colorbar\": {\"outlinewidth\": 0, \"ticks\": \"\"}}, \"colorscale\": {\"diverging\": [[0, \"#8e0152\"], [0.1, \"#c51b7d\"], [0.2, \"#de77ae\"], [0.3, \"#f1b6da\"], [0.4, \"#fde0ef\"], [0.5, \"#f7f7f7\"], [0.6, \"#e6f5d0\"], [0.7, \"#b8e186\"], [0.8, \"#7fbc41\"], [0.9, \"#4d9221\"], [1, \"#276419\"]], \"sequential\": [[0.0, \"#0d0887\"], [0.1111111111111111, \"#46039f\"], [0.2222222222222222, \"#7201a8\"], [0.3333333333333333, \"#9c179e\"], [0.4444444444444444, \"#bd3786\"], [0.5555555555555556, \"#d8576b\"], [0.6666666666666666, \"#ed7953\"], [0.7777777777777778, \"#fb9f3a\"], [0.8888888888888888, \"#fdca26\"], [1.0, \"#f0f921\"]], \"sequentialminus\": [[0.0, \"#0d0887\"], [0.1111111111111111, \"#46039f\"], [0.2222222222222222, \"#7201a8\"], [0.3333333333333333, \"#9c179e\"], [0.4444444444444444, \"#bd3786\"], [0.5555555555555556, \"#d8576b\"], [0.6666666666666666, \"#ed7953\"], [0.7777777777777778, \"#fb9f3a\"], [0.8888888888888888, \"#fdca26\"], [1.0, \"#f0f921\"]]}, \"colorway\": [\"#636efa\", \"#EF553B\", \"#00cc96\", \"#ab63fa\", \"#FFA15A\", \"#19d3f3\", \"#FF6692\", \"#B6E880\", \"#FF97FF\", \"#FECB52\"], \"font\": {\"color\": \"#2a3f5f\"}, \"geo\": {\"bgcolor\": \"white\", \"lakecolor\": \"white\", \"landcolor\": \"#E5ECF6\", \"showlakes\": true, \"showland\": true, \"subunitcolor\": \"white\"}, \"hoverlabel\": {\"align\": \"left\"}, \"hovermode\": \"closest\", \"mapbox\": {\"style\": \"light\"}, \"paper_bgcolor\": \"white\", \"plot_bgcolor\": \"#E5ECF6\", \"polar\": {\"angularaxis\": {\"gridcolor\": \"white\", \"linecolor\": \"white\", \"ticks\": \"\"}, \"bgcolor\": \"#E5ECF6\", \"radialaxis\": {\"gridcolor\": \"white\", \"linecolor\": \"white\", \"ticks\": \"\"}}, \"scene\": {\"xaxis\": {\"backgroundcolor\": \"#E5ECF6\", \"gridcolor\": \"white\", \"gridwidth\": 2, \"linecolor\": \"white\", \"showbackground\": true, \"ticks\": \"\", \"zerolinecolor\": \"white\"}, \"yaxis\": {\"backgroundcolor\": \"#E5ECF6\", \"gridcolor\": \"white\", \"gridwidth\": 2, \"linecolor\": \"white\", \"showbackground\": true, \"ticks\": \"\", \"zerolinecolor\": \"white\"}, \"zaxis\": {\"backgroundcolor\": \"#E5ECF6\", \"gridcolor\": \"white\", \"gridwidth\": 2, \"linecolor\": \"white\", \"showbackground\": true, \"ticks\": \"\", \"zerolinecolor\": \"white\"}}, \"shapedefaults\": {\"line\": {\"color\": \"#2a3f5f\"}}, \"ternary\": {\"aaxis\": {\"gridcolor\": \"white\", \"linecolor\": \"white\", \"ticks\": \"\"}, \"baxis\": {\"gridcolor\": \"white\", \"linecolor\": \"white\", \"ticks\": \"\"}, \"bgcolor\": \"#E5ECF6\", \"caxis\": {\"gridcolor\": \"white\", \"linecolor\": \"white\", \"ticks\": \"\"}}, \"title\": {\"x\": 0.05}, \"xaxis\": {\"automargin\": true, \"gridcolor\": \"white\", \"linecolor\": \"white\", \"ticks\": \"\", \"title\": {\"standoff\": 15}, \"zerolinecolor\": \"white\", \"zerolinewidth\": 2}, \"yaxis\": {\"automargin\": true, \"gridcolor\": \"white\", \"linecolor\": \"white\", \"ticks\": \"\", \"title\": {\"standoff\": 15}, \"zerolinecolor\": \"white\", \"zerolinewidth\": 2}}}, \"xaxis\": {\"anchor\": \"y\", \"domain\": [0.0, 1.0], \"title\": {\"text\": \"name\"}}, \"yaxis\": {\"anchor\": \"x\", \"domain\": [0.0, 1.0], \"title\": {\"text\": \"value\"}}},                        {\"responsive\": true}                    ).then(function(){\n",
       "                            \n",
       "var gd = document.getElementById('cb35d7c8-b620-41ea-ad37-20668099885d');\n",
       "var x = new MutationObserver(function (mutations, observer) {{\n",
       "        var display = window.getComputedStyle(gd).display;\n",
       "        if (!display || display === 'none') {{\n",
       "            console.log([gd, 'removed!']);\n",
       "            Plotly.purge(gd);\n",
       "            observer.disconnect();\n",
       "        }}\n",
       "}});\n",
       "\n",
       "// Listen for the removal of the full notebook cells\n",
       "var notebookContainer = gd.closest('#notebook-container');\n",
       "if (notebookContainer) {{\n",
       "    x.observe(notebookContainer, {childList: true});\n",
       "}}\n",
       "\n",
       "// Listen for the clearing of the current output cell\n",
       "var outputEl = gd.closest('.output');\n",
       "if (outputEl) {{\n",
       "    x.observe(outputEl, {childList: true});\n",
       "}}\n",
       "\n",
       "                        })                };                });            </script>        </div>"
      ]
     },
     "metadata": {},
     "output_type": "display_data"
    }
   ],
   "source": [
    "import plotly.express as px\n",
    "\n",
    "fig = px.bar(onlyAskAndBid, x='name', y='value',color=\"venue\", labels={\"venue\":\"Plateforme boursiere\"})\n",
    "fig.show()"
   ]
  },
  {
   "cell_type": "code",
   "execution_count": 10,
   "metadata": {},
   "outputs": [],
   "source": [
    "def getTrades(index,df):\n",
    "    point=df.iloc[index]\n",
    "    emptydict={\"price\":[],\"qty\":[],\"venue\":[],\"tod\":[]}\n",
    "    for key,data in point.to_dict().items():\n",
    "        if key[1]==\"price\":\n",
    "            emptydict[\"price\"].append(data)\n",
    "        if key[1]==\"qty\":\n",
    "            emptydict[\"qty\"].append(data)\n",
    "        if key[1]==\"source_id\":\n",
    "            emptydict[\"venue\"].append(data)\n",
    "        if key[1]==\"tod\":\n",
    "            emptydict[\"tod\"].append(data)\n",
    "    \n",
    "    onlyTrades=pd.DataFrame(emptydict).sort_values(by=\"tod\")\n",
    "    onlyTrades.tod=onlyTrades.tod\n",
    "    onlyTrades.tod=onlyTrades.tod.astype(str)\n",
    "    onlyTrades.price=onlyTrades.price+10\n",
    "    onlyTrades.venue=onlyTrades.venue.astype(str)\n",
    "    return onlyTrades"
   ]
  },
  {
   "cell_type": "code",
   "execution_count": 12,
   "metadata": {},
   "outputs": [],
   "source": [
    "import seaborn as sns\n",
    "sns.set(rc={'figure.figsize':(11.7,8.27)})\n",
    "sns.set_style(\"whitegrid\")"
   ]
  },
  {
   "cell_type": "code",
   "execution_count": 13,
   "metadata": {
    "scrolled": false
   },
   "outputs": [
    {
     "data": {
      "text/plain": [
       "[Text(0, 0.5, 'Price'), Text(0.5, 0, 'TimeStamp in milliseconds')]"
      ]
     },
     "execution_count": 13,
     "metadata": {},
     "output_type": "execute_result"
    },
    {
     "data": {
      "image/png": "[encoded data removed]",
      "text/plain": [
       "<Figure size 842.4x595.44 with 1 Axes>"
      ]
     },
     "metadata": {},
     "output_type": "display_data"
    }
   ],
   "source": [
    "onlyTrades=getTrades(0,concat)\n",
    "sns.set(rc={'figure.figsize':(11.7,8.27)})\n",
    "sns.set_style(\"whitegrid\")\n",
    "ax=sns.barplot(data=onlyTrades,x='tod',y='price')\n",
    "ax.set(xlabel='TimeStamp in milliseconds', ylabel='Price')\n"
   ]
  },
  {
   "cell_type": "markdown",
   "metadata": {},
   "source": [
    "# Target Variable Balance?"
   ]
  },
  {
   "cell_type": "code",
   "execution_count": 16,
   "metadata": {},
   "outputs": [
    {
     "data": {
      "text/plain": [
       "<AxesSubplot:xlabel='source_id', ylabel='Count'>"
      ]
     },
     "execution_count": 16,
     "metadata": {},
     "output_type": "execute_result"
    },
    {
     "data": {
      "image/png": "[encoded data removed]",
      "text/plain": [
       "<Figure size 842.4x595.44 with 1 Axes>"
      ]
     },
     "metadata": {},
     "output_type": "display_data"
    }
   ],
   "source": [
    "sns.histplot(data=concat[\"source_id\"])"
   ]
  },
  {
   "cell_type": "markdown",
   "metadata": {},
   "source": [
    "# Trends by stock\n"
   ]
  },
  {
   "cell_type": "markdown",
   "metadata": {},
   "source": [
    "## Existe t-il des stocks sur ou sous représentés?"
   ]
  },
  {
   "cell_type": "code",
   "execution_count": 11,
   "metadata": {},
   "outputs": [
    {
     "data": {
      "text/plain": [
       "<AxesSubplot:xlabel='stock_id', ylabel='Count'>"
      ]
     },
     "execution_count": 11,
     "metadata": {},
     "output_type": "execute_result"
    },
    {
     "data": {
      "image/png": "[encoded data removed]",
      "text/plain": [
       "<Figure size 842.4x595.44 with 1 Axes>"
      ]
     },
     "metadata": {},
     "output_type": "display_data"
    }
   ],
   "source": [
    "sns.histplot(data=concat[\"stock_id\"])"
   ]
  },
  {
   "cell_type": "markdown",
   "metadata": {},
   "source": [
    "## Existe t-il des stocks ayant une venue dominante?"
   ]
  },
  {
   "cell_type": "code",
   "execution_count": 20,
   "metadata": {},
   "outputs": [
    {
     "data": {
      "text/plain": [
       "<matplotlib.axes._subplots.AxesSubplot at 0x20f08cc0f10>"
      ]
     },
     "execution_count": 20,
     "metadata": {},
     "output_type": "execute_result"
    },
    {
     "data": {
      "image/png": "[encoded data removed]",
      "text/plain": [
       "<Figure size 842.4x595.44 with 1 Axes>"
      ]
     },
     "metadata": {},
     "output_type": "display_data"
    }
   ],
   "source": [
    "import seaborn as sns\n",
    "groupby=concat.groupby([\"stock_id\",\"source_id\"]).count()[(0,\"ask\")]\n",
    "emptydict={\"stock_id\":[],\"maxVenue\":[],\"maxVenueCount\":[],\"maxVenuePercent\":[]}\n",
    "for i in groupby.index.get_level_values('stock_id').unique():\n",
    "    groupbyStockAndVenue=groupby[i]\n",
    "    maxVenueCount=groupbyStockAndVenue.max()\n",
    "    maxVenue=groupbyStockAndVenue.idxmax()\n",
    "    sumCount=groupbyStockAndVenue.sum()\n",
    "    emptydict[\"stock_id\"].append(i)\n",
    "    emptydict[\"maxVenue\"].append(maxVenue)\n",
    "    emptydict[\"maxVenueCount\"].append(maxVenueCount)\n",
    "    emptydict[\"maxVenuePercent\"].append((maxVenueCount/sumCount)*100)\n",
    "GroupedByStock=pd.DataFrame(emptydict)\n",
    "\n",
    "\n",
    "sns.distplot(GroupedByStock[\"maxVenuePercent\"])\n",
    "\n"
   ]
  },
  {
   "cell_type": "code",
   "execution_count": 21,
   "metadata": {},
   "outputs": [
    {
     "data": {
      "text/plain": [
       "array([4, 2, 3], dtype=int64)"
      ]
     },
     "execution_count": 21,
     "metadata": {},
     "output_type": "execute_result"
    }
   ],
   "source": [
    "#Quelle venue est favorite?\n",
    "GroupedByStock.maxVenue.unique()\n",
    "\n",
    "\n",
    "#Il en existe que la 4"
   ]
  },
  {
   "cell_type": "markdown",
   "metadata": {},
   "source": [
    "## Existe t-il des jours ayant une venue dominante?"
   ]
  },
  {
   "cell_type": "code",
   "execution_count": 22,
   "metadata": {},
   "outputs": [
    {
     "data": {
      "text/plain": [
       "<matplotlib.axes._subplots.AxesSubplot at 0x20f08b80e80>"
      ]
     },
     "execution_count": 22,
     "metadata": {},
     "output_type": "execute_result"
    },
    {
     "data": {
      "image/png": "[encoded data removed]",
      "text/plain": [
       "<Figure size 842.4x595.44 with 1 Axes>"
      ]
     },
     "metadata": {},
     "output_type": "display_data"
    }
   ],
   "source": [
    "groupby=concat.groupby([\"day_id\",\"source_id\"]).count()[(0,\"ask\")]\n",
    "emptydict={\"day_id\":[],\"maxVenue\":[],\"maxVenueCount\":[],\"maxVenuePercent\":[]}\n",
    "for i in groupby.index.get_level_values('day_id').unique():\n",
    "    groupbyStockAndVenue=groupby[i]\n",
    "    maxVenueCount=groupbyStockAndVenue.max()\n",
    "    maxVenue=groupbyStockAndVenue.idxmax()\n",
    "    sumCount=groupbyStockAndVenue.sum()\n",
    "    emptydict[\"day_id\"].append(i)\n",
    "    emptydict[\"maxVenue\"].append(maxVenue)\n",
    "    emptydict[\"maxVenueCount\"].append(maxVenueCount)\n",
    "    emptydict[\"maxVenuePercent\"].append((maxVenueCount/sumCount)*100)\n",
    "GroupedByDay=pd.DataFrame(emptydict)\n",
    "\n",
    "\n",
    "sns.distplot(GroupedByDay[\"maxVenuePercent\"])\n",
    "    \n"
   ]
  },
  {
   "cell_type": "code",
   "execution_count": 23,
   "metadata": {},
   "outputs": [
    {
     "data": {
      "text/plain": [
       "array([4, 2], dtype=int64)"
      ]
     },
     "execution_count": 23,
     "metadata": {},
     "output_type": "execute_result"
    }
   ],
   "source": [
    "#Quelle venue est favorite?\n",
    "GroupedByDay.maxVenue.unique()\n",
    "\n",
    "\n",
    "#Il en existe que la 4"
   ]
  },
  {
   "cell_type": "markdown",
   "metadata": {},
   "source": [
    "# Feature engineering"
   ]
  },
  {
   "cell_type": "code",
   "execution_count": 37,
   "metadata": {},
   "outputs": [],
   "source": [
    "def featEngineering(df):\n",
    "    #venue with best ask => venue with lowest ask\n",
    "    askColumns=[(0,\"ask\"),(1,\"ask\"),(2,\"ask\"),(3,\"ask\"),(4,\"ask\"),(5,\"ask\")]\n",
    "    df[\"best_ask_venue\"]=df[askColumns].idxmin(axis=1).apply(lambda s: s[0])\n",
    "\n",
    "    #venue with best bid=> venue with highest bid\n",
    "    bidColumns=[(0,\"bid\"),(1,\"bid\"),(2,\"bid\"),(3,\"bid\"),(4,\"bid\"),(5,\"bid\")]\n",
    "    df[\"best_bid_venue\"]=df[bidColumns].idxmax(axis=1).apply(lambda s: s[0])\n",
    "    #venue with largest asksize\n",
    "    askSizeColumns=[(0,\"ask_size\"),(1,\"ask_size\"),(2,\"ask_size\"),(3,\"ask_size\"),(4,\"ask_size\"),(5,\"ask_size\")]\n",
    "    df[\"best_ask_size_venue\"]=df[askSizeColumns].idxmax(axis=1).apply(lambda s: s[0])\n",
    "\n",
    "    #venue with largets bidsize\n",
    "    bidSizeColumns=[(0,\"bid_size\"),(1,\"bid_size\"),(2,\"bid_size\"),(3,\"bid_size\"),(4,\"bid_size\"),(5,\"bid_size\")]\n",
    "    df[\"best_bid_size_venue\"]=df[bidSizeColumns].idxmax(axis=1).apply(lambda s: s[0])\n",
    "\n",
    "    #Convert timestamp to hour\n",
    "    def millisecondsToHours(millis):\n",
    "        return int((millis/(1000000*60*60)))\n",
    "\n",
    "    df[\"hour\"]=df[(0,\"tod\")].apply(lambda x:millisecondsToHours(x))\n",
    "    return df\n",
    "\n",
    "train_data=featEngineering(train_data)\n",
    "test_data=featEngineering(test_data)\n"
   ]
  },
  {
   "cell_type": "code",
   "execution_count": 41,
   "metadata": {},
   "outputs": [],
   "source": [
    "from sklearn.model_selection import train_test_split\n",
    "concat=pd.concat([train_data,labels],axis=1).drop(columns=[\"ID\"]).dropna()\n",
    "y=concat[\"source_id\"]\n",
    "X=concat.drop(columns=[\"source_id\"])\n",
    "# X_train, X_test, y_train, y_test = train_test_split(X, y, test_size=0.5, random_state=0)"
   ]
  },
  {
   "cell_type": "code",
   "execution_count": 42,
   "metadata": {},
   "outputs": [
    {
     "data": {
      "text/plain": [
       "RandomForestClassifier(n_estimators=10)"
      ]
     },
     "execution_count": 42,
     "metadata": {},
     "output_type": "execute_result"
    }
   ],
   "source": [
    "from sklearn.ensemble import RandomForestClassifier\n",
    "\n",
    "clf = RandomForestClassifier(n_estimators=10)\n",
    "clf.fit(X, y)\n",
    "# y_pred = clf.predict(X_test)"
   ]
  },
  {
   "cell_type": "code",
   "execution_count": 52,
   "metadata": {},
   "outputs": [
    {
     "data": {
      "text/plain": [
       "<matplotlib.axes._subplots.AxesSubplot at 0x20f095584c0>"
      ]
     },
     "execution_count": 52,
     "metadata": {},
     "output_type": "execute_result"
    },
    {
     "data": {
      "image/png": "[encoded data removed]",
      "text/plain": [
       "<Figure size 842.4x595.44 with 1 Axes>"
      ]
     },
     "metadata": {},
     "output_type": "display_data"
    }
   ],
   "source": [
    "feat_importances = pd.Series(clf.feature_importances_, index=concat.columns[:101])\n",
    "feat_importances.nlargest(30).plot(kind='bar')"
   ]
  },
  {
   "cell_type": "markdown",
   "metadata": {},
   "source": [
    "# Modelling"
   ]
  },
  {
   "cell_type": "markdown",
   "metadata": {},
   "source": [
    "Logistic Regression :"
   ]
  },
  {
   "cell_type": "code",
   "execution_count": 54,
   "metadata": {},
   "outputs": [
    {
     "data": {
      "text/plain": [
       "0.3383233907377531"
      ]
     },
     "execution_count": 54,
     "metadata": {},
     "output_type": "execute_result"
    }
   ],
   "source": [
    "from sklearn.model_selection import train_test_split\n",
    "from sklearn.linear_model import Ridge\n",
    "from sklearn.linear_model import LogisticRegression\n",
    "import numpy as np\n",
    "\n",
    "X_train, X_val, y_train, y_val = train_test_split(np.nan_to_num(train_data), labels.source_id, random_state=0)\n",
    "\n",
    "log_reg = LogisticRegression(random_state=0).fit(X_train, y_train)\n",
    "log_reg.score(X_val, y_val)"
   ]
  },
  {
   "cell_type": "code",
   "execution_count": 56,
   "metadata": {},
   "outputs": [
    {
     "name": "stdout",
     "output_type": "stream",
     "text": [
      "Cross-Validation Accuracy Scores [0.33804402 0.33721027 0.33775221 0.33862765 0.33904452 0.33883608\n",
      " 0.33833583 0.33776629 0.33864176 0.33755784]\n",
      "Max Cross-Validation Accuracy Scores 0.3390445222611306\n"
     ]
    }
   ],
   "source": [
    "from sklearn.model_selection import cross_val_score\n",
    "\n",
    "logscores = cross_val_score(log_reg, X_val, y_val, cv=10)\n",
    "print('Cross-Validation Accuracy Scores', logscores)\n",
    "print('Max Cross-Validation Accuracy Scores', max(logscores))"
   ]
  },
  {
   "cell_type": "markdown",
   "metadata": {},
   "source": [
    "Random Forest Classifier :"
   ]
  },
  {
   "cell_type": "code",
   "execution_count": 58,
   "metadata": {},
   "outputs": [
    {
     "data": {
      "text/plain": [
       "RandomForestClassifier(n_estimators=10)"
      ]
     },
     "execution_count": 58,
     "metadata": {},
     "output_type": "execute_result"
    }
   ],
   "source": [
    "from sklearn.ensemble import RandomForestClassifier\n",
    "from sklearn.metrics import accuracy_score\n",
    "\n",
    "rf = RandomForestClassifier(n_estimators=100)\n",
    "rf.fit(X_train, y_train)"
   ]
  },
  {
   "cell_type": "code",
   "execution_count": 59,
   "metadata": {},
   "outputs": [
    {
     "name": "stdout",
     "output_type": "stream",
     "text": [
      "              precision    recall  f1-score   support\n",
      "\n",
      "           0       0.19      0.05      0.08      8235\n",
      "           1       0.28      0.26      0.27     38370\n",
      "           2       0.42      0.55      0.48     63690\n",
      "           3       0.43      0.31      0.36     30052\n",
      "           4       0.51      0.59      0.55     81172\n",
      "           5       0.34      0.09      0.14     18358\n",
      "\n",
      "    accuracy                           0.43    239877\n",
      "   macro avg       0.36      0.31      0.31    239877\n",
      "weighted avg       0.42      0.43      0.41    239877\n",
      "\n",
      "0.43472279543265924\n"
     ]
    }
   ],
   "source": [
    "from sklearn.metrics import classification_report, confusion_matrix, accuracy_score\n",
    "predictions= rf.predict(X_val)\n",
    "\n",
    "print(classification_report(y_val,predictions))\n",
    "print(accuracy_score(y_val, predictions))"
   ]
  },
  {
   "cell_type": "markdown",
   "metadata": {},
   "source": [
    "Xgboost :"
   ]
  },
  {
   "cell_type": "code",
   "execution_count": 61,
   "metadata": {},
   "outputs": [
    {
     "name": "stdout",
     "output_type": "stream",
     "text": [
      "[18:32:53] WARNING: C:/Users/Administrator/workspace/xgboost-win64_release_1.3.0/src/learner.cc:1061: Starting in XGBoost 1.3.0, the default evaluation metric used with the objective 'multi:softprob' was changed from 'merror' to 'mlogloss'. Explicitly set eval_metric if you'd like to restore the old behavior.\n"
     ]
    },
    {
     "data": {
      "text/plain": [
       "XGBClassifier(base_score=0.5, booster='gbtree', colsample_bylevel=1,\n",
       "              colsample_bynode=1, colsample_bytree=1, gamma=0, gpu_id=-1,\n",
       "              importance_type='gain', interaction_constraints='',\n",
       "              learning_rate=0.300000012, max_delta_step=0, max_depth=6,\n",
       "              min_child_weight=1, missing=nan, monotone_constraints='()',\n",
       "              n_estimators=10, n_jobs=4, num_parallel_tree=1,\n",
       "              objective='multi:softprob', random_state=0, reg_alpha=0,\n",
       "              reg_lambda=1, scale_pos_weight=None, subsample=1,\n",
       "              tree_method='exact', validate_parameters=1, verbosity=None)"
      ]
     },
     "execution_count": 61,
     "metadata": {},
     "output_type": "execute_result"
    }
   ],
   "source": [
    "import xgboost as xgb\n",
    "\n",
    "param_dist = {'objective':'multi:softmax', 'n_estimators':10}\n",
    "\n",
    "clf = xgb.XGBClassifier(**param_dist)\n",
    "clf.fit(X_train, y_train,verbose=True)"
   ]
  },
  {
   "cell_type": "code",
   "execution_count": 62,
   "metadata": {},
   "outputs": [
    {
     "name": "stdout",
     "output_type": "stream",
     "text": [
      "              precision    recall  f1-score   support\n",
      "\n",
      "           0       0.40      0.08      0.13      8235\n",
      "           1       0.43      0.17      0.25     38370\n",
      "           2       0.45      0.65      0.53     63690\n",
      "           3       0.52      0.36      0.43     30052\n",
      "           4       0.53      0.68      0.60     81172\n",
      "           5       0.46      0.14      0.22     18358\n",
      "\n",
      "    accuracy                           0.49    239877\n",
      "   macro avg       0.46      0.35      0.36    239877\n",
      "weighted avg       0.48      0.49      0.46    239877\n",
      "\n",
      "0.48950086919546265\n"
     ]
    }
   ],
   "source": [
    "from sklearn.metrics import classification_report, confusion_matrix, accuracy_score\n",
    "predictions= clf.predict(X_val)\n",
    "\n",
    "print(classification_report(y_val,predictions))\n",
    "print(accuracy_score(y_val, predictions))"
   ]
  },
  {
   "cell_type": "markdown",
   "metadata": {},
   "source": [
    "Light GBM"
   ]
  },
  {
   "cell_type": "code",
   "execution_count": 108,
   "metadata": {},
   "outputs": [
    {
     "name": "stdout",
     "output_type": "stream",
     "text": [
      "[LightGBM] [Warning] Auto-choosing col-wise multi-threading, the overhead of testing was 0.519171 seconds.\n",
      "You can set `force_col_wise=true` to remove the overhead.\n",
      "[LightGBM] [Info] Total Bins 21355\n",
      "[LightGBM] [Info] Number of data points in the train set: 719629, number of used features: 101\n",
      "[LightGBM] [Info] Start training from score -3.373918\n",
      "[LightGBM] [Info] Start training from score -1.835213\n",
      "[LightGBM] [Info] Start training from score -1.324234\n",
      "[LightGBM] [Info] Start training from score -2.071134\n",
      "[LightGBM] [Info] Start training from score -1.084547\n",
      "[LightGBM] [Info] Start training from score -2.576214\n"
     ]
    }
   ],
   "source": [
    "import lightgbm as lgb\n",
    "d_train = lgb.Dataset(X_train, label=y_train)\n",
    "params = {}\n",
    "params['objective'] = 'multiclass'\n",
    "params['num_class'] = 6\n",
    "clf = lgb.train(params, d_train, 100)"
   ]
  },
  {
   "cell_type": "code",
   "execution_count": null,
   "metadata": {},
   "outputs": [],
   "source": [
    "predictions= clf.predict(X_val)\n",
    "A=[]\n",
    "for i in range(len(predictions)):\n",
    "    maximum = np.max(predictions[i])\n",
    "    index_of_maximum = np.where(predictions[i] == maximum)[0][0]\n",
    "    A.append(index_of_maximum)"
   ]
  },
  {
   "cell_type": "code",
   "execution_count": 117,
   "metadata": {},
   "outputs": [
    {
     "name": "stdout",
     "output_type": "stream",
     "text": [
      "              precision    recall  f1-score   support\n",
      "\n",
      "           0       0.51      0.03      0.06      8235\n",
      "           1       0.49      0.10      0.17     38370\n",
      "           2       0.45      0.64      0.53     63690\n",
      "           3       0.57      0.28      0.38     30052\n",
      "           4       0.49      0.74      0.59     81172\n",
      "           5       0.49      0.08      0.14     18358\n",
      "\n",
      "    accuracy                           0.48    239877\n",
      "   macro avg       0.50      0.31      0.31    239877\n",
      "weighted avg       0.49      0.48      0.43    239877\n",
      "\n",
      "0.47959579284383247\n"
     ]
    }
   ],
   "source": [
    "from sklearn.metrics import classification_report, confusion_matrix, accuracy_score\n",
    "\n",
    "print(classification_report(y_val,pd.Series(A)))\n",
    "print(accuracy_score(y_val, pd.Series(A)))"
   ]
  },
  {
   "cell_type": "markdown",
   "metadata": {},
   "source": [
    "CatBoost"
   ]
  },
  {
   "cell_type": "code",
   "execution_count": null,
   "metadata": {},
   "outputs": [],
   "source": [
    "pd.set_option('display.max_columns', None)\n",
    "cat_features=[train_data.columns.get_loc((0, 'source_id')),train_data.columns.get_loc((1, 'source_id')),train_data.columns.get_loc((2, 'source_id')),train_data.columns.get_loc((3, 'source_id')),train_data.columns.get_loc((4, 'source_id')),train_data.columns.get_loc((5, 'source_id')),train_data.columns.get_loc((6, 'source_id')),train_data.columns.get_loc((7, 'source_id')),train_data.columns.get_loc((8, 'source_id')),train_data.columns.get_loc((9, 'source_id')),train_data.columns.get_loc(\"hour\")]"
   ]
  },
  {
   "cell_type": "code",
   "execution_count": 68,
   "metadata": {
    "scrolled": true
   },
   "outputs": [
    {
     "name": "stdout",
     "output_type": "stream",
     "text": [
      "0:\tlearn: 1.4803175\ttotal: 16s\tremaining: 53m 12s\n",
      "1:\tlearn: 1.4269979\ttotal: 29.6s\tremaining: 48m 52s\n",
      "2:\tlearn: 1.4032018\ttotal: 42.6s\tremaining: 46m 36s\n",
      "3:\tlearn: 1.3888409\ttotal: 56.8s\tremaining: 46m 24s\n",
      "4:\tlearn: 1.3718091\ttotal: 1m 9s\tremaining: 44m 59s\n",
      "5:\tlearn: 1.3603416\ttotal: 1m 22s\tremaining: 44m 28s\n",
      "6:\tlearn: 1.3556786\ttotal: 1m 37s\tremaining: 44m 54s\n",
      "7:\tlearn: 1.3490357\ttotal: 1m 54s\tremaining: 45m 58s\n",
      "8:\tlearn: 1.3447035\ttotal: 2m 12s\tremaining: 46m 44s\n",
      "9:\tlearn: 1.3377410\ttotal: 2m 25s\tremaining: 46m 2s\n",
      "10:\tlearn: 1.3354533\ttotal: 2m 38s\tremaining: 45m 27s\n",
      "11:\tlearn: 1.3334396\ttotal: 2m 48s\tremaining: 44m 7s\n",
      "12:\tlearn: 1.3299280\ttotal: 3m 2s\tremaining: 43m 43s\n",
      "13:\tlearn: 1.3270715\ttotal: 3m 17s\tremaining: 43m 42s\n",
      "14:\tlearn: 1.3240304\ttotal: 3m 29s\tremaining: 43m 3s\n",
      "15:\tlearn: 1.3222316\ttotal: 3m 41s\tremaining: 42m 30s\n",
      "16:\tlearn: 1.3198175\ttotal: 3m 54s\tremaining: 42m 7s\n",
      "17:\tlearn: 1.3168373\ttotal: 4m 9s\tremaining: 41m 59s\n",
      "18:\tlearn: 1.3149687\ttotal: 4m 22s\tremaining: 41m 38s\n",
      "19:\tlearn: 1.3135146\ttotal: 4m 37s\tremaining: 41m 33s\n",
      "20:\tlearn: 1.3121480\ttotal: 4m 47s\tremaining: 40m 51s\n",
      "21:\tlearn: 1.3098792\ttotal: 4m 59s\tremaining: 40m 25s\n",
      "22:\tlearn: 1.3085919\ttotal: 5m 13s\tremaining: 40m 12s\n",
      "23:\tlearn: 1.3072483\ttotal: 5m 27s\tremaining: 40m 1s\n",
      "24:\tlearn: 1.3059852\ttotal: 5m 41s\tremaining: 39m 48s\n",
      "25:\tlearn: 1.3047212\ttotal: 5m 56s\tremaining: 39m 44s\n",
      "26:\tlearn: 1.3033465\ttotal: 6m 11s\tremaining: 39m 41s\n",
      "27:\tlearn: 1.3023589\ttotal: 6m 25s\tremaining: 39m 30s\n",
      "28:\tlearn: 1.3013783\ttotal: 6m 39s\tremaining: 39m 14s\n",
      "29:\tlearn: 1.3005247\ttotal: 6m 55s\tremaining: 39m 13s\n",
      "30:\tlearn: 1.2996790\ttotal: 7m 9s\tremaining: 38m 58s\n",
      "31:\tlearn: 1.2988586\ttotal: 7m 25s\tremaining: 38m 57s\n",
      "32:\tlearn: 1.2980261\ttotal: 7m 43s\tremaining: 39m 3s\n",
      "33:\tlearn: 1.2971382\ttotal: 7m 59s\tremaining: 38m 59s\n",
      "34:\tlearn: 1.2963979\ttotal: 8m 14s\tremaining: 38m 50s\n",
      "35:\tlearn: 1.2956317\ttotal: 8m 30s\tremaining: 38m 45s\n",
      "36:\tlearn: 1.2949836\ttotal: 8m 47s\tremaining: 38m 42s\n",
      "37:\tlearn: 1.2941135\ttotal: 9m 6s\tremaining: 38m 49s\n",
      "38:\tlearn: 1.2936630\ttotal: 9m 25s\tremaining: 38m 54s\n",
      "39:\tlearn: 1.2931621\ttotal: 9m 45s\tremaining: 39m\n",
      "40:\tlearn: 1.2924983\ttotal: 10m 5s\tremaining: 39m 7s\n",
      "41:\tlearn: 1.2914974\ttotal: 10m 22s\tremaining: 39m 3s\n",
      "42:\tlearn: 1.2905838\ttotal: 10m 38s\tremaining: 38m 50s\n",
      "43:\tlearn: 1.2901783\ttotal: 10m 51s\tremaining: 38m 28s\n",
      "44:\tlearn: 1.2889330\ttotal: 11m 5s\tremaining: 38m 12s\n",
      "45:\tlearn: 1.2879276\ttotal: 11m 18s\tremaining: 37m 52s\n",
      "46:\tlearn: 1.2874652\ttotal: 11m 32s\tremaining: 37m 33s\n",
      "47:\tlearn: 1.2865457\ttotal: 11m 45s\tremaining: 37m 12s\n",
      "48:\tlearn: 1.2860175\ttotal: 11m 58s\tremaining: 36m 54s\n",
      "49:\tlearn: 1.2853540\ttotal: 12m 11s\tremaining: 36m 35s\n",
      "50:\tlearn: 1.2843445\ttotal: 12m 24s\tremaining: 36m 15s\n",
      "51:\tlearn: 1.2836872\ttotal: 12m 38s\tremaining: 35m 58s\n",
      "52:\tlearn: 1.2832136\ttotal: 12m 52s\tremaining: 35m 42s\n",
      "53:\tlearn: 1.2828771\ttotal: 13m 6s\tremaining: 35m 27s\n",
      "54:\tlearn: 1.2822150\ttotal: 13m 22s\tremaining: 35m 16s\n",
      "55:\tlearn: 1.2819028\ttotal: 13m 37s\tremaining: 35m 2s\n",
      "56:\tlearn: 1.2814064\ttotal: 13m 50s\tremaining: 34m 44s\n",
      "57:\tlearn: 1.2808975\ttotal: 14m 8s\tremaining: 34m 36s\n",
      "58:\tlearn: 1.2805374\ttotal: 14m 26s\tremaining: 34m 30s\n",
      "59:\tlearn: 1.2801551\ttotal: 14m 42s\tremaining: 34m 18s\n",
      "60:\tlearn: 1.2797151\ttotal: 14m 54s\tremaining: 33m 58s\n",
      "61:\tlearn: 1.2793497\ttotal: 15m 9s\tremaining: 33m 43s\n",
      "62:\tlearn: 1.2788378\ttotal: 15m 24s\tremaining: 33m 31s\n",
      "63:\tlearn: 1.2784469\ttotal: 15m 40s\tremaining: 33m 18s\n",
      "64:\tlearn: 1.2779124\ttotal: 15m 53s\tremaining: 33m\n",
      "65:\tlearn: 1.2776114\ttotal: 16m 9s\tremaining: 32m 48s\n",
      "66:\tlearn: 1.2772363\ttotal: 16m 23s\tremaining: 32m 32s\n",
      "67:\tlearn: 1.2770073\ttotal: 16m 35s\tremaining: 32m 13s\n",
      "68:\tlearn: 1.2765694\ttotal: 16m 49s\tremaining: 31m 55s\n",
      "69:\tlearn: 1.2763101\ttotal: 17m 1s\tremaining: 31m 36s\n",
      "70:\tlearn: 1.2760400\ttotal: 17m 14s\tremaining: 31m 19s\n",
      "71:\tlearn: 1.2757295\ttotal: 17m 27s\tremaining: 31m 1s\n",
      "72:\tlearn: 1.2751050\ttotal: 17m 42s\tremaining: 30m 47s\n",
      "73:\tlearn: 1.2747717\ttotal: 17m 59s\tremaining: 30m 38s\n",
      "74:\tlearn: 1.2745329\ttotal: 18m 13s\tremaining: 30m 22s\n",
      "75:\tlearn: 1.2741798\ttotal: 18m 29s\tremaining: 30m 10s\n",
      "76:\tlearn: 1.2735945\ttotal: 18m 43s\tremaining: 29m 55s\n",
      "77:\tlearn: 1.2732008\ttotal: 18m 56s\tremaining: 29m 37s\n",
      "78:\tlearn: 1.2730726\ttotal: 19m 8s\tremaining: 29m 19s\n",
      "79:\tlearn: 1.2728980\ttotal: 19m 20s\tremaining: 29m\n",
      "80:\tlearn: 1.2724780\ttotal: 19m 35s\tremaining: 28m 46s\n",
      "81:\tlearn: 1.2721607\ttotal: 19m 47s\tremaining: 28m 29s\n",
      "82:\tlearn: 1.2719399\ttotal: 20m\tremaining: 28m 12s\n",
      "83:\tlearn: 1.2717052\ttotal: 20m 14s\tremaining: 27m 57s\n",
      "84:\tlearn: 1.2713391\ttotal: 20m 30s\tremaining: 27m 44s\n",
      "85:\tlearn: 1.2710517\ttotal: 20m 42s\tremaining: 27m 27s\n",
      "86:\tlearn: 1.2707304\ttotal: 20m 57s\tremaining: 27m 13s\n",
      "87:\tlearn: 1.2703394\ttotal: 21m 11s\tremaining: 26m 58s\n",
      "88:\tlearn: 1.2698985\ttotal: 21m 25s\tremaining: 26m 42s\n",
      "89:\tlearn: 1.2696659\ttotal: 21m 39s\tremaining: 26m 28s\n",
      "90:\tlearn: 1.2694613\ttotal: 21m 53s\tremaining: 26m 12s\n",
      "91:\tlearn: 1.2691802\ttotal: 22m 5s\tremaining: 25m 56s\n",
      "92:\tlearn: 1.2690510\ttotal: 22m 19s\tremaining: 25m 41s\n",
      "93:\tlearn: 1.2688267\ttotal: 22m 35s\tremaining: 25m 28s\n",
      "94:\tlearn: 1.2686788\ttotal: 22m 47s\tremaining: 25m 11s\n",
      "95:\tlearn: 1.2685458\ttotal: 22m 59s\tremaining: 24m 54s\n",
      "96:\tlearn: 1.2683317\ttotal: 23m 11s\tremaining: 24m 37s\n",
      "97:\tlearn: 1.2680021\ttotal: 23m 24s\tremaining: 24m 21s\n",
      "98:\tlearn: 1.2678545\ttotal: 23m 37s\tremaining: 24m 6s\n",
      "99:\tlearn: 1.2677172\ttotal: 23m 50s\tremaining: 23m 50s\n",
      "100:\tlearn: 1.2675499\ttotal: 24m 3s\tremaining: 23m 34s\n",
      "101:\tlearn: 1.2674166\ttotal: 24m 20s\tremaining: 23m 23s\n",
      "102:\tlearn: 1.2670551\ttotal: 24m 34s\tremaining: 23m 8s\n",
      "103:\tlearn: 1.2668409\ttotal: 24m 48s\tremaining: 22m 54s\n",
      "104:\tlearn: 1.2665268\ttotal: 25m 2s\tremaining: 22m 39s\n",
      "105:\tlearn: 1.2663316\ttotal: 25m 15s\tremaining: 22m 23s\n",
      "106:\tlearn: 1.2661816\ttotal: 25m 29s\tremaining: 22m 9s\n",
      "107:\tlearn: 1.2656623\ttotal: 25m 41s\tremaining: 21m 53s\n",
      "108:\tlearn: 1.2652952\ttotal: 25m 53s\tremaining: 21m 37s\n",
      "109:\tlearn: 1.2651728\ttotal: 26m 6s\tremaining: 21m 21s\n",
      "110:\tlearn: 1.2650469\ttotal: 26m 19s\tremaining: 21m 6s\n",
      "111:\tlearn: 1.2648790\ttotal: 26m 31s\tremaining: 20m 50s\n",
      "112:\tlearn: 1.2646391\ttotal: 26m 45s\tremaining: 20m 36s\n",
      "113:\tlearn: 1.2643802\ttotal: 26m 59s\tremaining: 20m 21s\n",
      "114:\tlearn: 1.2639826\ttotal: 27m 13s\tremaining: 20m 7s\n",
      "115:\tlearn: 1.2637602\ttotal: 27m 26s\tremaining: 19m 52s\n",
      "116:\tlearn: 1.2634785\ttotal: 27m 39s\tremaining: 19m 37s\n",
      "117:\tlearn: 1.2632662\ttotal: 27m 51s\tremaining: 19m 21s\n",
      "118:\tlearn: 1.2629614\ttotal: 28m 4s\tremaining: 19m 6s\n",
      "119:\tlearn: 1.2628351\ttotal: 28m 19s\tremaining: 18m 52s\n",
      "120:\tlearn: 1.2625360\ttotal: 28m 33s\tremaining: 18m 38s\n",
      "121:\tlearn: 1.2621905\ttotal: 28m 47s\tremaining: 18m 24s\n",
      "122:\tlearn: 1.2620392\ttotal: 29m 2s\tremaining: 18m 10s\n",
      "123:\tlearn: 1.2618075\ttotal: 29m 15s\tremaining: 17m 55s\n",
      "124:\tlearn: 1.2615662\ttotal: 29m 28s\tremaining: 17m 41s\n",
      "125:\tlearn: 1.2614187\ttotal: 29m 40s\tremaining: 17m 25s\n",
      "126:\tlearn: 1.2611944\ttotal: 29m 55s\tremaining: 17m 12s\n",
      "127:\tlearn: 1.2609263\ttotal: 30m 8s\tremaining: 16m 57s\n",
      "128:\tlearn: 1.2608320\ttotal: 30m 21s\tremaining: 16m 42s\n",
      "129:\tlearn: 1.2606282\ttotal: 30m 33s\tremaining: 16m 27s\n",
      "130:\tlearn: 1.2604156\ttotal: 30m 46s\tremaining: 16m 12s\n",
      "131:\tlearn: 1.2602848\ttotal: 31m\tremaining: 15m 58s\n",
      "132:\tlearn: 1.2600575\ttotal: 31m 14s\tremaining: 15m 44s\n",
      "133:\tlearn: 1.2599380\ttotal: 31m 27s\tremaining: 15m 29s\n",
      "134:\tlearn: 1.2597334\ttotal: 31m 43s\tremaining: 15m 16s\n",
      "135:\tlearn: 1.2595916\ttotal: 31m 55s\tremaining: 15m 1s\n",
      "136:\tlearn: 1.2594121\ttotal: 32m 10s\tremaining: 14m 47s\n",
      "137:\tlearn: 1.2591159\ttotal: 32m 22s\tremaining: 14m 32s\n",
      "138:\tlearn: 1.2590228\ttotal: 32m 37s\tremaining: 14m 19s\n",
      "139:\tlearn: 1.2588817\ttotal: 32m 50s\tremaining: 14m 4s\n",
      "140:\tlearn: 1.2585424\ttotal: 33m 2s\tremaining: 13m 49s\n",
      "141:\tlearn: 1.2581995\ttotal: 33m 17s\tremaining: 13m 36s\n",
      "142:\tlearn: 1.2579994\ttotal: 33m 32s\tremaining: 13m 22s\n",
      "143:\tlearn: 1.2579563\ttotal: 33m 48s\tremaining: 13m 8s\n",
      "144:\tlearn: 1.2578003\ttotal: 34m 5s\tremaining: 12m 55s\n",
      "145:\tlearn: 1.2576571\ttotal: 34m 19s\tremaining: 12m 41s\n",
      "146:\tlearn: 1.2574964\ttotal: 34m 33s\tremaining: 12m 27s\n",
      "147:\tlearn: 1.2573539\ttotal: 34m 48s\tremaining: 12m 13s\n",
      "148:\tlearn: 1.2571883\ttotal: 35m 5s\tremaining: 12m\n",
      "149:\tlearn: 1.2570927\ttotal: 35m 18s\tremaining: 11m 46s\n",
      "150:\tlearn: 1.2570005\ttotal: 35m 30s\tremaining: 11m 31s\n"
     ]
    },
    {
     "name": "stdout",
     "output_type": "stream",
     "text": [
      "151:\tlearn: 1.2568884\ttotal: 35m 45s\tremaining: 11m 17s\n",
      "152:\tlearn: 1.2567801\ttotal: 35m 59s\tremaining: 11m 3s\n",
      "153:\tlearn: 1.2566114\ttotal: 36m 11s\tremaining: 10m 48s\n",
      "154:\tlearn: 1.2564504\ttotal: 36m 27s\tremaining: 10m 35s\n",
      "155:\tlearn: 1.2563068\ttotal: 36m 39s\tremaining: 10m 20s\n",
      "156:\tlearn: 1.2560707\ttotal: 36m 52s\tremaining: 10m 5s\n",
      "157:\tlearn: 1.2559291\ttotal: 37m 7s\tremaining: 9m 52s\n",
      "158:\tlearn: 1.2557907\ttotal: 37m 21s\tremaining: 9m 38s\n",
      "159:\tlearn: 1.2556191\ttotal: 37m 34s\tremaining: 9m 23s\n",
      "160:\tlearn: 1.2553187\ttotal: 37m 51s\tremaining: 9m 10s\n",
      "161:\tlearn: 1.2551017\ttotal: 38m 3s\tremaining: 8m 55s\n",
      "162:\tlearn: 1.2549423\ttotal: 38m 17s\tremaining: 8m 41s\n",
      "163:\tlearn: 1.2546278\ttotal: 38m 31s\tremaining: 8m 27s\n",
      "164:\tlearn: 1.2545246\ttotal: 38m 46s\tremaining: 8m 13s\n",
      "165:\tlearn: 1.2544077\ttotal: 39m 3s\tremaining: 8m\n",
      "166:\tlearn: 1.2543249\ttotal: 39m 16s\tremaining: 7m 45s\n",
      "167:\tlearn: 1.2541245\ttotal: 39m 33s\tremaining: 7m 32s\n",
      "168:\tlearn: 1.2540285\ttotal: 39m 52s\tremaining: 7m 18s\n",
      "169:\tlearn: 1.2538333\ttotal: 40m 6s\tremaining: 7m 4s\n",
      "170:\tlearn: 1.2534959\ttotal: 40m 19s\tremaining: 6m 50s\n",
      "171:\tlearn: 1.2533421\ttotal: 40m 32s\tremaining: 6m 35s\n",
      "172:\tlearn: 1.2531587\ttotal: 40m 49s\tremaining: 6m 22s\n",
      "173:\tlearn: 1.2530558\ttotal: 41m 6s\tremaining: 6m 8s\n",
      "174:\tlearn: 1.2529331\ttotal: 41m 23s\tremaining: 5m 54s\n",
      "175:\tlearn: 1.2527490\ttotal: 41m 40s\tremaining: 5m 40s\n",
      "176:\tlearn: 1.2525465\ttotal: 41m 58s\tremaining: 5m 27s\n",
      "177:\tlearn: 1.2523613\ttotal: 42m 14s\tremaining: 5m 13s\n",
      "178:\tlearn: 1.2522167\ttotal: 42m 30s\tremaining: 4m 59s\n",
      "179:\tlearn: 1.2520299\ttotal: 42m 50s\tremaining: 4m 45s\n",
      "180:\tlearn: 1.2519374\ttotal: 43m 7s\tremaining: 4m 31s\n",
      "181:\tlearn: 1.2517961\ttotal: 43m 24s\tremaining: 4m 17s\n",
      "182:\tlearn: 1.2517072\ttotal: 43m 39s\tremaining: 4m 3s\n",
      "183:\tlearn: 1.2516365\ttotal: 43m 55s\tremaining: 3m 49s\n",
      "184:\tlearn: 1.2514470\ttotal: 44m 12s\tremaining: 3m 35s\n",
      "185:\tlearn: 1.2513068\ttotal: 44m 28s\tremaining: 3m 20s\n",
      "186:\tlearn: 1.2511143\ttotal: 44m 41s\tremaining: 3m 6s\n",
      "187:\tlearn: 1.2510061\ttotal: 44m 54s\tremaining: 2m 51s\n",
      "188:\tlearn: 1.2509009\ttotal: 45m 9s\tremaining: 2m 37s\n",
      "189:\tlearn: 1.2507175\ttotal: 45m 30s\tremaining: 2m 23s\n",
      "190:\tlearn: 1.2506483\ttotal: 45m 50s\tremaining: 2m 9s\n",
      "191:\tlearn: 1.2505837\ttotal: 46m 7s\tremaining: 1m 55s\n",
      "192:\tlearn: 1.2503493\ttotal: 46m 23s\tremaining: 1m 40s\n",
      "193:\tlearn: 1.2502105\ttotal: 46m 44s\tremaining: 1m 26s\n",
      "194:\tlearn: 1.2501462\ttotal: 47m 4s\tremaining: 1m 12s\n",
      "195:\tlearn: 1.2499518\ttotal: 47m 20s\tremaining: 58s\n",
      "196:\tlearn: 1.2497965\ttotal: 47m 36s\tremaining: 43.5s\n",
      "197:\tlearn: 1.2496722\ttotal: 47m 52s\tremaining: 29s\n",
      "198:\tlearn: 1.2495812\ttotal: 48m 7s\tremaining: 14.5s\n",
      "199:\tlearn: 1.2493844\ttotal: 48m 20s\tremaining: 0us\n"
     ]
    },
    {
     "data": {
      "text/plain": [
       "<catboost.core.CatBoostClassifier at 0x210ad0e2da0>"
      ]
     },
     "execution_count": 68,
     "metadata": {},
     "output_type": "execute_result"
    }
   ],
   "source": [
    "from catboost import Pool, CatBoostClassifier\n",
    "\n",
    "# train_data = [[\"summer\", 1924, 44],\n",
    "#               [\"summer\", 1932, 37],\n",
    "#               [\"winter\", 1980, 37],\n",
    "#               [\"summer\", 2012, 204]]\n",
    "\n",
    "# eval_data = [[\"winter\", 1996, 197],\n",
    "#              [\"winter\", 1968, 37],\n",
    "#              [\"summer\", 2002, 77],\n",
    "#              [\"summer\", 1948, 59]]\n",
    "\n",
    "\n",
    "\n",
    "train_dataset = Pool(data=train_data,\n",
    "                     label=labels.drop(columns=[\"ID\"]),\n",
    "                     cat_features=cat_features)\n",
    "\n",
    "# eval_dataset = Pool(data=eval_data,\n",
    "#                     label=eval_label,\n",
    "#                     cat_features=cat_features)\n",
    "\n",
    "# # Initialize CatBoostClassifier\n",
    "model = CatBoostClassifier(iterations=200,\n",
    "                           learning_rate=0.8,\n",
    "                           loss_function='MultiClass')\n",
    "# # Fit model\n",
    "model.fit(train_dataset)\n",
    "# # Get predicted classes\n",
    "# preds_class = model.predict(eval_dataset)\n",
    "# # Get predicted probabilities for each class\n",
    "# preds_proba = model.predict_proba(eval_dataset)\n",
    "# # Get predicted RawFormulaVal\n",
    "# preds_raw = model.predict(eval_dataset, \n",
    "#                           prediction_type='RawFormulaVal')"
   ]
  },
  {
   "cell_type": "code",
   "execution_count": 70,
   "metadata": {},
   "outputs": [
    {
     "data": {
      "text/plain": [
       "{'Accuracy': [0.4356595998357488,\n",
       "  0.4458273319812487,\n",
       "  0.4556646857862275,\n",
       "  0.4612748643572839,\n",
       "  0.46763334465860557,\n",
       "  0.4701940373483855,\n",
       "  0.4729006384535375,\n",
       "  0.47451813745823374,\n",
       "  0.47613459425996296,\n",
       "  0.4787651145485281,\n",
       "  0.4795644842241737,\n",
       "  0.4803586428849846,\n",
       "  0.4821449787703256,\n",
       "  0.4832716001775914,\n",
       "  0.4840668010413692,\n",
       "  0.4849505891573372,\n",
       "  0.48601259398065255,\n",
       "  0.4874841845699766,\n",
       "  0.48795838691993587,\n",
       "  0.48857745548230025,\n",
       "  0.4893632765193756,\n",
       "  0.48985623852273985,\n",
       "  0.4905013621592778,\n",
       "  0.4908515423561708,\n",
       "  0.4912465372806423,\n",
       "  0.4918312131450976,\n",
       "  0.49213970522331285,\n",
       "  0.4925472065833877,\n",
       "  0.49270249482546224,\n",
       "  0.4928807115328096,\n",
       "  0.4934195304667193,\n",
       "  0.49371968492119905,\n",
       "  0.4939833622718357,\n",
       "  0.49438044160224115,\n",
       "  0.4948129558335227,\n",
       "  0.4950662111544899,\n",
       "  0.49535281697039935,\n",
       "  0.4957582339245403,\n",
       "  0.49596980112682987,\n",
       "  0.49613863800747465,\n",
       "  0.4962449427101029,\n",
       "  0.4965419705556818,\n",
       "  0.4968452516190623,\n",
       "  0.49703805916794686,\n",
       "  0.49770611126975756,\n",
       "  0.4980281519865431,\n",
       "  0.4981605117633449,\n",
       "  0.49830120916388226,\n",
       "  0.49838041658936993,\n",
       "  0.49855342228188254,\n",
       "  0.49891402450844496,\n",
       "  0.4991026632454617,\n",
       "  0.49934028552192483,\n",
       "  0.4994861939372969,\n",
       "  0.4996352289615698,\n",
       "  0.49973215383749553,\n",
       "  0.4998780622528676,\n",
       "  0.5001511194302068,\n",
       "  0.500367897647331,\n",
       "  0.5005534097754469,\n",
       "  0.5006169841564305,\n",
       "  0.5008160449231167,\n",
       "  0.501050540590679,\n",
       "  0.5014392822973488,\n",
       "  0.5016174990046962,\n",
       "  0.5018321928158865,\n",
       "  0.5020051985083991,\n",
       "  0.5020208315529032,\n",
       "  0.5021875840276142,\n",
       "  0.5021813308098125,\n",
       "  0.5023543365023252,\n",
       "  0.5025054559325319,\n",
       "  0.5028202012285489,\n",
       "  0.5029327591489787,\n",
       "  0.5031464107572021,\n",
       "  0.5031943520936816,\n",
       "  0.5034351009790454,\n",
       "  0.5034653248650868,\n",
       "  0.5034694936769546,\n",
       "  0.5036070644685912,\n",
       "  0.5036925251118805,\n",
       "  0.5036904407059466,\n",
       "  0.5038509399628559,\n",
       "  0.5039822575366908,\n",
       "  0.5040114392197652,\n",
       "  0.50418027610041,\n",
       "  0.5044220671887408,\n",
       "  0.5046013260990552,\n",
       "  0.5047597409500305,\n",
       "  0.5049660971374853,\n",
       "  0.5049389998603449,\n",
       "  0.5049567173107828,\n",
       "  0.5050369669392375,\n",
       "  0.5052829268394361,\n",
       "  0.5053131507254774,\n",
       "  0.5053704718886594,\n",
       "  0.5054746921853537,\n",
       "  0.5054642701556843,\n",
       "  0.5054924096357918,\n",
       "  0.5056789639668746,\n",
       "  0.5057321163181887,\n",
       "  0.5057956906991723,\n",
       "  0.5060489460201395,\n",
       "  0.5061020983714536,\n",
       "  0.5061667149554041,\n",
       "  0.5062636398313298,\n",
       "  0.5063449316627514,\n",
       "  0.5064303923060408,\n",
       "  0.5066513393350328,\n",
       "  0.50666593017657,\n",
       "  0.5067128293100824,\n",
       "  0.5067367999783222,\n",
       "  0.5067930789385371,\n",
       "  0.506904594656,\n",
       "  0.5069660846310498,\n",
       "  0.5070921911900499,\n",
       "  0.507090106784116,\n",
       "  0.5072683234914633,\n",
       "  0.5074194429216701,\n",
       "  0.5074642576492486,\n",
       "  0.5075622247281414,\n",
       "  0.5076018284408852,\n",
       "  0.5076330945298935,\n",
       "  0.5076997955197778,\n",
       "  0.5078384085143813,\n",
       "  0.507937417796241,\n",
       "  0.5080791573997453,\n",
       "  0.5081270987362246,\n",
       "  0.5082083905676462,\n",
       "  0.5082438254685223,\n",
       "  0.5084772789331177,\n",
       "  0.5084637302945474,\n",
       "  0.5085304312844318,\n",
       "  0.5085356422992665,\n",
       "  0.508635693784093,\n",
       "  0.5086627910612336,\n",
       "  0.50867425529387,\n",
       "  0.5088920757139611,\n",
       "  0.5088670628427545,\n",
       "  0.5089389748474736,\n",
       "  0.509042152941201,\n",
       "  0.5091453310349284,\n",
       "  0.5091359512082259,\n",
       "  0.5092026521981102,\n",
       "  0.5092453825197549,\n",
       "  0.509337096380846,\n",
       "  0.5092516357375566,\n",
       "  0.5093412651927137,\n",
       "  0.509373573484689,\n",
       "  0.5093798267024906,\n",
       "  0.5094131771974328,\n",
       "  0.5094955112318214,\n",
       "  0.5094183882122676,\n",
       "  0.5095173974941272,\n",
       "  0.509558043409838,\n",
       "  0.5095778452662099,\n",
       "  0.5096528838798299,\n",
       "  0.5097091628400447,\n",
       "  0.5097154160578464,\n",
       "  0.5098248473693755,\n",
       "  0.5098561134583838,\n",
       "  0.5098571556613507,\n",
       "  0.5099905576411194,\n",
       "  0.5101093687793511,\n",
       "  0.5102042092493428,\n",
       "  0.5101864917989049,\n",
       "  0.5101833651900041,\n",
       "  0.5102198422938471,\n",
       "  0.5102604882095578,\n",
       "  0.5103063451401033,\n",
       "  0.5103959745952604,\n",
       "  0.5105179123423929,\n",
       "  0.5105658536788723,\n",
       "  0.5105439674165665,\n",
       "  0.5106659051636988,\n",
       "  0.5107607456336907,\n",
       "  0.5109076962520297,\n",
       "  0.5109764816478479,\n",
       "  0.5110619422911373,\n",
       "  0.5111703313996995,\n",
       "  0.5112057663005755,\n",
       "  0.5113589701367162,\n",
       "  0.5113652233545178,\n",
       "  0.5113454214981459,\n",
       "  0.5114475573889063,\n",
       "  0.5114517262007742,\n",
       "  0.5115924236013115,\n",
       "  0.5116247318932867,\n",
       "  0.5116778842446009,\n",
       "  0.5117529228582208,\n",
       "  0.5117789779323944,\n",
       "  0.5117602182789894,\n",
       "  0.511859227560849,\n",
       "  0.5118884092439234,\n",
       "  0.5118435945163449,\n",
       "  0.5119592790456756,\n",
       "  0.5120113891940228,\n",
       "  0.5120447396889649,\n",
       "  0.5120155580058905,\n",
       "  0.5120749635750063]}"
      ]
     },
     "execution_count": 70,
     "metadata": {},
     "output_type": "execute_result"
    }
   ],
   "source": [
    "model.eval_metrics(train_dataset,[\"Accuracy\"])"
   ]
  },
  {
   "cell_type": "code",
   "execution_count": 75,
   "metadata": {},
   "outputs": [],
   "source": [
    "preds_class = model.predict(test_data.drop(columns=[\"ID\"]))"
   ]
  },
  {
   "cell_type": "code",
   "execution_count": 76,
   "metadata": {},
   "outputs": [],
   "source": [
    "preds_class=[p[0] for p in preds_class]"
   ]
  },
  {
   "cell_type": "code",
   "execution_count": 78,
   "metadata": {},
   "outputs": [],
   "source": [
    "sub= pd.DataFrame({'ID': test_data.ID, 'source_id': preds_class})\n",
    "\n",
    "sub.to_csv('BestCatBoost2.csv',index=False)"
   ]
  }
 ],
 "metadata": {
  "kernelspec": {
   "display_name": "Python 3",
   "language": "python",
   "name": "python3"
  },
  "language_info": {
   "codemirror_mode": {
    "name": "ipython",
    "version": 3
   },
   "file_extension": ".py",
   "mimetype": "text/x-python",
   "name": "python",
   "nbconvert_exporter": "python",
   "pygments_lexer": "ipython3",
   "version": "3.8.3"
  }
 },
 "nbformat": 4,
 "nbformat_minor": 4
}
