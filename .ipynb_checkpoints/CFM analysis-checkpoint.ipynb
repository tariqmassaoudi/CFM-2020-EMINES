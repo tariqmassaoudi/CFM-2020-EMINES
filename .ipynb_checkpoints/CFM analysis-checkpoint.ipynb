{
 "cells": [
  {
   "cell_type": "markdown",
   "metadata": {},
   "source": [
    "# Challenge Context"
   ]
  },
  {
   "cell_type": "markdown",
   "metadata": {},
   "source": [
    "<img src=\"https://challengedata.ens.fr/logo/public/CFM_CoRGB_300dpi_Tight_box.png\" width=\"300\" height=\"300\" />\n",
    "Most financial markets use an electronic trading mechanism called a limit order book to facilitate the trading of assets (stocks, futures, options, etc.). Participants submit (or cancel) orders to this electronic order book. These orders are requests to buy or sell a given quantity of an asset at a specified price, thus allowing buyers to be matched with sellers at a mutually agreed price [1][2]. Since an asset can be traded on multiple trading venues, participants can choose to which venue they send an order. For instance, a US stock can be traded on various exchanges, such as NYSE, NASDAQ, Direct Edge or BATS. When sending an order, participants generally select the best available trading venue at that time [3]. Their decisions may include a statistical analysis of past venue activity.\n",
    "\n",
    "[1] Trades, Quotes and Prices - Financial Markets Under the Microscope – Jean-Philippe Bouchaud, Julius Bonart, Jonathan Donier, Martin Gould – 2018\n",
    "[2] https://en.wikipedia.org/wiki/Order_book_(trading)\n",
    "[3] https://en.wikipedia.org/wiki/Smart_order_routing"
   ]
  },
  {
   "cell_type": "markdown",
   "metadata": {},
   "source": [
    "## Lecture de données"
   ]
  },
  {
   "cell_type": "code",
   "execution_count": 62,
   "metadata": {},
   "outputs": [],
   "source": [
    "import numpy as np\n",
    "import pandas as pd\n",
    "train_data = pd.read_hdf(\"data/train_dc2020.h5\", 'data').drop(columns=[\"ID\"])\n",
    "labels = pd.read_csv(\"data/train_labels.csv\")\n",
    "test_data= pd.read_hdf(\"data/test_dc2020.h5\", 'data')\n",
    "concat=pd.concat([train_data,labels],axis=1).drop(columns=[\"ID\"]).dropna()\n"
   ]
  },
  {
   "cell_type": "code",
   "execution_count": 66,
   "metadata": {},
   "outputs": [
    {
     "data": {
      "text/html": [
       "<div>\n",
       "<style scoped>\n",
       "    .dataframe tbody tr th:only-of-type {\n",
       "        vertical-align: middle;\n",
       "    }\n",
       "\n",
       "    .dataframe tbody tr th {\n",
       "        vertical-align: top;\n",
       "    }\n",
       "\n",
       "    .dataframe thead th {\n",
       "        text-align: right;\n",
       "    }\n",
       "</style>\n",
       "<table border=\"1\" class=\"dataframe\">\n",
       "  <thead>\n",
       "    <tr style=\"text-align: right;\">\n",
       "      <th></th>\n",
       "      <th>ID</th>\n",
       "      <th>source_id</th>\n",
       "    </tr>\n",
       "  </thead>\n",
       "  <tbody>\n",
       "    <tr>\n",
       "      <th>0</th>\n",
       "      <td>0</td>\n",
       "      <td>2</td>\n",
       "    </tr>\n",
       "    <tr>\n",
       "      <th>1</th>\n",
       "      <td>1</td>\n",
       "      <td>2</td>\n",
       "    </tr>\n",
       "    <tr>\n",
       "      <th>2</th>\n",
       "      <td>2</td>\n",
       "      <td>2</td>\n",
       "    </tr>\n",
       "    <tr>\n",
       "      <th>3</th>\n",
       "      <td>3</td>\n",
       "      <td>4</td>\n",
       "    </tr>\n",
       "    <tr>\n",
       "      <th>4</th>\n",
       "      <td>4</td>\n",
       "      <td>2</td>\n",
       "    </tr>\n",
       "    <tr>\n",
       "      <th>...</th>\n",
       "      <td>...</td>\n",
       "      <td>...</td>\n",
       "    </tr>\n",
       "    <tr>\n",
       "      <th>959501</th>\n",
       "      <td>959501</td>\n",
       "      <td>4</td>\n",
       "    </tr>\n",
       "    <tr>\n",
       "      <th>959502</th>\n",
       "      <td>959502</td>\n",
       "      <td>1</td>\n",
       "    </tr>\n",
       "    <tr>\n",
       "      <th>959503</th>\n",
       "      <td>959503</td>\n",
       "      <td>3</td>\n",
       "    </tr>\n",
       "    <tr>\n",
       "      <th>959504</th>\n",
       "      <td>959504</td>\n",
       "      <td>4</td>\n",
       "    </tr>\n",
       "    <tr>\n",
       "      <th>959505</th>\n",
       "      <td>959505</td>\n",
       "      <td>3</td>\n",
       "    </tr>\n",
       "  </tbody>\n",
       "</table>\n",
       "<p>959506 rows × 2 columns</p>\n",
       "</div>"
      ],
      "text/plain": [
       "            ID  source_id\n",
       "0            0          2\n",
       "1            1          2\n",
       "2            2          2\n",
       "3            3          4\n",
       "4            4          2\n",
       "...        ...        ...\n",
       "959501  959501          4\n",
       "959502  959502          1\n",
       "959503  959503          3\n",
       "959504  959504          4\n",
       "959505  959505          3\n",
       "\n",
       "[959506 rows x 2 columns]"
      ]
     },
     "execution_count": 66,
     "metadata": {},
     "output_type": "execute_result"
    }
   ],
   "source": []
  },
  {
   "cell_type": "code",
   "execution_count": 3,
   "metadata": {},
   "outputs": [
    {
     "data": {
      "text/html": [
       "<div>\n",
       "<style scoped>\n",
       "    .dataframe tbody tr th:only-of-type {\n",
       "        vertical-align: middle;\n",
       "    }\n",
       "\n",
       "    .dataframe tbody tr th {\n",
       "        vertical-align: top;\n",
       "    }\n",
       "\n",
       "    .dataframe thead th {\n",
       "        text-align: right;\n",
       "    }\n",
       "</style>\n",
       "<table border=\"1\" class=\"dataframe\">\n",
       "  <thead>\n",
       "    <tr style=\"text-align: right;\">\n",
       "      <th></th>\n",
       "      <th>(0, ask)</th>\n",
       "      <th>(0, ask1)</th>\n",
       "      <th>(0, ask_size)</th>\n",
       "      <th>(0, ask_size1)</th>\n",
       "      <th>(0, bid)</th>\n",
       "      <th>(0, bid1)</th>\n",
       "      <th>(0, bid_size)</th>\n",
       "      <th>(0, bid_size1)</th>\n",
       "      <th>(0, price)</th>\n",
       "      <th>(0, qty)</th>\n",
       "      <th>...</th>\n",
       "      <th>(8, qty)</th>\n",
       "      <th>(8, source_id)</th>\n",
       "      <th>(8, tod)</th>\n",
       "      <th>(9, price)</th>\n",
       "      <th>(9, qty)</th>\n",
       "      <th>(9, source_id)</th>\n",
       "      <th>(9, tod)</th>\n",
       "      <th>stock_id</th>\n",
       "      <th>day_id</th>\n",
       "      <th>source_id</th>\n",
       "    </tr>\n",
       "  </thead>\n",
       "  <tbody>\n",
       "    <tr>\n",
       "      <th>0</th>\n",
       "      <td>1.5</td>\n",
       "      <td>2.5</td>\n",
       "      <td>0.003510</td>\n",
       "      <td>0.003510</td>\n",
       "      <td>-0.5</td>\n",
       "      <td>-1.5</td>\n",
       "      <td>0.010530</td>\n",
       "      <td>0.007020</td>\n",
       "      <td>0.5</td>\n",
       "      <td>0.003510</td>\n",
       "      <td>...</td>\n",
       "      <td>0.003510</td>\n",
       "      <td>4.0</td>\n",
       "      <td>5.338431e+10</td>\n",
       "      <td>-0.5</td>\n",
       "      <td>0.003510</td>\n",
       "      <td>4.0</td>\n",
       "      <td>5.338431e+10</td>\n",
       "      <td>444.0</td>\n",
       "      <td>183.0</td>\n",
       "      <td>2</td>\n",
       "    </tr>\n",
       "    <tr>\n",
       "      <th>1</th>\n",
       "      <td>1.5</td>\n",
       "      <td>5.5</td>\n",
       "      <td>0.038110</td>\n",
       "      <td>0.038110</td>\n",
       "      <td>-5.5</td>\n",
       "      <td>-9.5</td>\n",
       "      <td>0.038110</td>\n",
       "      <td>0.038110</td>\n",
       "      <td>0.5</td>\n",
       "      <td>0.022104</td>\n",
       "      <td>...</td>\n",
       "      <td>0.053735</td>\n",
       "      <td>5.0</td>\n",
       "      <td>5.577584e+10</td>\n",
       "      <td>0.5</td>\n",
       "      <td>0.057546</td>\n",
       "      <td>5.0</td>\n",
       "      <td>5.577584e+10</td>\n",
       "      <td>95.0</td>\n",
       "      <td>226.0</td>\n",
       "      <td>2</td>\n",
       "    </tr>\n",
       "    <tr>\n",
       "      <th>3</th>\n",
       "      <td>3.0</td>\n",
       "      <td>6.0</td>\n",
       "      <td>0.073099</td>\n",
       "      <td>0.036550</td>\n",
       "      <td>-2.0</td>\n",
       "      <td>-6.0</td>\n",
       "      <td>0.036550</td>\n",
       "      <td>0.036550</td>\n",
       "      <td>0.0</td>\n",
       "      <td>0.014620</td>\n",
       "      <td>...</td>\n",
       "      <td>0.000365</td>\n",
       "      <td>1.0</td>\n",
       "      <td>3.508851e+10</td>\n",
       "      <td>-4.0</td>\n",
       "      <td>0.033991</td>\n",
       "      <td>1.0</td>\n",
       "      <td>3.508851e+10</td>\n",
       "      <td>305.0</td>\n",
       "      <td>248.0</td>\n",
       "      <td>4</td>\n",
       "    </tr>\n",
       "    <tr>\n",
       "      <th>4</th>\n",
       "      <td>8.5</td>\n",
       "      <td>212.5</td>\n",
       "      <td>0.028645</td>\n",
       "      <td>0.028645</td>\n",
       "      <td>-12.5</td>\n",
       "      <td>-208.5</td>\n",
       "      <td>0.028645</td>\n",
       "      <td>0.028645</td>\n",
       "      <td>-1.5</td>\n",
       "      <td>0.028645</td>\n",
       "      <td>...</td>\n",
       "      <td>0.021770</td>\n",
       "      <td>4.0</td>\n",
       "      <td>4.195373e+10</td>\n",
       "      <td>-1.5</td>\n",
       "      <td>0.028645</td>\n",
       "      <td>2.0</td>\n",
       "      <td>4.195373e+10</td>\n",
       "      <td>70.0</td>\n",
       "      <td>177.0</td>\n",
       "      <td>2</td>\n",
       "    </tr>\n",
       "    <tr>\n",
       "      <th>5</th>\n",
       "      <td>1.0</td>\n",
       "      <td>3.0</td>\n",
       "      <td>0.031847</td>\n",
       "      <td>0.031847</td>\n",
       "      <td>-3.0</td>\n",
       "      <td>-6.0</td>\n",
       "      <td>0.031847</td>\n",
       "      <td>0.031847</td>\n",
       "      <td>-1.0</td>\n",
       "      <td>0.031847</td>\n",
       "      <td>...</td>\n",
       "      <td>0.031847</td>\n",
       "      <td>1.0</td>\n",
       "      <td>3.743043e+10</td>\n",
       "      <td>-1.0</td>\n",
       "      <td>0.001592</td>\n",
       "      <td>3.0</td>\n",
       "      <td>3.743033e+10</td>\n",
       "      <td>279.0</td>\n",
       "      <td>127.0</td>\n",
       "      <td>5</td>\n",
       "    </tr>\n",
       "  </tbody>\n",
       "</table>\n",
       "<p>5 rows × 97 columns</p>\n",
       "</div>"
      ],
      "text/plain": [
       "   (0, ask)  (0, ask1)  (0, ask_size)  (0, ask_size1)  (0, bid)  (0, bid1)  \\\n",
       "0       1.5        2.5       0.003510        0.003510      -0.5       -1.5   \n",
       "1       1.5        5.5       0.038110        0.038110      -5.5       -9.5   \n",
       "3       3.0        6.0       0.073099        0.036550      -2.0       -6.0   \n",
       "4       8.5      212.5       0.028645        0.028645     -12.5     -208.5   \n",
       "5       1.0        3.0       0.031847        0.031847      -3.0       -6.0   \n",
       "\n",
       "   (0, bid_size)  (0, bid_size1)  (0, price)  (0, qty)  ...  (8, qty)  \\\n",
       "0       0.010530        0.007020         0.5  0.003510  ...  0.003510   \n",
       "1       0.038110        0.038110         0.5  0.022104  ...  0.053735   \n",
       "3       0.036550        0.036550         0.0  0.014620  ...  0.000365   \n",
       "4       0.028645        0.028645        -1.5  0.028645  ...  0.021770   \n",
       "5       0.031847        0.031847        -1.0  0.031847  ...  0.031847   \n",
       "\n",
       "   (8, source_id)      (8, tod)  (9, price)  (9, qty)  (9, source_id)  \\\n",
       "0             4.0  5.338431e+10        -0.5  0.003510             4.0   \n",
       "1             5.0  5.577584e+10         0.5  0.057546             5.0   \n",
       "3             1.0  3.508851e+10        -4.0  0.033991             1.0   \n",
       "4             4.0  4.195373e+10        -1.5  0.028645             2.0   \n",
       "5             1.0  3.743043e+10        -1.0  0.001592             3.0   \n",
       "\n",
       "       (9, tod)  stock_id  day_id  source_id  \n",
       "0  5.338431e+10     444.0   183.0          2  \n",
       "1  5.577584e+10      95.0   226.0          2  \n",
       "3  3.508851e+10     305.0   248.0          4  \n",
       "4  4.195373e+10      70.0   177.0          2  \n",
       "5  3.743033e+10     279.0   127.0          5  \n",
       "\n",
       "[5 rows x 97 columns]"
      ]
     },
     "execution_count": 3,
     "metadata": {},
     "output_type": "execute_result"
    }
   ],
   "source": [
    "concat.head()"
   ]
  },
  {
   "cell_type": "markdown",
   "metadata": {},
   "source": [
    "# Exploratory Data Analysis"
   ]
  },
  {
   "cell_type": "code",
   "execution_count": 28,
   "metadata": {},
   "outputs": [],
   "source": [
    "def askvsbid(index,df):\n",
    "    df=df.iloc[index]\n",
    "    emptydict={\"name\":[],\"value\":[],\"venue\":[],\"type\":[]}\n",
    "    for key,data in df.to_dict().items():\n",
    "        emptydict[\"name\"].append(key[1])\n",
    "        emptydict[\"value\"].append(data)\n",
    "        emptydict[\"venue\"].append(key[0])\n",
    "        datatype=\"book\"\n",
    "        if key[1]==\"price\" or key[1]==\"qty\" or key[1]==\"source_id\" or key[1]==\"tod\":\n",
    "            datatype=\"trade\"\n",
    "        emptydict[\"type\"].append(datatype)\n",
    "    finaldf=pd.DataFrame(emptydict)[:94]\n",
    "    allowedcolumns=[\"ask\",\"bid\",]\n",
    "    onlyAskAndBid=finaldf[finaldf.name.isin(allowedcolumns)]\n",
    "    return onlyAskAndBid"
   ]
  },
  {
   "cell_type": "code",
   "execution_count": 29,
   "metadata": {},
   "outputs": [],
   "source": [
    "onlyAskAndBid=askvsbid(0,concat)\n",
    "onlyAskAndBid[\"name\"]=onlyAskAndBid[\"name\"]+\"_\"+onlyAskAndBid[\"venue\"].apply(str)\n",
    "onlyAskAndBid[\"value\"]=onlyAskAndBid[\"value\"]+50"
   ]
  },
  {
   "cell_type": "code",
   "execution_count": 30,
   "metadata": {},
   "outputs": [
    {
     "data": {
      "application/vnd.plotly.v1+json": {
       "config": {
        "plotlyServerURL": "https://plot.ly"
       },
       "data": [
        {
         "alignmentgroup": "True",
         "hoverlabel": {
          "namelength": 0
         },
         "hovertemplate": "venue=0<br>name=%{x}<br>value=%{y}",
         "legendgroup": "0",
         "marker": {
          "color": "#636efa"
         },
         "name": "0",
         "offsetgroup": "0",
         "orientation": "v",
         "showlegend": true,
         "textposition": "auto",
         "type": "bar",
         "x": [
          "ask_0",
          "bid_0"
         ],
         "xaxis": "x",
         "y": [
          51.5,
          49.5
         ],
         "yaxis": "y"
        },
        {
         "alignmentgroup": "True",
         "hoverlabel": {
          "namelength": 0
         },
         "hovertemplate": "venue=1<br>name=%{x}<br>value=%{y}",
         "legendgroup": "1",
         "marker": {
          "color": "#EF553B"
         },
         "name": "1",
         "offsetgroup": "1",
         "orientation": "v",
         "showlegend": true,
         "textposition": "auto",
         "type": "bar",
         "x": [
          "ask_1",
          "bid_1"
         ],
         "xaxis": "x",
         "y": [
          50.5,
          49.5
         ],
         "yaxis": "y"
        },
        {
         "alignmentgroup": "True",
         "hoverlabel": {
          "namelength": 0
         },
         "hovertemplate": "venue=2<br>name=%{x}<br>value=%{y}",
         "legendgroup": "2",
         "marker": {
          "color": "#00cc96"
         },
         "name": "2",
         "offsetgroup": "2",
         "orientation": "v",
         "showlegend": true,
         "textposition": "auto",
         "type": "bar",
         "x": [
          "ask_2",
          "bid_2"
         ],
         "xaxis": "x",
         "y": [
          51.5,
          49.5
         ],
         "yaxis": "y"
        },
        {
         "alignmentgroup": "True",
         "hoverlabel": {
          "namelength": 0
         },
         "hovertemplate": "venue=3<br>name=%{x}<br>value=%{y}",
         "legendgroup": "3",
         "marker": {
          "color": "#ab63fa"
         },
         "name": "3",
         "offsetgroup": "3",
         "orientation": "v",
         "showlegend": true,
         "textposition": "auto",
         "type": "bar",
         "x": [
          "ask_3",
          "bid_3"
         ],
         "xaxis": "x",
         "y": [
          51.5,
          49.5
         ],
         "yaxis": "y"
        },
        {
         "alignmentgroup": "True",
         "hoverlabel": {
          "namelength": 0
         },
         "hovertemplate": "venue=4<br>name=%{x}<br>value=%{y}",
         "legendgroup": "4",
         "marker": {
          "color": "#FFA15A"
         },
         "name": "4",
         "offsetgroup": "4",
         "orientation": "v",
         "showlegend": true,
         "textposition": "auto",
         "type": "bar",
         "x": [
          "ask_4",
          "bid_4"
         ],
         "xaxis": "x",
         "y": [
          50.5,
          49.5
         ],
         "yaxis": "y"
        },
        {
         "alignmentgroup": "True",
         "hoverlabel": {
          "namelength": 0
         },
         "hovertemplate": "venue=5<br>name=%{x}<br>value=%{y}",
         "legendgroup": "5",
         "marker": {
          "color": "#19d3f3"
         },
         "name": "5",
         "offsetgroup": "5",
         "orientation": "v",
         "showlegend": true,
         "textposition": "auto",
         "type": "bar",
         "x": [
          "ask_5",
          "bid_5"
         ],
         "xaxis": "x",
         "y": [
          50.5,
          49.5
         ],
         "yaxis": "y"
        }
       ],
       "layout": {
        "barmode": "relative",
        "legend": {
         "title": {
          "text": "venue"
         },
         "tracegroupgap": 0
        },
        "margin": {
         "t": 60
        },
        "template": {
         "data": {
          "bar": [
           {
            "error_x": {
             "color": "#2a3f5f"
            },
            "error_y": {
             "color": "#2a3f5f"
            },
            "marker": {
             "line": {
              "color": "#E5ECF6",
              "width": 0.5
             }
            },
            "type": "bar"
           }
          ],
          "barpolar": [
           {
            "marker": {
             "line": {
              "color": "#E5ECF6",
              "width": 0.5
             }
            },
            "type": "barpolar"
           }
          ],
          "carpet": [
           {
            "aaxis": {
             "endlinecolor": "#2a3f5f",
             "gridcolor": "white",
             "linecolor": "white",
             "minorgridcolor": "white",
             "startlinecolor": "#2a3f5f"
            },
            "baxis": {
             "endlinecolor": "#2a3f5f",
             "gridcolor": "white",
             "linecolor": "white",
             "minorgridcolor": "white",
             "startlinecolor": "#2a3f5f"
            },
            "type": "carpet"
           }
          ],
          "choropleth": [
           {
            "colorbar": {
             "outlinewidth": 0,
             "ticks": ""
            },
            "type": "choropleth"
           }
          ],
          "contour": [
           {
            "colorbar": {
             "outlinewidth": 0,
             "ticks": ""
            },
            "colorscale": [
             [
              0,
              "#0d0887"
             ],
             [
              0.1111111111111111,
              "#46039f"
             ],
             [
              0.2222222222222222,
              "#7201a8"
             ],
             [
              0.3333333333333333,
              "#9c179e"
             ],
             [
              0.4444444444444444,
              "#bd3786"
             ],
             [
              0.5555555555555556,
              "#d8576b"
             ],
             [
              0.6666666666666666,
              "#ed7953"
             ],
             [
              0.7777777777777778,
              "#fb9f3a"
             ],
             [
              0.8888888888888888,
              "#fdca26"
             ],
             [
              1,
              "#f0f921"
             ]
            ],
            "type": "contour"
           }
          ],
          "contourcarpet": [
           {
            "colorbar": {
             "outlinewidth": 0,
             "ticks": ""
            },
            "type": "contourcarpet"
           }
          ],
          "heatmap": [
           {
            "colorbar": {
             "outlinewidth": 0,
             "ticks": ""
            },
            "colorscale": [
             [
              0,
              "#0d0887"
             ],
             [
              0.1111111111111111,
              "#46039f"
             ],
             [
              0.2222222222222222,
              "#7201a8"
             ],
             [
              0.3333333333333333,
              "#9c179e"
             ],
             [
              0.4444444444444444,
              "#bd3786"
             ],
             [
              0.5555555555555556,
              "#d8576b"
             ],
             [
              0.6666666666666666,
              "#ed7953"
             ],
             [
              0.7777777777777778,
              "#fb9f3a"
             ],
             [
              0.8888888888888888,
              "#fdca26"
             ],
             [
              1,
              "#f0f921"
             ]
            ],
            "type": "heatmap"
           }
          ],
          "heatmapgl": [
           {
            "colorbar": {
             "outlinewidth": 0,
             "ticks": ""
            },
            "colorscale": [
             [
              0,
              "#0d0887"
             ],
             [
              0.1111111111111111,
              "#46039f"
             ],
             [
              0.2222222222222222,
              "#7201a8"
             ],
             [
              0.3333333333333333,
              "#9c179e"
             ],
             [
              0.4444444444444444,
              "#bd3786"
             ],
             [
              0.5555555555555556,
              "#d8576b"
             ],
             [
              0.6666666666666666,
              "#ed7953"
             ],
             [
              0.7777777777777778,
              "#fb9f3a"
             ],
             [
              0.8888888888888888,
              "#fdca26"
             ],
             [
              1,
              "#f0f921"
             ]
            ],
            "type": "heatmapgl"
           }
          ],
          "histogram": [
           {
            "marker": {
             "colorbar": {
              "outlinewidth": 0,
              "ticks": ""
             }
            },
            "type": "histogram"
           }
          ],
          "histogram2d": [
           {
            "colorbar": {
             "outlinewidth": 0,
             "ticks": ""
            },
            "colorscale": [
             [
              0,
              "#0d0887"
             ],
             [
              0.1111111111111111,
              "#46039f"
             ],
             [
              0.2222222222222222,
              "#7201a8"
             ],
             [
              0.3333333333333333,
              "#9c179e"
             ],
             [
              0.4444444444444444,
              "#bd3786"
             ],
             [
              0.5555555555555556,
              "#d8576b"
             ],
             [
              0.6666666666666666,
              "#ed7953"
             ],
             [
              0.7777777777777778,
              "#fb9f3a"
             ],
             [
              0.8888888888888888,
              "#fdca26"
             ],
             [
              1,
              "#f0f921"
             ]
            ],
            "type": "histogram2d"
           }
          ],
          "histogram2dcontour": [
           {
            "colorbar": {
             "outlinewidth": 0,
             "ticks": ""
            },
            "colorscale": [
             [
              0,
              "#0d0887"
             ],
             [
              0.1111111111111111,
              "#46039f"
             ],
             [
              0.2222222222222222,
              "#7201a8"
             ],
             [
              0.3333333333333333,
              "#9c179e"
             ],
             [
              0.4444444444444444,
              "#bd3786"
             ],
             [
              0.5555555555555556,
              "#d8576b"
             ],
             [
              0.6666666666666666,
              "#ed7953"
             ],
             [
              0.7777777777777778,
              "#fb9f3a"
             ],
             [
              0.8888888888888888,
              "#fdca26"
             ],
             [
              1,
              "#f0f921"
             ]
            ],
            "type": "histogram2dcontour"
           }
          ],
          "mesh3d": [
           {
            "colorbar": {
             "outlinewidth": 0,
             "ticks": ""
            },
            "type": "mesh3d"
           }
          ],
          "parcoords": [
           {
            "line": {
             "colorbar": {
              "outlinewidth": 0,
              "ticks": ""
             }
            },
            "type": "parcoords"
           }
          ],
          "pie": [
           {
            "automargin": true,
            "type": "pie"
           }
          ],
          "scatter": [
           {
            "marker": {
             "colorbar": {
              "outlinewidth": 0,
              "ticks": ""
             }
            },
            "type": "scatter"
           }
          ],
          "scatter3d": [
           {
            "line": {
             "colorbar": {
              "outlinewidth": 0,
              "ticks": ""
             }
            },
            "marker": {
             "colorbar": {
              "outlinewidth": 0,
              "ticks": ""
             }
            },
            "type": "scatter3d"
           }
          ],
          "scattercarpet": [
           {
            "marker": {
             "colorbar": {
              "outlinewidth": 0,
              "ticks": ""
             }
            },
            "type": "scattercarpet"
           }
          ],
          "scattergeo": [
           {
            "marker": {
             "colorbar": {
              "outlinewidth": 0,
              "ticks": ""
             }
            },
            "type": "scattergeo"
           }
          ],
          "scattergl": [
           {
            "marker": {
             "colorbar": {
              "outlinewidth": 0,
              "ticks": ""
             }
            },
            "type": "scattergl"
           }
          ],
          "scattermapbox": [
           {
            "marker": {
             "colorbar": {
              "outlinewidth": 0,
              "ticks": ""
             }
            },
            "type": "scattermapbox"
           }
          ],
          "scatterpolar": [
           {
            "marker": {
             "colorbar": {
              "outlinewidth": 0,
              "ticks": ""
             }
            },
            "type": "scatterpolar"
           }
          ],
          "scatterpolargl": [
           {
            "marker": {
             "colorbar": {
              "outlinewidth": 0,
              "ticks": ""
             }
            },
            "type": "scatterpolargl"
           }
          ],
          "scatterternary": [
           {
            "marker": {
             "colorbar": {
              "outlinewidth": 0,
              "ticks": ""
             }
            },
            "type": "scatterternary"
           }
          ],
          "surface": [
           {
            "colorbar": {
             "outlinewidth": 0,
             "ticks": ""
            },
            "colorscale": [
             [
              0,
              "#0d0887"
             ],
             [
              0.1111111111111111,
              "#46039f"
             ],
             [
              0.2222222222222222,
              "#7201a8"
             ],
             [
              0.3333333333333333,
              "#9c179e"
             ],
             [
              0.4444444444444444,
              "#bd3786"
             ],
             [
              0.5555555555555556,
              "#d8576b"
             ],
             [
              0.6666666666666666,
              "#ed7953"
             ],
             [
              0.7777777777777778,
              "#fb9f3a"
             ],
             [
              0.8888888888888888,
              "#fdca26"
             ],
             [
              1,
              "#f0f921"
             ]
            ],
            "type": "surface"
           }
          ],
          "table": [
           {
            "cells": {
             "fill": {
              "color": "#EBF0F8"
             },
             "line": {
              "color": "white"
             }
            },
            "header": {
             "fill": {
              "color": "#C8D4E3"
             },
             "line": {
              "color": "white"
             }
            },
            "type": "table"
           }
          ]
         },
         "layout": {
          "annotationdefaults": {
           "arrowcolor": "#2a3f5f",
           "arrowhead": 0,
           "arrowwidth": 1
          },
          "coloraxis": {
           "colorbar": {
            "outlinewidth": 0,
            "ticks": ""
           }
          },
          "colorscale": {
           "diverging": [
            [
             0,
             "#8e0152"
            ],
            [
             0.1,
             "#c51b7d"
            ],
            [
             0.2,
             "#de77ae"
            ],
            [
             0.3,
             "#f1b6da"
            ],
            [
             0.4,
             "#fde0ef"
            ],
            [
             0.5,
             "#f7f7f7"
            ],
            [
             0.6,
             "#e6f5d0"
            ],
            [
             0.7,
             "#b8e186"
            ],
            [
             0.8,
             "#7fbc41"
            ],
            [
             0.9,
             "#4d9221"
            ],
            [
             1,
             "#276419"
            ]
           ],
           "sequential": [
            [
             0,
             "#0d0887"
            ],
            [
             0.1111111111111111,
             "#46039f"
            ],
            [
             0.2222222222222222,
             "#7201a8"
            ],
            [
             0.3333333333333333,
             "#9c179e"
            ],
            [
             0.4444444444444444,
             "#bd3786"
            ],
            [
             0.5555555555555556,
             "#d8576b"
            ],
            [
             0.6666666666666666,
             "#ed7953"
            ],
            [
             0.7777777777777778,
             "#fb9f3a"
            ],
            [
             0.8888888888888888,
             "#fdca26"
            ],
            [
             1,
             "#f0f921"
            ]
           ],
           "sequentialminus": [
            [
             0,
             "#0d0887"
            ],
            [
             0.1111111111111111,
             "#46039f"
            ],
            [
             0.2222222222222222,
             "#7201a8"
            ],
            [
             0.3333333333333333,
             "#9c179e"
            ],
            [
             0.4444444444444444,
             "#bd3786"
            ],
            [
             0.5555555555555556,
             "#d8576b"
            ],
            [
             0.6666666666666666,
             "#ed7953"
            ],
            [
             0.7777777777777778,
             "#fb9f3a"
            ],
            [
             0.8888888888888888,
             "#fdca26"
            ],
            [
             1,
             "#f0f921"
            ]
           ]
          },
          "colorway": [
           "#636efa",
           "#EF553B",
           "#00cc96",
           "#ab63fa",
           "#FFA15A",
           "#19d3f3",
           "#FF6692",
           "#B6E880",
           "#FF97FF",
           "#FECB52"
          ],
          "font": {
           "color": "#2a3f5f"
          },
          "geo": {
           "bgcolor": "white",
           "lakecolor": "white",
           "landcolor": "#E5ECF6",
           "showlakes": true,
           "showland": true,
           "subunitcolor": "white"
          },
          "hoverlabel": {
           "align": "left"
          },
          "hovermode": "closest",
          "mapbox": {
           "style": "light"
          },
          "paper_bgcolor": "white",
          "plot_bgcolor": "#E5ECF6",
          "polar": {
           "angularaxis": {
            "gridcolor": "white",
            "linecolor": "white",
            "ticks": ""
           },
           "bgcolor": "#E5ECF6",
           "radialaxis": {
            "gridcolor": "white",
            "linecolor": "white",
            "ticks": ""
           }
          },
          "scene": {
           "xaxis": {
            "backgroundcolor": "#E5ECF6",
            "gridcolor": "white",
            "gridwidth": 2,
            "linecolor": "white",
            "showbackground": true,
            "ticks": "",
            "zerolinecolor": "white"
           },
           "yaxis": {
            "backgroundcolor": "#E5ECF6",
            "gridcolor": "white",
            "gridwidth": 2,
            "linecolor": "white",
            "showbackground": true,
            "ticks": "",
            "zerolinecolor": "white"
           },
           "zaxis": {
            "backgroundcolor": "#E5ECF6",
            "gridcolor": "white",
            "gridwidth": 2,
            "linecolor": "white",
            "showbackground": true,
            "ticks": "",
            "zerolinecolor": "white"
           }
          },
          "shapedefaults": {
           "line": {
            "color": "#2a3f5f"
           }
          },
          "ternary": {
           "aaxis": {
            "gridcolor": "white",
            "linecolor": "white",
            "ticks": ""
           },
           "baxis": {
            "gridcolor": "white",
            "linecolor": "white",
            "ticks": ""
           },
           "bgcolor": "#E5ECF6",
           "caxis": {
            "gridcolor": "white",
            "linecolor": "white",
            "ticks": ""
           }
          },
          "title": {
           "x": 0.05
          },
          "xaxis": {
           "automargin": true,
           "gridcolor": "white",
           "linecolor": "white",
           "ticks": "",
           "title": {
            "standoff": 15
           },
           "zerolinecolor": "white",
           "zerolinewidth": 2
          },
          "yaxis": {
           "automargin": true,
           "gridcolor": "white",
           "linecolor": "white",
           "ticks": "",
           "title": {
            "standoff": 15
           },
           "zerolinecolor": "white",
           "zerolinewidth": 2
          }
         }
        },
        "xaxis": {
         "anchor": "y",
         "domain": [
          0,
          1
         ],
         "title": {
          "text": "name"
         }
        },
        "yaxis": {
         "anchor": "x",
         "domain": [
          0,
          1
         ],
         "title": {
          "text": "value"
         }
        }
       }
      },
      "text/html": [
       "<div>\n",
       "        \n",
       "        \n",
       "            <div id=\"450a50e4-f588-4acb-8ff8-603764b0bc27\" class=\"plotly-graph-div\" style=\"height:525px; width:100%;\"></div>\n",
       "            <script type=\"text/javascript\">\n",
       "                require([\"plotly\"], function(Plotly) {\n",
       "                    window.PLOTLYENV=window.PLOTLYENV || {};\n",
       "                    \n",
       "                if (document.getElementById(\"450a50e4-f588-4acb-8ff8-603764b0bc27\")) {\n",
       "                    Plotly.newPlot(\n",
       "                        '450a50e4-f588-4acb-8ff8-603764b0bc27',\n",
       "                        [{\"alignmentgroup\": \"True\", \"hoverlabel\": {\"namelength\": 0}, \"hovertemplate\": \"venue=0<br>name=%{x}<br>value=%{y}\", \"legendgroup\": \"0\", \"marker\": {\"color\": \"#636efa\"}, \"name\": \"0\", \"offsetgroup\": \"0\", \"orientation\": \"v\", \"showlegend\": true, \"textposition\": \"auto\", \"type\": \"bar\", \"x\": [\"ask_0\", \"bid_0\"], \"xaxis\": \"x\", \"y\": [51.5, 49.5], \"yaxis\": \"y\"}, {\"alignmentgroup\": \"True\", \"hoverlabel\": {\"namelength\": 0}, \"hovertemplate\": \"venue=1<br>name=%{x}<br>value=%{y}\", \"legendgroup\": \"1\", \"marker\": {\"color\": \"#EF553B\"}, \"name\": \"1\", \"offsetgroup\": \"1\", \"orientation\": \"v\", \"showlegend\": true, \"textposition\": \"auto\", \"type\": \"bar\", \"x\": [\"ask_1\", \"bid_1\"], \"xaxis\": \"x\", \"y\": [50.5, 49.5], \"yaxis\": \"y\"}, {\"alignmentgroup\": \"True\", \"hoverlabel\": {\"namelength\": 0}, \"hovertemplate\": \"venue=2<br>name=%{x}<br>value=%{y}\", \"legendgroup\": \"2\", \"marker\": {\"color\": \"#00cc96\"}, \"name\": \"2\", \"offsetgroup\": \"2\", \"orientation\": \"v\", \"showlegend\": true, \"textposition\": \"auto\", \"type\": \"bar\", \"x\": [\"ask_2\", \"bid_2\"], \"xaxis\": \"x\", \"y\": [51.5, 49.5], \"yaxis\": \"y\"}, {\"alignmentgroup\": \"True\", \"hoverlabel\": {\"namelength\": 0}, \"hovertemplate\": \"venue=3<br>name=%{x}<br>value=%{y}\", \"legendgroup\": \"3\", \"marker\": {\"color\": \"#ab63fa\"}, \"name\": \"3\", \"offsetgroup\": \"3\", \"orientation\": \"v\", \"showlegend\": true, \"textposition\": \"auto\", \"type\": \"bar\", \"x\": [\"ask_3\", \"bid_3\"], \"xaxis\": \"x\", \"y\": [51.5, 49.5], \"yaxis\": \"y\"}, {\"alignmentgroup\": \"True\", \"hoverlabel\": {\"namelength\": 0}, \"hovertemplate\": \"venue=4<br>name=%{x}<br>value=%{y}\", \"legendgroup\": \"4\", \"marker\": {\"color\": \"#FFA15A\"}, \"name\": \"4\", \"offsetgroup\": \"4\", \"orientation\": \"v\", \"showlegend\": true, \"textposition\": \"auto\", \"type\": \"bar\", \"x\": [\"ask_4\", \"bid_4\"], \"xaxis\": \"x\", \"y\": [50.5, 49.5], \"yaxis\": \"y\"}, {\"alignmentgroup\": \"True\", \"hoverlabel\": {\"namelength\": 0}, \"hovertemplate\": \"venue=5<br>name=%{x}<br>value=%{y}\", \"legendgroup\": \"5\", \"marker\": {\"color\": \"#19d3f3\"}, \"name\": \"5\", \"offsetgroup\": \"5\", \"orientation\": \"v\", \"showlegend\": true, \"textposition\": \"auto\", \"type\": \"bar\", \"x\": [\"ask_5\", \"bid_5\"], \"xaxis\": \"x\", \"y\": [50.5, 49.5], \"yaxis\": \"y\"}],\n",
       "                        {\"barmode\": \"relative\", \"legend\": {\"title\": {\"text\": \"venue\"}, \"tracegroupgap\": 0}, \"margin\": {\"t\": 60}, \"template\": {\"data\": {\"bar\": [{\"error_x\": {\"color\": \"#2a3f5f\"}, \"error_y\": {\"color\": \"#2a3f5f\"}, \"marker\": {\"line\": {\"color\": \"#E5ECF6\", \"width\": 0.5}}, \"type\": \"bar\"}], \"barpolar\": [{\"marker\": {\"line\": {\"color\": \"#E5ECF6\", \"width\": 0.5}}, \"type\": \"barpolar\"}], \"carpet\": [{\"aaxis\": {\"endlinecolor\": \"#2a3f5f\", \"gridcolor\": \"white\", \"linecolor\": \"white\", \"minorgridcolor\": \"white\", \"startlinecolor\": \"#2a3f5f\"}, \"baxis\": {\"endlinecolor\": \"#2a3f5f\", \"gridcolor\": \"white\", \"linecolor\": \"white\", \"minorgridcolor\": \"white\", \"startlinecolor\": \"#2a3f5f\"}, \"type\": \"carpet\"}], \"choropleth\": [{\"colorbar\": {\"outlinewidth\": 0, \"ticks\": \"\"}, \"type\": \"choropleth\"}], \"contour\": [{\"colorbar\": {\"outlinewidth\": 0, \"ticks\": \"\"}, \"colorscale\": [[0.0, \"#0d0887\"], [0.1111111111111111, \"#46039f\"], [0.2222222222222222, \"#7201a8\"], [0.3333333333333333, \"#9c179e\"], [0.4444444444444444, \"#bd3786\"], [0.5555555555555556, \"#d8576b\"], [0.6666666666666666, \"#ed7953\"], [0.7777777777777778, \"#fb9f3a\"], [0.8888888888888888, \"#fdca26\"], [1.0, \"#f0f921\"]], \"type\": \"contour\"}], \"contourcarpet\": [{\"colorbar\": {\"outlinewidth\": 0, \"ticks\": \"\"}, \"type\": \"contourcarpet\"}], \"heatmap\": [{\"colorbar\": {\"outlinewidth\": 0, \"ticks\": \"\"}, \"colorscale\": [[0.0, \"#0d0887\"], [0.1111111111111111, \"#46039f\"], [0.2222222222222222, \"#7201a8\"], [0.3333333333333333, \"#9c179e\"], [0.4444444444444444, \"#bd3786\"], [0.5555555555555556, \"#d8576b\"], [0.6666666666666666, \"#ed7953\"], [0.7777777777777778, \"#fb9f3a\"], [0.8888888888888888, \"#fdca26\"], [1.0, \"#f0f921\"]], \"type\": \"heatmap\"}], \"heatmapgl\": [{\"colorbar\": {\"outlinewidth\": 0, \"ticks\": \"\"}, \"colorscale\": [[0.0, \"#0d0887\"], [0.1111111111111111, \"#46039f\"], [0.2222222222222222, \"#7201a8\"], [0.3333333333333333, \"#9c179e\"], [0.4444444444444444, \"#bd3786\"], [0.5555555555555556, \"#d8576b\"], [0.6666666666666666, \"#ed7953\"], [0.7777777777777778, \"#fb9f3a\"], [0.8888888888888888, \"#fdca26\"], [1.0, \"#f0f921\"]], \"type\": \"heatmapgl\"}], \"histogram\": [{\"marker\": {\"colorbar\": {\"outlinewidth\": 0, \"ticks\": \"\"}}, \"type\": \"histogram\"}], \"histogram2d\": [{\"colorbar\": {\"outlinewidth\": 0, \"ticks\": \"\"}, \"colorscale\": [[0.0, \"#0d0887\"], [0.1111111111111111, \"#46039f\"], [0.2222222222222222, \"#7201a8\"], [0.3333333333333333, \"#9c179e\"], [0.4444444444444444, \"#bd3786\"], [0.5555555555555556, \"#d8576b\"], [0.6666666666666666, \"#ed7953\"], [0.7777777777777778, \"#fb9f3a\"], [0.8888888888888888, \"#fdca26\"], [1.0, \"#f0f921\"]], \"type\": \"histogram2d\"}], \"histogram2dcontour\": [{\"colorbar\": {\"outlinewidth\": 0, \"ticks\": \"\"}, \"colorscale\": [[0.0, \"#0d0887\"], [0.1111111111111111, \"#46039f\"], [0.2222222222222222, \"#7201a8\"], [0.3333333333333333, \"#9c179e\"], [0.4444444444444444, \"#bd3786\"], [0.5555555555555556, \"#d8576b\"], [0.6666666666666666, \"#ed7953\"], [0.7777777777777778, \"#fb9f3a\"], [0.8888888888888888, \"#fdca26\"], [1.0, \"#f0f921\"]], \"type\": \"histogram2dcontour\"}], \"mesh3d\": [{\"colorbar\": {\"outlinewidth\": 0, \"ticks\": \"\"}, \"type\": \"mesh3d\"}], \"parcoords\": [{\"line\": {\"colorbar\": {\"outlinewidth\": 0, \"ticks\": \"\"}}, \"type\": \"parcoords\"}], \"pie\": [{\"automargin\": true, \"type\": \"pie\"}], \"scatter\": [{\"marker\": {\"colorbar\": {\"outlinewidth\": 0, \"ticks\": \"\"}}, \"type\": \"scatter\"}], \"scatter3d\": [{\"line\": {\"colorbar\": {\"outlinewidth\": 0, \"ticks\": \"\"}}, \"marker\": {\"colorbar\": {\"outlinewidth\": 0, \"ticks\": \"\"}}, \"type\": \"scatter3d\"}], \"scattercarpet\": [{\"marker\": {\"colorbar\": {\"outlinewidth\": 0, \"ticks\": \"\"}}, \"type\": \"scattercarpet\"}], \"scattergeo\": [{\"marker\": {\"colorbar\": {\"outlinewidth\": 0, \"ticks\": \"\"}}, \"type\": \"scattergeo\"}], \"scattergl\": [{\"marker\": {\"colorbar\": {\"outlinewidth\": 0, \"ticks\": \"\"}}, \"type\": \"scattergl\"}], \"scattermapbox\": [{\"marker\": {\"colorbar\": {\"outlinewidth\": 0, \"ticks\": \"\"}}, \"type\": \"scattermapbox\"}], \"scatterpolar\": [{\"marker\": {\"colorbar\": {\"outlinewidth\": 0, \"ticks\": \"\"}}, \"type\": \"scatterpolar\"}], \"scatterpolargl\": [{\"marker\": {\"colorbar\": {\"outlinewidth\": 0, \"ticks\": \"\"}}, \"type\": \"scatterpolargl\"}], \"scatterternary\": [{\"marker\": {\"colorbar\": {\"outlinewidth\": 0, \"ticks\": \"\"}}, \"type\": \"scatterternary\"}], \"surface\": [{\"colorbar\": {\"outlinewidth\": 0, \"ticks\": \"\"}, \"colorscale\": [[0.0, \"#0d0887\"], [0.1111111111111111, \"#46039f\"], [0.2222222222222222, \"#7201a8\"], [0.3333333333333333, \"#9c179e\"], [0.4444444444444444, \"#bd3786\"], [0.5555555555555556, \"#d8576b\"], [0.6666666666666666, \"#ed7953\"], [0.7777777777777778, \"#fb9f3a\"], [0.8888888888888888, \"#fdca26\"], [1.0, \"#f0f921\"]], \"type\": \"surface\"}], \"table\": [{\"cells\": {\"fill\": {\"color\": \"#EBF0F8\"}, \"line\": {\"color\": \"white\"}}, \"header\": {\"fill\": {\"color\": \"#C8D4E3\"}, \"line\": {\"color\": \"white\"}}, \"type\": \"table\"}]}, \"layout\": {\"annotationdefaults\": {\"arrowcolor\": \"#2a3f5f\", \"arrowhead\": 0, \"arrowwidth\": 1}, \"coloraxis\": {\"colorbar\": {\"outlinewidth\": 0, \"ticks\": \"\"}}, \"colorscale\": {\"diverging\": [[0, \"#8e0152\"], [0.1, \"#c51b7d\"], [0.2, \"#de77ae\"], [0.3, \"#f1b6da\"], [0.4, \"#fde0ef\"], [0.5, \"#f7f7f7\"], [0.6, \"#e6f5d0\"], [0.7, \"#b8e186\"], [0.8, \"#7fbc41\"], [0.9, \"#4d9221\"], [1, \"#276419\"]], \"sequential\": [[0.0, \"#0d0887\"], [0.1111111111111111, \"#46039f\"], [0.2222222222222222, \"#7201a8\"], [0.3333333333333333, \"#9c179e\"], [0.4444444444444444, \"#bd3786\"], [0.5555555555555556, \"#d8576b\"], [0.6666666666666666, \"#ed7953\"], [0.7777777777777778, \"#fb9f3a\"], [0.8888888888888888, \"#fdca26\"], [1.0, \"#f0f921\"]], \"sequentialminus\": [[0.0, \"#0d0887\"], [0.1111111111111111, \"#46039f\"], [0.2222222222222222, \"#7201a8\"], [0.3333333333333333, \"#9c179e\"], [0.4444444444444444, \"#bd3786\"], [0.5555555555555556, \"#d8576b\"], [0.6666666666666666, \"#ed7953\"], [0.7777777777777778, \"#fb9f3a\"], [0.8888888888888888, \"#fdca26\"], [1.0, \"#f0f921\"]]}, \"colorway\": [\"#636efa\", \"#EF553B\", \"#00cc96\", \"#ab63fa\", \"#FFA15A\", \"#19d3f3\", \"#FF6692\", \"#B6E880\", \"#FF97FF\", \"#FECB52\"], \"font\": {\"color\": \"#2a3f5f\"}, \"geo\": {\"bgcolor\": \"white\", \"lakecolor\": \"white\", \"landcolor\": \"#E5ECF6\", \"showlakes\": true, \"showland\": true, \"subunitcolor\": \"white\"}, \"hoverlabel\": {\"align\": \"left\"}, \"hovermode\": \"closest\", \"mapbox\": {\"style\": \"light\"}, \"paper_bgcolor\": \"white\", \"plot_bgcolor\": \"#E5ECF6\", \"polar\": {\"angularaxis\": {\"gridcolor\": \"white\", \"linecolor\": \"white\", \"ticks\": \"\"}, \"bgcolor\": \"#E5ECF6\", \"radialaxis\": {\"gridcolor\": \"white\", \"linecolor\": \"white\", \"ticks\": \"\"}}, \"scene\": {\"xaxis\": {\"backgroundcolor\": \"#E5ECF6\", \"gridcolor\": \"white\", \"gridwidth\": 2, \"linecolor\": \"white\", \"showbackground\": true, \"ticks\": \"\", \"zerolinecolor\": \"white\"}, \"yaxis\": {\"backgroundcolor\": \"#E5ECF6\", \"gridcolor\": \"white\", \"gridwidth\": 2, \"linecolor\": \"white\", \"showbackground\": true, \"ticks\": \"\", \"zerolinecolor\": \"white\"}, \"zaxis\": {\"backgroundcolor\": \"#E5ECF6\", \"gridcolor\": \"white\", \"gridwidth\": 2, \"linecolor\": \"white\", \"showbackground\": true, \"ticks\": \"\", \"zerolinecolor\": \"white\"}}, \"shapedefaults\": {\"line\": {\"color\": \"#2a3f5f\"}}, \"ternary\": {\"aaxis\": {\"gridcolor\": \"white\", \"linecolor\": \"white\", \"ticks\": \"\"}, \"baxis\": {\"gridcolor\": \"white\", \"linecolor\": \"white\", \"ticks\": \"\"}, \"bgcolor\": \"#E5ECF6\", \"caxis\": {\"gridcolor\": \"white\", \"linecolor\": \"white\", \"ticks\": \"\"}}, \"title\": {\"x\": 0.05}, \"xaxis\": {\"automargin\": true, \"gridcolor\": \"white\", \"linecolor\": \"white\", \"ticks\": \"\", \"title\": {\"standoff\": 15}, \"zerolinecolor\": \"white\", \"zerolinewidth\": 2}, \"yaxis\": {\"automargin\": true, \"gridcolor\": \"white\", \"linecolor\": \"white\", \"ticks\": \"\", \"title\": {\"standoff\": 15}, \"zerolinecolor\": \"white\", \"zerolinewidth\": 2}}}, \"xaxis\": {\"anchor\": \"y\", \"domain\": [0.0, 1.0], \"title\": {\"text\": \"name\"}}, \"yaxis\": {\"anchor\": \"x\", \"domain\": [0.0, 1.0], \"title\": {\"text\": \"value\"}}},\n",
       "                        {\"responsive\": true}\n",
       "                    ).then(function(){\n",
       "                            \n",
       "var gd = document.getElementById('450a50e4-f588-4acb-8ff8-603764b0bc27');\n",
       "var x = new MutationObserver(function (mutations, observer) {{\n",
       "        var display = window.getComputedStyle(gd).display;\n",
       "        if (!display || display === 'none') {{\n",
       "            console.log([gd, 'removed!']);\n",
       "            Plotly.purge(gd);\n",
       "            observer.disconnect();\n",
       "        }}\n",
       "}});\n",
       "\n",
       "// Listen for the removal of the full notebook cells\n",
       "var notebookContainer = gd.closest('#notebook-container');\n",
       "if (notebookContainer) {{\n",
       "    x.observe(notebookContainer, {childList: true});\n",
       "}}\n",
       "\n",
       "// Listen for the clearing of the current output cell\n",
       "var outputEl = gd.closest('.output');\n",
       "if (outputEl) {{\n",
       "    x.observe(outputEl, {childList: true});\n",
       "}}\n",
       "\n",
       "                        })\n",
       "                };\n",
       "                });\n",
       "            </script>\n",
       "        </div>"
      ]
     },
     "metadata": {},
     "output_type": "display_data"
    }
   ],
   "source": [
    "import plotly.express as px\n",
    "\n",
    "fig = px.bar(onlyAskAndBid, x='name', y='value',color=\"venue\")\n",
    "fig.show()"
   ]
  },
  {
   "cell_type": "code",
   "execution_count": 33,
   "metadata": {},
   "outputs": [],
   "source": [
    "def getTrades(index,df):\n",
    "    point=df.iloc[index]\n",
    "    emptydict={\"price\":[],\"qty\":[],\"venue\":[],\"tod\":[]}\n",
    "    for key,data in point.to_dict().items():\n",
    "        if key[1]==\"price\":\n",
    "            emptydict[\"price\"].append(data)\n",
    "        if key[1]==\"qty\":\n",
    "            emptydict[\"qty\"].append(data)\n",
    "        if key[1]==\"source_id\":\n",
    "            emptydict[\"venue\"].append(data)\n",
    "        if key[1]==\"tod\":\n",
    "            emptydict[\"tod\"].append(data)\n",
    "    \n",
    "    onlyTrades=pd.DataFrame(emptydict).sort_values(by=\"tod\")\n",
    "    onlyTrades.tod=onlyTrades.tod\n",
    "    onlyTrades.tod=onlyTrades.tod.astype(str)\n",
    "    onlyTrades.price=onlyTrades.price+10\n",
    "    onlyTrades.venue=onlyTrades.venue.astype(str)\n",
    "    return onlyTrades"
   ]
  },
  {
   "cell_type": "code",
   "execution_count": 56,
   "metadata": {},
   "outputs": [
    {
     "ename": "NameError",
     "evalue": "name 'sns' is not defined",
     "output_type": "error",
     "traceback": [
      "\u001b[1;31m---------------------------------------------------------------------------\u001b[0m",
      "\u001b[1;31mNameError\u001b[0m                                 Traceback (most recent call last)",
      "\u001b[1;32m<ipython-input-56-a1c4eae19391>\u001b[0m in \u001b[0;36m<module>\u001b[1;34m\u001b[0m\n\u001b[1;32m----> 1\u001b[1;33m \u001b[0msns\u001b[0m\u001b[1;33m.\u001b[0m\u001b[0mset\u001b[0m\u001b[1;33m(\u001b[0m\u001b[0mrc\u001b[0m\u001b[1;33m=\u001b[0m\u001b[1;33m{\u001b[0m\u001b[1;34m'figure.figsize'\u001b[0m\u001b[1;33m:\u001b[0m\u001b[1;33m(\u001b[0m\u001b[1;36m11.7\u001b[0m\u001b[1;33m,\u001b[0m\u001b[1;36m8.27\u001b[0m\u001b[1;33m)\u001b[0m\u001b[1;33m}\u001b[0m\u001b[1;33m)\u001b[0m\u001b[1;33m\u001b[0m\u001b[1;33m\u001b[0m\u001b[0m\n\u001b[0m\u001b[0;32m      2\u001b[0m \u001b[0msns\u001b[0m\u001b[1;33m.\u001b[0m\u001b[0mset_style\u001b[0m\u001b[1;33m(\u001b[0m\u001b[1;34m\"whitegrid\"\u001b[0m\u001b[1;33m)\u001b[0m\u001b[1;33m\u001b[0m\u001b[1;33m\u001b[0m\u001b[0m\n",
      "\u001b[1;31mNameError\u001b[0m: name 'sns' is not defined"
     ]
    }
   ],
   "source": [
    "sns.set(rc={'figure.figsize':(11.7,8.27)})\n",
    "sns.set_style(\"whitegrid\")"
   ]
  },
  {
   "cell_type": "code",
   "execution_count": 38,
   "metadata": {
    "scrolled": false
   },
   "outputs": [
    {
     "data": {
      "text/plain": [
       "[Text(0.5, 0, 'TimeStamp in milliseconds'), Text(0, 0.5, 'Price')]"
      ]
     },
     "execution_count": 38,
     "metadata": {},
     "output_type": "execute_result"
    },
    {
     "data": {
      "image/png": "[encoded data removed]",
      "text/plain": [
       "<Figure size 842.4x595.44 with 1 Axes>"
      ]
     },
     "metadata": {},
     "output_type": "display_data"
    }
   ],
   "source": [
    "onlyTrades=getTrades(0,concat)\n",
    "import seaborn as sns\n",
    "sns.set(rc={'figure.figsize':(11.7,8.27)})\n",
    "sns.set_style(\"whitegrid\")\n",
    "ax=sns.barplot(data=onlyTrades,x='tod',y='price')\n",
    "ax.set(xlabel='TimeStamp in milliseconds', ylabel='Price')\n"
   ]
  },
  {
   "cell_type": "markdown",
   "metadata": {},
   "source": [
    "# Target Variable Balance?"
   ]
  },
  {
   "cell_type": "code",
   "execution_count": 16,
   "metadata": {},
   "outputs": [
    {
     "data": {
      "text/plain": [
       "<AxesSubplot:xlabel='source_id', ylabel='Count'>"
      ]
     },
     "execution_count": 16,
     "metadata": {},
     "output_type": "execute_result"
    },
    {
     "data": {
      "image/png": "[encoded data removed]",
      "text/plain": [
       "<Figure size 842.4x595.44 with 1 Axes>"
      ]
     },
     "metadata": {},
     "output_type": "display_data"
    }
   ],
   "source": [
    "sns.histplot(data=concat[\"source_id\"])"
   ]
  },
  {
   "cell_type": "markdown",
   "metadata": {},
   "source": [
    "# Trends by stock\n"
   ]
  },
  {
   "cell_type": "markdown",
   "metadata": {},
   "source": [
    "## Existe t-il des stocks sur ou sous représentés?"
   ]
  },
  {
   "cell_type": "code",
   "execution_count": 11,
   "metadata": {},
   "outputs": [
    {
     "data": {
      "text/plain": [
       "<AxesSubplot:xlabel='stock_id', ylabel='Count'>"
      ]
     },
     "execution_count": 11,
     "metadata": {},
     "output_type": "execute_result"
    },
    {
     "data": {
      "image/png": "[encoded data removed]",
      "text/plain": [
       "<Figure size 842.4x595.44 with 1 Axes>"
      ]
     },
     "metadata": {},
     "output_type": "display_data"
    }
   ],
   "source": [
    "sns.histplot(data=concat[\"stock_id\"])"
   ]
  },
  {
   "cell_type": "markdown",
   "metadata": {},
   "source": [
    "## Existe t-il des stocks ayant une venue dominante?"
   ]
  },
  {
   "cell_type": "code",
   "execution_count": 19,
   "metadata": {},
   "outputs": [
    {
     "data": {
      "text/plain": [
       "<AxesSubplot:xlabel='maxVenuePercent', ylabel='Count'>"
      ]
     },
     "execution_count": 19,
     "metadata": {},
     "output_type": "execute_result"
    },
    {
     "data": {
      "image/png": "[encoded data removed]",
      "text/plain": [
       "<Figure size 842.4x595.44 with 1 Axes>"
      ]
     },
     "metadata": {},
     "output_type": "display_data"
    }
   ],
   "source": [
    "groupby=concat.groupby([\"stock_id\",\"source_id\"]).count()[(0,\"ask\")]\n",
    "emptydict={\"stock_id\":[],\"maxVenue\":[],\"maxVenueCount\":[],\"maxVenuePercent\":[]}\n",
    "for i in groupby.index.get_level_values('stock_id').unique():\n",
    "    groupbyStockAndVenue=groupby[i]\n",
    "    maxVenueCount=groupbyStockAndVenue.max()\n",
    "    maxVenue=groupbyStockAndVenue.idxmax()\n",
    "    sumCount=groupbyStockAndVenue.sum()\n",
    "    emptydict[\"stock_id\"].append(i)\n",
    "    emptydict[\"maxVenue\"].append(maxVenue)\n",
    "    emptydict[\"maxVenueCount\"].append(maxVenueCount)\n",
    "    emptydict[\"maxVenuePercent\"].append((maxVenueCount/sumCount)*100)\n",
    "GroupedByStock=pd.DataFrame(emptydict)\n",
    "\n",
    "\n",
    "sns.histplot(GroupedByStock[\"maxVenuePercent\"])\n",
    "\n"
   ]
  },
  {
   "cell_type": "code",
   "execution_count": 24,
   "metadata": {},
   "outputs": [
    {
     "data": {
      "text/plain": [
       "array([4], dtype=int64)"
      ]
     },
     "execution_count": 24,
     "metadata": {},
     "output_type": "execute_result"
    }
   ],
   "source": [
    "#Quelle venue est favorite?\n",
    "GroupedByStock.maxVenue.unique()\n",
    "\n",
    "\n",
    "#Il en existe que la 4"
   ]
  },
  {
   "cell_type": "markdown",
   "metadata": {},
   "source": [
    "## Existe t-il des jours ayant une venue dominante?"
   ]
  },
  {
   "cell_type": "code",
   "execution_count": 18,
   "metadata": {},
   "outputs": [
    {
     "data": {
      "text/plain": [
       "<AxesSubplot:xlabel='maxVenuePercent', ylabel='Count'>"
      ]
     },
     "execution_count": 18,
     "metadata": {},
     "output_type": "execute_result"
    },
    {
     "data": {
      "image/png": "[encoded data removed]",
      "text/plain": [
       "<Figure size 842.4x595.44 with 1 Axes>"
      ]
     },
     "metadata": {},
     "output_type": "display_data"
    }
   ],
   "source": [
    "groupby=concat.groupby([\"day_id\",\"source_id\"]).count()[(0,\"ask\")]\n",
    "emptydict={\"day_id\":[],\"maxVenue\":[],\"maxVenueCount\":[],\"maxVenuePercent\":[]}\n",
    "for i in groupby.index.get_level_values('day_id').unique():\n",
    "    groupbyStockAndVenue=groupby[i]\n",
    "    maxVenueCount=groupbyStockAndVenue.max()\n",
    "    maxVenue=groupbyStockAndVenue.idxmax()\n",
    "    sumCount=groupbyStockAndVenue.sum()\n",
    "    emptydict[\"day_id\"].append(i)\n",
    "    emptydict[\"maxVenue\"].append(maxVenue)\n",
    "    emptydict[\"maxVenueCount\"].append(maxVenueCount)\n",
    "    emptydict[\"maxVenuePercent\"].append((maxVenueCount/sumCount)*100)\n",
    "GroupedByDay=pd.DataFrame(emptydict)\n",
    "\n",
    "\n",
    "sns.histplot(GroupedByDay[\"maxVenuePercent\"])\n",
    "    \n"
   ]
  },
  {
   "cell_type": "code",
   "execution_count": 25,
   "metadata": {},
   "outputs": [
    {
     "data": {
      "text/plain": [
       "array([4], dtype=int64)"
      ]
     },
     "execution_count": 25,
     "metadata": {},
     "output_type": "execute_result"
    }
   ],
   "source": [
    "#Quelle venue est favorite?\n",
    "GroupedByDay.maxVenue.unique()\n",
    "\n",
    "\n",
    "#Il en existe que la 4"
   ]
  },
  {
   "cell_type": "markdown",
   "metadata": {},
   "source": [
    "# Feature engineering"
   ]
  },
  {
   "cell_type": "code",
   "execution_count": 63,
   "metadata": {},
   "outputs": [],
   "source": [
    "def featEngineering(df):\n",
    "    #venue with best ask => venue with lowest ask\n",
    "    askColumns=[(0,\"ask\"),(1,\"ask\"),(2,\"ask\"),(3,\"ask\"),(4,\"ask\"),(5,\"ask\")]\n",
    "    df[\"best_ask_venue\"]=df[askColumns].idxmin(axis=1).apply(lambda s: s[0])\n",
    "\n",
    "    #venue with best bid=> venue with highest bid\n",
    "    bidColumns=[(0,\"bid\"),(1,\"bid\"),(2,\"bid\"),(3,\"bid\"),(4,\"bid\"),(5,\"bid\")]\n",
    "    df[\"best_bid_venue\"]=df[bidColumns].idxmax(axis=1).apply(lambda s: s[0])\n",
    "    #venue with largest asksize\n",
    "    askSizeColumns=[(0,\"ask_size\"),(1,\"ask_size\"),(2,\"ask_size\"),(3,\"ask_size\"),(4,\"ask_size\"),(5,\"ask_size\")]\n",
    "    df[\"best_ask_size_venue\"]=df[askSizeColumns].idxmax(axis=1).apply(lambda s: s[0])\n",
    "\n",
    "    #venue with largets bidsize\n",
    "    bidSizeColumns=[(0,\"bid_size\"),(1,\"bid_size\"),(2,\"bid_size\"),(3,\"bid_size\"),(4,\"bid_size\"),(5,\"bid_size\")]\n",
    "    df[\"best_bid_size_venue\"]=df[bidSizeColumns].idxmax(axis=1).apply(lambda s: s[0])\n",
    "\n",
    "    #Convert timestamp to hour\n",
    "    def millisecondsToHours(millis):\n",
    "        return int((millis/(1000000*60*60)))\n",
    "\n",
    "    df[\"hour\"]=df[(0,\"tod\")].apply(lambda x:millisecondsToHours(x))\n",
    "    return df\n",
    "\n",
    "train_data=featEngineering(train_data)\n",
    "test_data=featEngineering(test_data)\n"
   ]
  },
  {
   "cell_type": "code",
   "execution_count": 58,
   "metadata": {},
   "outputs": [],
   "source": [
    "from sklearn.model_selection import train_test_split\n",
    "y=concat[\"source_id\"]\n",
    "X=concat.drop(columns=[\"source_id\"])\n",
    "X_train, X_test, y_train, y_test = train_test_split(X, y, test_size=0.5, random_state=0)"
   ]
  },
  {
   "cell_type": "code",
   "execution_count": 59,
   "metadata": {},
   "outputs": [
    {
     "data": {
      "text/plain": [
       "RandomForestClassifier(n_estimators=10)"
      ]
     },
     "execution_count": 59,
     "metadata": {},
     "output_type": "execute_result"
    }
   ],
   "source": [
    "from sklearn.ensemble import RandomForestClassifier\n",
    "\n",
    "clf = RandomForestClassifier(n_estimators=10)\n",
    "clf.fit(X_train, y_train)\n",
    "# y_pred = clf.predict(X_test)"
   ]
  },
  {
   "cell_type": "code",
   "execution_count": 60,
   "metadata": {},
   "outputs": [
    {
     "data": {
      "text/plain": [
       "<AxesSubplot:>"
      ]
     },
     "execution_count": 60,
     "metadata": {},
     "output_type": "execute_result"
    },
    {
     "data": {
      "image/png": "[encoded data removed]",
      "text/plain": [
       "<Figure size 432x288 with 1 Axes>"
      ]
     },
     "metadata": {
      "needs_background": "light"
     },
     "output_type": "display_data"
    }
   ],
   "source": [
    "feat_importances = pd.Series(clf.feature_importances_, index=concat.columns[:101])\n",
    "feat_importances.nlargest(20).plot(kind='barh')"
   ]
  },
  {
   "cell_type": "markdown",
   "metadata": {},
   "source": [
    "# PCA"
   ]
  },
  {
   "cell_type": "code",
   "execution_count": null,
   "metadata": {},
   "outputs": [],
   "source": []
  },
  {
   "cell_type": "code",
   "execution_count": 18,
   "metadata": {},
   "outputs": [],
   "source": [
    "import matplotlib.pyplot as plt\n",
    "from sklearn.inspection import permutation_importance\n"
   ]
  },
  {
   "cell_type": "code",
   "execution_count": null,
   "metadata": {},
   "outputs": [],
   "source": [
    "result = permutation_importance(clf, X_train, y_train, n_repeats=3,\n",
    "                                 n_jobs=2)\n",
    "sorted_idx = result.importances_mean.argsort()\n"
   ]
  },
  {
   "cell_type": "code",
   "execution_count": null,
   "metadata": {},
   "outputs": [],
   "source": [
    "\n",
    "fig, ax = plt.subplots()\n",
    "ax.boxplot(result.importances[sorted_idx].T,\n",
    "           vert=False, labels=X_train.columns[sorted_idx])\n",
    "ax.set_title(\"Permutation Importances (train set)\")\n",
    "fig.tight_layout()\n",
    "plt.show()"
   ]
  },
  {
   "cell_type": "code",
   "execution_count": 33,
   "metadata": {},
   "outputs": [
    {
     "name": "stdout",
     "output_type": "stream",
     "text": [
      "[[   93   290  2479  1310  2164    38]\n",
      " [    6  4352  9613  1359 14354   163]\n",
      " [   27  1714 32294  2878 13751   225]\n",
      " [   43   814  8205  8294  6477   115]\n",
      " [    7  2163 13980  1432 43465   268]\n",
      " [    1   744  4259   692  7486   673]]\n",
      "              precision    recall  f1-score   support\n",
      "\n",
      "           0       0.53      0.01      0.03      6374\n",
      "           1       0.43      0.15      0.22     29847\n",
      "           2       0.46      0.63      0.53     50889\n",
      "           3       0.52      0.35      0.42     23948\n",
      "           4       0.50      0.71      0.58     61315\n",
      "           5       0.45      0.05      0.09     13855\n",
      "\n",
      "    accuracy                           0.48    186228\n",
      "   macro avg       0.48      0.32      0.31    186228\n",
      "weighted avg       0.48      0.48      0.43    186228\n",
      "\n",
      "0.4788270292329832\n"
     ]
    }
   ],
   "source": [
    "from sklearn.metrics import classification_report, confusion_matrix, accuracy_score\n",
    "\n",
    "print(confusion_matrix(y_test,y_pred))\n",
    "print(classification_report(y_test,y_pred))\n",
    "print(accuracy_score(y_test, y_pred))"
   ]
  },
  {
   "cell_type": "code",
   "execution_count": 4,
   "metadata": {},
   "outputs": [],
   "source": [
    "testdata= pd.read_hdf(\"test_dc2020.h5\", 'data')\n"
   ]
  },
  {
   "cell_type": "code",
   "execution_count": 37,
   "metadata": {},
   "outputs": [],
   "source": [
    "y_pred = clf.predict(np.nan_to_num(testdata.drop(columns=[\"ID\"])))"
   ]
  },
  {
   "cell_type": "code",
   "execution_count": 38,
   "metadata": {},
   "outputs": [],
   "source": [
    "\n",
    "\n",
    "sub= pd.DataFrame({'ID': testdata.ID, 'source_id': y_pred})\n",
    "\n",
    "sub.to_csv('SubmissionRandomForestClassifier.csv',index=False)"
   ]
  },
  {
   "cell_type": "code",
   "execution_count": 82,
   "metadata": {},
   "outputs": [
    {
     "data": {
      "text/plain": [
       "Index([           (0, 'ask'),           (0, 'ask1'),       (0, 'ask_size'),\n",
       "            (0, 'ask_size1'),            (0, 'bid'),           (0, 'bid1'),\n",
       "             (0, 'bid_size'),      (0, 'bid_size1'),          (0, 'price'),\n",
       "                  (0, 'qty'),      (0, 'source_id'),            (0, 'tod'),\n",
       "       (0, 'ts_last_update'),            (1, 'ask'),           (1, 'ask1'),\n",
       "             (1, 'ask_size'),      (1, 'ask_size1'),            (1, 'bid'),\n",
       "                 (1, 'bid1'),       (1, 'bid_size'),      (1, 'bid_size1'),\n",
       "       (1, 'ts_last_update'),            (2, 'ask'),           (2, 'ask1'),\n",
       "             (2, 'ask_size'),      (2, 'ask_size1'),            (2, 'bid'),\n",
       "                 (2, 'bid1'),       (2, 'bid_size'),      (2, 'bid_size1'),\n",
       "       (2, 'ts_last_update'),            (3, 'ask'),           (3, 'ask1'),\n",
       "             (3, 'ask_size'),      (3, 'ask_size1'),            (3, 'bid'),\n",
       "                 (3, 'bid1'),       (3, 'bid_size'),      (3, 'bid_size1'),\n",
       "       (3, 'ts_last_update'),            (4, 'ask'),           (4, 'ask1'),\n",
       "             (4, 'ask_size'),      (4, 'ask_size1'),            (4, 'bid'),\n",
       "                 (4, 'bid1'),       (4, 'bid_size'),      (4, 'bid_size1'),\n",
       "       (4, 'ts_last_update'),            (5, 'ask'),           (5, 'ask1'),\n",
       "             (5, 'ask_size'),      (5, 'ask_size1'),            (5, 'bid'),\n",
       "                 (5, 'bid1'),       (5, 'bid_size'),      (5, 'bid_size1'),\n",
       "       (5, 'ts_last_update'),          (1, 'price'),            (1, 'qty'),\n",
       "            (1, 'source_id'),            (1, 'tod'),          (2, 'price'),\n",
       "                  (2, 'qty'),      (2, 'source_id'),            (2, 'tod'),\n",
       "                (3, 'price'),            (3, 'qty'),      (3, 'source_id'),\n",
       "                  (3, 'tod'),          (4, 'price'),            (4, 'qty'),\n",
       "            (4, 'source_id'),            (4, 'tod'),          (5, 'price'),\n",
       "                  (5, 'qty'),      (5, 'source_id'),            (5, 'tod'),\n",
       "                (6, 'price'),            (6, 'qty'),      (6, 'source_id'),\n",
       "                  (6, 'tod'),          (7, 'price'),            (7, 'qty'),\n",
       "            (7, 'source_id'),            (7, 'tod'),          (8, 'price'),\n",
       "                  (8, 'qty'),      (8, 'source_id'),            (8, 'tod'),\n",
       "                (9, 'price'),            (9, 'qty'),      (9, 'source_id'),\n",
       "                  (9, 'tod'),            'stock_id',              'day_id',\n",
       "                        'ID'],\n",
       "      dtype='object')"
      ]
     },
     "execution_count": 82,
     "metadata": {},
     "output_type": "execute_result"
    }
   ],
   "source": [
    "X.columns"
   ]
  },
  {
   "cell_type": "markdown",
   "metadata": {},
   "source": [
    "# Feature engineering"
   ]
  },
  {
   "cell_type": "markdown",
   "metadata": {},
   "source": [
    "# Modelling"
   ]
  },
  {
   "cell_type": "code",
   "execution_count": 64,
   "metadata": {},
   "outputs": [],
   "source": [
    "pd.set_option('display.max_columns', None)\n",
    "cat_features=[train_data.columns.get_loc((0, 'source_id')),train_data.columns.get_loc((1, 'source_id')),train_data.columns.get_loc((2, 'source_id')),train_data.columns.get_loc((3, 'source_id')),train_data.columns.get_loc((4, 'source_id')),train_data.columns.get_loc((5, 'source_id')),train_data.columns.get_loc((6, 'source_id')),train_data.columns.get_loc((7, 'source_id')),train_data.columns.get_loc((8, 'source_id')),train_data.columns.get_loc((9, 'source_id')),train_data.columns.get_loc(\"hour\")]\n"
   ]
  },
  {
   "cell_type": "code",
   "execution_count": null,
   "metadata": {},
   "outputs": [],
   "source": []
  },
  {
   "cell_type": "code",
   "execution_count": 68,
   "metadata": {
    "scrolled": true
   },
   "outputs": [
    {
     "name": "stdout",
     "output_type": "stream",
     "text": [
      "0:\tlearn: 1.4803175\ttotal: 16s\tremaining: 53m 12s\n",
      "1:\tlearn: 1.4269979\ttotal: 29.6s\tremaining: 48m 52s\n",
      "2:\tlearn: 1.4032018\ttotal: 42.6s\tremaining: 46m 36s\n",
      "3:\tlearn: 1.3888409\ttotal: 56.8s\tremaining: 46m 24s\n",
      "4:\tlearn: 1.3718091\ttotal: 1m 9s\tremaining: 44m 59s\n",
      "5:\tlearn: 1.3603416\ttotal: 1m 22s\tremaining: 44m 28s\n",
      "6:\tlearn: 1.3556786\ttotal: 1m 37s\tremaining: 44m 54s\n",
      "7:\tlearn: 1.3490357\ttotal: 1m 54s\tremaining: 45m 58s\n",
      "8:\tlearn: 1.3447035\ttotal: 2m 12s\tremaining: 46m 44s\n",
      "9:\tlearn: 1.3377410\ttotal: 2m 25s\tremaining: 46m 2s\n",
      "10:\tlearn: 1.3354533\ttotal: 2m 38s\tremaining: 45m 27s\n",
      "11:\tlearn: 1.3334396\ttotal: 2m 48s\tremaining: 44m 7s\n",
      "12:\tlearn: 1.3299280\ttotal: 3m 2s\tremaining: 43m 43s\n",
      "13:\tlearn: 1.3270715\ttotal: 3m 17s\tremaining: 43m 42s\n",
      "14:\tlearn: 1.3240304\ttotal: 3m 29s\tremaining: 43m 3s\n",
      "15:\tlearn: 1.3222316\ttotal: 3m 41s\tremaining: 42m 30s\n",
      "16:\tlearn: 1.3198175\ttotal: 3m 54s\tremaining: 42m 7s\n",
      "17:\tlearn: 1.3168373\ttotal: 4m 9s\tremaining: 41m 59s\n",
      "18:\tlearn: 1.3149687\ttotal: 4m 22s\tremaining: 41m 38s\n",
      "19:\tlearn: 1.3135146\ttotal: 4m 37s\tremaining: 41m 33s\n",
      "20:\tlearn: 1.3121480\ttotal: 4m 47s\tremaining: 40m 51s\n",
      "21:\tlearn: 1.3098792\ttotal: 4m 59s\tremaining: 40m 25s\n",
      "22:\tlearn: 1.3085919\ttotal: 5m 13s\tremaining: 40m 12s\n",
      "23:\tlearn: 1.3072483\ttotal: 5m 27s\tremaining: 40m 1s\n",
      "24:\tlearn: 1.3059852\ttotal: 5m 41s\tremaining: 39m 48s\n",
      "25:\tlearn: 1.3047212\ttotal: 5m 56s\tremaining: 39m 44s\n",
      "26:\tlearn: 1.3033465\ttotal: 6m 11s\tremaining: 39m 41s\n",
      "27:\tlearn: 1.3023589\ttotal: 6m 25s\tremaining: 39m 30s\n",
      "28:\tlearn: 1.3013783\ttotal: 6m 39s\tremaining: 39m 14s\n",
      "29:\tlearn: 1.3005247\ttotal: 6m 55s\tremaining: 39m 13s\n",
      "30:\tlearn: 1.2996790\ttotal: 7m 9s\tremaining: 38m 58s\n",
      "31:\tlearn: 1.2988586\ttotal: 7m 25s\tremaining: 38m 57s\n",
      "32:\tlearn: 1.2980261\ttotal: 7m 43s\tremaining: 39m 3s\n",
      "33:\tlearn: 1.2971382\ttotal: 7m 59s\tremaining: 38m 59s\n",
      "34:\tlearn: 1.2963979\ttotal: 8m 14s\tremaining: 38m 50s\n",
      "35:\tlearn: 1.2956317\ttotal: 8m 30s\tremaining: 38m 45s\n",
      "36:\tlearn: 1.2949836\ttotal: 8m 47s\tremaining: 38m 42s\n",
      "37:\tlearn: 1.2941135\ttotal: 9m 6s\tremaining: 38m 49s\n",
      "38:\tlearn: 1.2936630\ttotal: 9m 25s\tremaining: 38m 54s\n",
      "39:\tlearn: 1.2931621\ttotal: 9m 45s\tremaining: 39m\n",
      "40:\tlearn: 1.2924983\ttotal: 10m 5s\tremaining: 39m 7s\n",
      "41:\tlearn: 1.2914974\ttotal: 10m 22s\tremaining: 39m 3s\n",
      "42:\tlearn: 1.2905838\ttotal: 10m 38s\tremaining: 38m 50s\n",
      "43:\tlearn: 1.2901783\ttotal: 10m 51s\tremaining: 38m 28s\n",
      "44:\tlearn: 1.2889330\ttotal: 11m 5s\tremaining: 38m 12s\n",
      "45:\tlearn: 1.2879276\ttotal: 11m 18s\tremaining: 37m 52s\n",
      "46:\tlearn: 1.2874652\ttotal: 11m 32s\tremaining: 37m 33s\n",
      "47:\tlearn: 1.2865457\ttotal: 11m 45s\tremaining: 37m 12s\n",
      "48:\tlearn: 1.2860175\ttotal: 11m 58s\tremaining: 36m 54s\n",
      "49:\tlearn: 1.2853540\ttotal: 12m 11s\tremaining: 36m 35s\n",
      "50:\tlearn: 1.2843445\ttotal: 12m 24s\tremaining: 36m 15s\n",
      "51:\tlearn: 1.2836872\ttotal: 12m 38s\tremaining: 35m 58s\n",
      "52:\tlearn: 1.2832136\ttotal: 12m 52s\tremaining: 35m 42s\n",
      "53:\tlearn: 1.2828771\ttotal: 13m 6s\tremaining: 35m 27s\n",
      "54:\tlearn: 1.2822150\ttotal: 13m 22s\tremaining: 35m 16s\n",
      "55:\tlearn: 1.2819028\ttotal: 13m 37s\tremaining: 35m 2s\n",
      "56:\tlearn: 1.2814064\ttotal: 13m 50s\tremaining: 34m 44s\n",
      "57:\tlearn: 1.2808975\ttotal: 14m 8s\tremaining: 34m 36s\n",
      "58:\tlearn: 1.2805374\ttotal: 14m 26s\tremaining: 34m 30s\n",
      "59:\tlearn: 1.2801551\ttotal: 14m 42s\tremaining: 34m 18s\n",
      "60:\tlearn: 1.2797151\ttotal: 14m 54s\tremaining: 33m 58s\n",
      "61:\tlearn: 1.2793497\ttotal: 15m 9s\tremaining: 33m 43s\n",
      "62:\tlearn: 1.2788378\ttotal: 15m 24s\tremaining: 33m 31s\n",
      "63:\tlearn: 1.2784469\ttotal: 15m 40s\tremaining: 33m 18s\n",
      "64:\tlearn: 1.2779124\ttotal: 15m 53s\tremaining: 33m\n",
      "65:\tlearn: 1.2776114\ttotal: 16m 9s\tremaining: 32m 48s\n",
      "66:\tlearn: 1.2772363\ttotal: 16m 23s\tremaining: 32m 32s\n",
      "67:\tlearn: 1.2770073\ttotal: 16m 35s\tremaining: 32m 13s\n",
      "68:\tlearn: 1.2765694\ttotal: 16m 49s\tremaining: 31m 55s\n",
      "69:\tlearn: 1.2763101\ttotal: 17m 1s\tremaining: 31m 36s\n",
      "70:\tlearn: 1.2760400\ttotal: 17m 14s\tremaining: 31m 19s\n",
      "71:\tlearn: 1.2757295\ttotal: 17m 27s\tremaining: 31m 1s\n",
      "72:\tlearn: 1.2751050\ttotal: 17m 42s\tremaining: 30m 47s\n",
      "73:\tlearn: 1.2747717\ttotal: 17m 59s\tremaining: 30m 38s\n",
      "74:\tlearn: 1.2745329\ttotal: 18m 13s\tremaining: 30m 22s\n",
      "75:\tlearn: 1.2741798\ttotal: 18m 29s\tremaining: 30m 10s\n",
      "76:\tlearn: 1.2735945\ttotal: 18m 43s\tremaining: 29m 55s\n",
      "77:\tlearn: 1.2732008\ttotal: 18m 56s\tremaining: 29m 37s\n",
      "78:\tlearn: 1.2730726\ttotal: 19m 8s\tremaining: 29m 19s\n",
      "79:\tlearn: 1.2728980\ttotal: 19m 20s\tremaining: 29m\n",
      "80:\tlearn: 1.2724780\ttotal: 19m 35s\tremaining: 28m 46s\n",
      "81:\tlearn: 1.2721607\ttotal: 19m 47s\tremaining: 28m 29s\n",
      "82:\tlearn: 1.2719399\ttotal: 20m\tremaining: 28m 12s\n",
      "83:\tlearn: 1.2717052\ttotal: 20m 14s\tremaining: 27m 57s\n",
      "84:\tlearn: 1.2713391\ttotal: 20m 30s\tremaining: 27m 44s\n",
      "85:\tlearn: 1.2710517\ttotal: 20m 42s\tremaining: 27m 27s\n",
      "86:\tlearn: 1.2707304\ttotal: 20m 57s\tremaining: 27m 13s\n",
      "87:\tlearn: 1.2703394\ttotal: 21m 11s\tremaining: 26m 58s\n",
      "88:\tlearn: 1.2698985\ttotal: 21m 25s\tremaining: 26m 42s\n",
      "89:\tlearn: 1.2696659\ttotal: 21m 39s\tremaining: 26m 28s\n",
      "90:\tlearn: 1.2694613\ttotal: 21m 53s\tremaining: 26m 12s\n",
      "91:\tlearn: 1.2691802\ttotal: 22m 5s\tremaining: 25m 56s\n",
      "92:\tlearn: 1.2690510\ttotal: 22m 19s\tremaining: 25m 41s\n",
      "93:\tlearn: 1.2688267\ttotal: 22m 35s\tremaining: 25m 28s\n",
      "94:\tlearn: 1.2686788\ttotal: 22m 47s\tremaining: 25m 11s\n",
      "95:\tlearn: 1.2685458\ttotal: 22m 59s\tremaining: 24m 54s\n",
      "96:\tlearn: 1.2683317\ttotal: 23m 11s\tremaining: 24m 37s\n",
      "97:\tlearn: 1.2680021\ttotal: 23m 24s\tremaining: 24m 21s\n",
      "98:\tlearn: 1.2678545\ttotal: 23m 37s\tremaining: 24m 6s\n",
      "99:\tlearn: 1.2677172\ttotal: 23m 50s\tremaining: 23m 50s\n",
      "100:\tlearn: 1.2675499\ttotal: 24m 3s\tremaining: 23m 34s\n",
      "101:\tlearn: 1.2674166\ttotal: 24m 20s\tremaining: 23m 23s\n",
      "102:\tlearn: 1.2670551\ttotal: 24m 34s\tremaining: 23m 8s\n",
      "103:\tlearn: 1.2668409\ttotal: 24m 48s\tremaining: 22m 54s\n",
      "104:\tlearn: 1.2665268\ttotal: 25m 2s\tremaining: 22m 39s\n",
      "105:\tlearn: 1.2663316\ttotal: 25m 15s\tremaining: 22m 23s\n",
      "106:\tlearn: 1.2661816\ttotal: 25m 29s\tremaining: 22m 9s\n",
      "107:\tlearn: 1.2656623\ttotal: 25m 41s\tremaining: 21m 53s\n",
      "108:\tlearn: 1.2652952\ttotal: 25m 53s\tremaining: 21m 37s\n",
      "109:\tlearn: 1.2651728\ttotal: 26m 6s\tremaining: 21m 21s\n",
      "110:\tlearn: 1.2650469\ttotal: 26m 19s\tremaining: 21m 6s\n",
      "111:\tlearn: 1.2648790\ttotal: 26m 31s\tremaining: 20m 50s\n",
      "112:\tlearn: 1.2646391\ttotal: 26m 45s\tremaining: 20m 36s\n",
      "113:\tlearn: 1.2643802\ttotal: 26m 59s\tremaining: 20m 21s\n",
      "114:\tlearn: 1.2639826\ttotal: 27m 13s\tremaining: 20m 7s\n",
      "115:\tlearn: 1.2637602\ttotal: 27m 26s\tremaining: 19m 52s\n",
      "116:\tlearn: 1.2634785\ttotal: 27m 39s\tremaining: 19m 37s\n",
      "117:\tlearn: 1.2632662\ttotal: 27m 51s\tremaining: 19m 21s\n",
      "118:\tlearn: 1.2629614\ttotal: 28m 4s\tremaining: 19m 6s\n",
      "119:\tlearn: 1.2628351\ttotal: 28m 19s\tremaining: 18m 52s\n",
      "120:\tlearn: 1.2625360\ttotal: 28m 33s\tremaining: 18m 38s\n",
      "121:\tlearn: 1.2621905\ttotal: 28m 47s\tremaining: 18m 24s\n",
      "122:\tlearn: 1.2620392\ttotal: 29m 2s\tremaining: 18m 10s\n",
      "123:\tlearn: 1.2618075\ttotal: 29m 15s\tremaining: 17m 55s\n",
      "124:\tlearn: 1.2615662\ttotal: 29m 28s\tremaining: 17m 41s\n",
      "125:\tlearn: 1.2614187\ttotal: 29m 40s\tremaining: 17m 25s\n",
      "126:\tlearn: 1.2611944\ttotal: 29m 55s\tremaining: 17m 12s\n",
      "127:\tlearn: 1.2609263\ttotal: 30m 8s\tremaining: 16m 57s\n",
      "128:\tlearn: 1.2608320\ttotal: 30m 21s\tremaining: 16m 42s\n",
      "129:\tlearn: 1.2606282\ttotal: 30m 33s\tremaining: 16m 27s\n",
      "130:\tlearn: 1.2604156\ttotal: 30m 46s\tremaining: 16m 12s\n",
      "131:\tlearn: 1.2602848\ttotal: 31m\tremaining: 15m 58s\n",
      "132:\tlearn: 1.2600575\ttotal: 31m 14s\tremaining: 15m 44s\n",
      "133:\tlearn: 1.2599380\ttotal: 31m 27s\tremaining: 15m 29s\n",
      "134:\tlearn: 1.2597334\ttotal: 31m 43s\tremaining: 15m 16s\n",
      "135:\tlearn: 1.2595916\ttotal: 31m 55s\tremaining: 15m 1s\n",
      "136:\tlearn: 1.2594121\ttotal: 32m 10s\tremaining: 14m 47s\n",
      "137:\tlearn: 1.2591159\ttotal: 32m 22s\tremaining: 14m 32s\n",
      "138:\tlearn: 1.2590228\ttotal: 32m 37s\tremaining: 14m 19s\n",
      "139:\tlearn: 1.2588817\ttotal: 32m 50s\tremaining: 14m 4s\n",
      "140:\tlearn: 1.2585424\ttotal: 33m 2s\tremaining: 13m 49s\n",
      "141:\tlearn: 1.2581995\ttotal: 33m 17s\tremaining: 13m 36s\n",
      "142:\tlearn: 1.2579994\ttotal: 33m 32s\tremaining: 13m 22s\n",
      "143:\tlearn: 1.2579563\ttotal: 33m 48s\tremaining: 13m 8s\n",
      "144:\tlearn: 1.2578003\ttotal: 34m 5s\tremaining: 12m 55s\n",
      "145:\tlearn: 1.2576571\ttotal: 34m 19s\tremaining: 12m 41s\n",
      "146:\tlearn: 1.2574964\ttotal: 34m 33s\tremaining: 12m 27s\n",
      "147:\tlearn: 1.2573539\ttotal: 34m 48s\tremaining: 12m 13s\n",
      "148:\tlearn: 1.2571883\ttotal: 35m 5s\tremaining: 12m\n",
      "149:\tlearn: 1.2570927\ttotal: 35m 18s\tremaining: 11m 46s\n",
      "150:\tlearn: 1.2570005\ttotal: 35m 30s\tremaining: 11m 31s\n"
     ]
    },
    {
     "name": "stdout",
     "output_type": "stream",
     "text": [
      "151:\tlearn: 1.2568884\ttotal: 35m 45s\tremaining: 11m 17s\n",
      "152:\tlearn: 1.2567801\ttotal: 35m 59s\tremaining: 11m 3s\n",
      "153:\tlearn: 1.2566114\ttotal: 36m 11s\tremaining: 10m 48s\n",
      "154:\tlearn: 1.2564504\ttotal: 36m 27s\tremaining: 10m 35s\n",
      "155:\tlearn: 1.2563068\ttotal: 36m 39s\tremaining: 10m 20s\n",
      "156:\tlearn: 1.2560707\ttotal: 36m 52s\tremaining: 10m 5s\n",
      "157:\tlearn: 1.2559291\ttotal: 37m 7s\tremaining: 9m 52s\n",
      "158:\tlearn: 1.2557907\ttotal: 37m 21s\tremaining: 9m 38s\n",
      "159:\tlearn: 1.2556191\ttotal: 37m 34s\tremaining: 9m 23s\n",
      "160:\tlearn: 1.2553187\ttotal: 37m 51s\tremaining: 9m 10s\n",
      "161:\tlearn: 1.2551017\ttotal: 38m 3s\tremaining: 8m 55s\n",
      "162:\tlearn: 1.2549423\ttotal: 38m 17s\tremaining: 8m 41s\n",
      "163:\tlearn: 1.2546278\ttotal: 38m 31s\tremaining: 8m 27s\n",
      "164:\tlearn: 1.2545246\ttotal: 38m 46s\tremaining: 8m 13s\n",
      "165:\tlearn: 1.2544077\ttotal: 39m 3s\tremaining: 8m\n",
      "166:\tlearn: 1.2543249\ttotal: 39m 16s\tremaining: 7m 45s\n",
      "167:\tlearn: 1.2541245\ttotal: 39m 33s\tremaining: 7m 32s\n",
      "168:\tlearn: 1.2540285\ttotal: 39m 52s\tremaining: 7m 18s\n",
      "169:\tlearn: 1.2538333\ttotal: 40m 6s\tremaining: 7m 4s\n",
      "170:\tlearn: 1.2534959\ttotal: 40m 19s\tremaining: 6m 50s\n",
      "171:\tlearn: 1.2533421\ttotal: 40m 32s\tremaining: 6m 35s\n",
      "172:\tlearn: 1.2531587\ttotal: 40m 49s\tremaining: 6m 22s\n",
      "173:\tlearn: 1.2530558\ttotal: 41m 6s\tremaining: 6m 8s\n",
      "174:\tlearn: 1.2529331\ttotal: 41m 23s\tremaining: 5m 54s\n",
      "175:\tlearn: 1.2527490\ttotal: 41m 40s\tremaining: 5m 40s\n",
      "176:\tlearn: 1.2525465\ttotal: 41m 58s\tremaining: 5m 27s\n",
      "177:\tlearn: 1.2523613\ttotal: 42m 14s\tremaining: 5m 13s\n",
      "178:\tlearn: 1.2522167\ttotal: 42m 30s\tremaining: 4m 59s\n",
      "179:\tlearn: 1.2520299\ttotal: 42m 50s\tremaining: 4m 45s\n",
      "180:\tlearn: 1.2519374\ttotal: 43m 7s\tremaining: 4m 31s\n",
      "181:\tlearn: 1.2517961\ttotal: 43m 24s\tremaining: 4m 17s\n",
      "182:\tlearn: 1.2517072\ttotal: 43m 39s\tremaining: 4m 3s\n",
      "183:\tlearn: 1.2516365\ttotal: 43m 55s\tremaining: 3m 49s\n",
      "184:\tlearn: 1.2514470\ttotal: 44m 12s\tremaining: 3m 35s\n",
      "185:\tlearn: 1.2513068\ttotal: 44m 28s\tremaining: 3m 20s\n",
      "186:\tlearn: 1.2511143\ttotal: 44m 41s\tremaining: 3m 6s\n",
      "187:\tlearn: 1.2510061\ttotal: 44m 54s\tremaining: 2m 51s\n",
      "188:\tlearn: 1.2509009\ttotal: 45m 9s\tremaining: 2m 37s\n",
      "189:\tlearn: 1.2507175\ttotal: 45m 30s\tremaining: 2m 23s\n",
      "190:\tlearn: 1.2506483\ttotal: 45m 50s\tremaining: 2m 9s\n",
      "191:\tlearn: 1.2505837\ttotal: 46m 7s\tremaining: 1m 55s\n",
      "192:\tlearn: 1.2503493\ttotal: 46m 23s\tremaining: 1m 40s\n",
      "193:\tlearn: 1.2502105\ttotal: 46m 44s\tremaining: 1m 26s\n",
      "194:\tlearn: 1.2501462\ttotal: 47m 4s\tremaining: 1m 12s\n",
      "195:\tlearn: 1.2499518\ttotal: 47m 20s\tremaining: 58s\n",
      "196:\tlearn: 1.2497965\ttotal: 47m 36s\tremaining: 43.5s\n",
      "197:\tlearn: 1.2496722\ttotal: 47m 52s\tremaining: 29s\n",
      "198:\tlearn: 1.2495812\ttotal: 48m 7s\tremaining: 14.5s\n",
      "199:\tlearn: 1.2493844\ttotal: 48m 20s\tremaining: 0us\n"
     ]
    },
    {
     "data": {
      "text/plain": [
       "<catboost.core.CatBoostClassifier at 0x210ad0e2da0>"
      ]
     },
     "execution_count": 68,
     "metadata": {},
     "output_type": "execute_result"
    }
   ],
   "source": [
    "from catboost import Pool, CatBoostClassifier\n",
    "\n",
    "# train_data = [[\"summer\", 1924, 44],\n",
    "#               [\"summer\", 1932, 37],\n",
    "#               [\"winter\", 1980, 37],\n",
    "#               [\"summer\", 2012, 204]]\n",
    "\n",
    "# eval_data = [[\"winter\", 1996, 197],\n",
    "#              [\"winter\", 1968, 37],\n",
    "#              [\"summer\", 2002, 77],\n",
    "#              [\"summer\", 1948, 59]]\n",
    "\n",
    "\n",
    "\n",
    "train_dataset = Pool(data=train_data,\n",
    "                     label=labels.drop(columns=[\"ID\"]),\n",
    "                     cat_features=cat_features)\n",
    "\n",
    "# eval_dataset = Pool(data=eval_data,\n",
    "#                     label=eval_label,\n",
    "#                     cat_features=cat_features)\n",
    "\n",
    "# # Initialize CatBoostClassifier\n",
    "model = CatBoostClassifier(iterations=200,\n",
    "                           learning_rate=0.8,\n",
    "                           loss_function='MultiClass')\n",
    "# # Fit model\n",
    "model.fit(train_dataset)\n",
    "# # Get predicted classes\n",
    "# preds_class = model.predict(eval_dataset)\n",
    "# # Get predicted probabilities for each class\n",
    "# preds_proba = model.predict_proba(eval_dataset)\n",
    "# # Get predicted RawFormulaVal\n",
    "# preds_raw = model.predict(eval_dataset, \n",
    "#                           prediction_type='RawFormulaVal')"
   ]
  },
  {
   "cell_type": "code",
   "execution_count": 70,
   "metadata": {},
   "outputs": [
    {
     "data": {
      "text/plain": [
       "{'Accuracy': [0.4356595998357488,\n",
       "  0.4458273319812487,\n",
       "  0.4556646857862275,\n",
       "  0.4612748643572839,\n",
       "  0.46763334465860557,\n",
       "  0.4701940373483855,\n",
       "  0.4729006384535375,\n",
       "  0.47451813745823374,\n",
       "  0.47613459425996296,\n",
       "  0.4787651145485281,\n",
       "  0.4795644842241737,\n",
       "  0.4803586428849846,\n",
       "  0.4821449787703256,\n",
       "  0.4832716001775914,\n",
       "  0.4840668010413692,\n",
       "  0.4849505891573372,\n",
       "  0.48601259398065255,\n",
       "  0.4874841845699766,\n",
       "  0.48795838691993587,\n",
       "  0.48857745548230025,\n",
       "  0.4893632765193756,\n",
       "  0.48985623852273985,\n",
       "  0.4905013621592778,\n",
       "  0.4908515423561708,\n",
       "  0.4912465372806423,\n",
       "  0.4918312131450976,\n",
       "  0.49213970522331285,\n",
       "  0.4925472065833877,\n",
       "  0.49270249482546224,\n",
       "  0.4928807115328096,\n",
       "  0.4934195304667193,\n",
       "  0.49371968492119905,\n",
       "  0.4939833622718357,\n",
       "  0.49438044160224115,\n",
       "  0.4948129558335227,\n",
       "  0.4950662111544899,\n",
       "  0.49535281697039935,\n",
       "  0.4957582339245403,\n",
       "  0.49596980112682987,\n",
       "  0.49613863800747465,\n",
       "  0.4962449427101029,\n",
       "  0.4965419705556818,\n",
       "  0.4968452516190623,\n",
       "  0.49703805916794686,\n",
       "  0.49770611126975756,\n",
       "  0.4980281519865431,\n",
       "  0.4981605117633449,\n",
       "  0.49830120916388226,\n",
       "  0.49838041658936993,\n",
       "  0.49855342228188254,\n",
       "  0.49891402450844496,\n",
       "  0.4991026632454617,\n",
       "  0.49934028552192483,\n",
       "  0.4994861939372969,\n",
       "  0.4996352289615698,\n",
       "  0.49973215383749553,\n",
       "  0.4998780622528676,\n",
       "  0.5001511194302068,\n",
       "  0.500367897647331,\n",
       "  0.5005534097754469,\n",
       "  0.5006169841564305,\n",
       "  0.5008160449231167,\n",
       "  0.501050540590679,\n",
       "  0.5014392822973488,\n",
       "  0.5016174990046962,\n",
       "  0.5018321928158865,\n",
       "  0.5020051985083991,\n",
       "  0.5020208315529032,\n",
       "  0.5021875840276142,\n",
       "  0.5021813308098125,\n",
       "  0.5023543365023252,\n",
       "  0.5025054559325319,\n",
       "  0.5028202012285489,\n",
       "  0.5029327591489787,\n",
       "  0.5031464107572021,\n",
       "  0.5031943520936816,\n",
       "  0.5034351009790454,\n",
       "  0.5034653248650868,\n",
       "  0.5034694936769546,\n",
       "  0.5036070644685912,\n",
       "  0.5036925251118805,\n",
       "  0.5036904407059466,\n",
       "  0.5038509399628559,\n",
       "  0.5039822575366908,\n",
       "  0.5040114392197652,\n",
       "  0.50418027610041,\n",
       "  0.5044220671887408,\n",
       "  0.5046013260990552,\n",
       "  0.5047597409500305,\n",
       "  0.5049660971374853,\n",
       "  0.5049389998603449,\n",
       "  0.5049567173107828,\n",
       "  0.5050369669392375,\n",
       "  0.5052829268394361,\n",
       "  0.5053131507254774,\n",
       "  0.5053704718886594,\n",
       "  0.5054746921853537,\n",
       "  0.5054642701556843,\n",
       "  0.5054924096357918,\n",
       "  0.5056789639668746,\n",
       "  0.5057321163181887,\n",
       "  0.5057956906991723,\n",
       "  0.5060489460201395,\n",
       "  0.5061020983714536,\n",
       "  0.5061667149554041,\n",
       "  0.5062636398313298,\n",
       "  0.5063449316627514,\n",
       "  0.5064303923060408,\n",
       "  0.5066513393350328,\n",
       "  0.50666593017657,\n",
       "  0.5067128293100824,\n",
       "  0.5067367999783222,\n",
       "  0.5067930789385371,\n",
       "  0.506904594656,\n",
       "  0.5069660846310498,\n",
       "  0.5070921911900499,\n",
       "  0.507090106784116,\n",
       "  0.5072683234914633,\n",
       "  0.5074194429216701,\n",
       "  0.5074642576492486,\n",
       "  0.5075622247281414,\n",
       "  0.5076018284408852,\n",
       "  0.5076330945298935,\n",
       "  0.5076997955197778,\n",
       "  0.5078384085143813,\n",
       "  0.507937417796241,\n",
       "  0.5080791573997453,\n",
       "  0.5081270987362246,\n",
       "  0.5082083905676462,\n",
       "  0.5082438254685223,\n",
       "  0.5084772789331177,\n",
       "  0.5084637302945474,\n",
       "  0.5085304312844318,\n",
       "  0.5085356422992665,\n",
       "  0.508635693784093,\n",
       "  0.5086627910612336,\n",
       "  0.50867425529387,\n",
       "  0.5088920757139611,\n",
       "  0.5088670628427545,\n",
       "  0.5089389748474736,\n",
       "  0.509042152941201,\n",
       "  0.5091453310349284,\n",
       "  0.5091359512082259,\n",
       "  0.5092026521981102,\n",
       "  0.5092453825197549,\n",
       "  0.509337096380846,\n",
       "  0.5092516357375566,\n",
       "  0.5093412651927137,\n",
       "  0.509373573484689,\n",
       "  0.5093798267024906,\n",
       "  0.5094131771974328,\n",
       "  0.5094955112318214,\n",
       "  0.5094183882122676,\n",
       "  0.5095173974941272,\n",
       "  0.509558043409838,\n",
       "  0.5095778452662099,\n",
       "  0.5096528838798299,\n",
       "  0.5097091628400447,\n",
       "  0.5097154160578464,\n",
       "  0.5098248473693755,\n",
       "  0.5098561134583838,\n",
       "  0.5098571556613507,\n",
       "  0.5099905576411194,\n",
       "  0.5101093687793511,\n",
       "  0.5102042092493428,\n",
       "  0.5101864917989049,\n",
       "  0.5101833651900041,\n",
       "  0.5102198422938471,\n",
       "  0.5102604882095578,\n",
       "  0.5103063451401033,\n",
       "  0.5103959745952604,\n",
       "  0.5105179123423929,\n",
       "  0.5105658536788723,\n",
       "  0.5105439674165665,\n",
       "  0.5106659051636988,\n",
       "  0.5107607456336907,\n",
       "  0.5109076962520297,\n",
       "  0.5109764816478479,\n",
       "  0.5110619422911373,\n",
       "  0.5111703313996995,\n",
       "  0.5112057663005755,\n",
       "  0.5113589701367162,\n",
       "  0.5113652233545178,\n",
       "  0.5113454214981459,\n",
       "  0.5114475573889063,\n",
       "  0.5114517262007742,\n",
       "  0.5115924236013115,\n",
       "  0.5116247318932867,\n",
       "  0.5116778842446009,\n",
       "  0.5117529228582208,\n",
       "  0.5117789779323944,\n",
       "  0.5117602182789894,\n",
       "  0.511859227560849,\n",
       "  0.5118884092439234,\n",
       "  0.5118435945163449,\n",
       "  0.5119592790456756,\n",
       "  0.5120113891940228,\n",
       "  0.5120447396889649,\n",
       "  0.5120155580058905,\n",
       "  0.5120749635750063]}"
      ]
     },
     "execution_count": 70,
     "metadata": {},
     "output_type": "execute_result"
    }
   ],
   "source": [
    "model.eval_metrics(train_dataset,[\"Accuracy\"])"
   ]
  },
  {
   "cell_type": "code",
   "execution_count": 75,
   "metadata": {},
   "outputs": [],
   "source": [
    "preds_class = model.predict(test_data.drop(columns=[\"ID\"]))"
   ]
  },
  {
   "cell_type": "code",
   "execution_count": 73,
   "metadata": {},
   "outputs": [
    {
     "data": {
      "text/plain": [
       "0         4.0\n",
       "1         2.0\n",
       "2         0.0\n",
       "3         4.0\n",
       "4         4.0\n",
       "         ... \n",
       "953892    1.0\n",
       "953893    1.0\n",
       "953894    0.0\n",
       "953895    1.0\n",
       "953896    3.0\n",
       "Name: best_bid_size_venue, Length: 953897, dtype: float64"
      ]
     },
     "execution_count": 73,
     "metadata": {},
     "output_type": "execute_result"
    }
   ],
   "source": [
    "# test_data[\"best_bid_size_venue\"]=test_data[\"best_bid_size_venue\"].astype(float)\n",
    "# test_data[\"best_bid_size_venue\"]"
   ]
  },
  {
   "cell_type": "code",
   "execution_count": 76,
   "metadata": {},
   "outputs": [],
   "source": [
    "preds_class=[p[0] for p in preds_class]"
   ]
  },
  {
   "cell_type": "code",
   "execution_count": 78,
   "metadata": {},
   "outputs": [],
   "source": [
    "sub= pd.DataFrame({'ID': test_data.ID, 'source_id': preds_class})\n",
    "\n",
    "sub.to_csv('BestCatBoost2.csv',index=False)"
   ]
  },
  {
   "cell_type": "code",
   "execution_count": 37,
   "metadata": {},
   "outputs": [
    {
     "data": {
      "text/html": [
       "<div>\n",
       "<style scoped>\n",
       "    .dataframe tbody tr th:only-of-type {\n",
       "        vertical-align: middle;\n",
       "    }\n",
       "\n",
       "    .dataframe tbody tr th {\n",
       "        vertical-align: top;\n",
       "    }\n",
       "\n",
       "    .dataframe thead th {\n",
       "        text-align: right;\n",
       "    }\n",
       "</style>\n",
       "<table border=\"1\" class=\"dataframe\">\n",
       "  <thead>\n",
       "    <tr style=\"text-align: right;\">\n",
       "      <th></th>\n",
       "      <th>(0, ask)</th>\n",
       "      <th>(0, ask1)</th>\n",
       "      <th>(0, ask_size)</th>\n",
       "      <th>(0, ask_size1)</th>\n",
       "      <th>(0, bid)</th>\n",
       "      <th>(0, bid1)</th>\n",
       "      <th>(0, bid_size)</th>\n",
       "      <th>(0, bid_size1)</th>\n",
       "      <th>(0, price)</th>\n",
       "      <th>(0, qty)</th>\n",
       "      <th>(0, source_id)</th>\n",
       "      <th>(0, tod)</th>\n",
       "      <th>(0, ts_last_update)</th>\n",
       "      <th>(1, ask)</th>\n",
       "      <th>(1, ask1)</th>\n",
       "      <th>(1, ask_size)</th>\n",
       "      <th>(1, ask_size1)</th>\n",
       "      <th>(1, bid)</th>\n",
       "      <th>(1, bid1)</th>\n",
       "      <th>(1, bid_size)</th>\n",
       "      <th>(1, bid_size1)</th>\n",
       "      <th>(1, ts_last_update)</th>\n",
       "      <th>(2, ask)</th>\n",
       "      <th>(2, ask1)</th>\n",
       "      <th>(2, ask_size)</th>\n",
       "      <th>(2, ask_size1)</th>\n",
       "      <th>(2, bid)</th>\n",
       "      <th>(2, bid1)</th>\n",
       "      <th>(2, bid_size)</th>\n",
       "      <th>(2, bid_size1)</th>\n",
       "      <th>(2, ts_last_update)</th>\n",
       "      <th>(3, ask)</th>\n",
       "      <th>(3, ask1)</th>\n",
       "      <th>(3, ask_size)</th>\n",
       "      <th>(3, ask_size1)</th>\n",
       "      <th>(3, bid)</th>\n",
       "      <th>(3, bid1)</th>\n",
       "      <th>(3, bid_size)</th>\n",
       "      <th>(3, bid_size1)</th>\n",
       "      <th>(3, ts_last_update)</th>\n",
       "      <th>(4, ask)</th>\n",
       "      <th>(4, ask1)</th>\n",
       "      <th>(4, ask_size)</th>\n",
       "      <th>(4, ask_size1)</th>\n",
       "      <th>(4, bid)</th>\n",
       "      <th>(4, bid1)</th>\n",
       "      <th>(4, bid_size)</th>\n",
       "      <th>(4, bid_size1)</th>\n",
       "      <th>(4, ts_last_update)</th>\n",
       "      <th>(5, ask)</th>\n",
       "      <th>(5, ask1)</th>\n",
       "      <th>(5, ask_size)</th>\n",
       "      <th>(5, ask_size1)</th>\n",
       "      <th>(5, bid)</th>\n",
       "      <th>(5, bid1)</th>\n",
       "      <th>(5, bid_size)</th>\n",
       "      <th>(5, bid_size1)</th>\n",
       "      <th>(5, ts_last_update)</th>\n",
       "      <th>(1, price)</th>\n",
       "      <th>(1, qty)</th>\n",
       "      <th>(1, source_id)</th>\n",
       "      <th>(1, tod)</th>\n",
       "      <th>(2, price)</th>\n",
       "      <th>(2, qty)</th>\n",
       "      <th>(2, source_id)</th>\n",
       "      <th>(2, tod)</th>\n",
       "      <th>(3, price)</th>\n",
       "      <th>(3, qty)</th>\n",
       "      <th>(3, source_id)</th>\n",
       "      <th>(3, tod)</th>\n",
       "      <th>(4, price)</th>\n",
       "      <th>(4, qty)</th>\n",
       "      <th>(4, source_id)</th>\n",
       "      <th>(4, tod)</th>\n",
       "      <th>(5, price)</th>\n",
       "      <th>(5, qty)</th>\n",
       "      <th>(5, source_id)</th>\n",
       "      <th>(5, tod)</th>\n",
       "      <th>(6, price)</th>\n",
       "      <th>(6, qty)</th>\n",
       "      <th>(6, source_id)</th>\n",
       "      <th>(6, tod)</th>\n",
       "      <th>(7, price)</th>\n",
       "      <th>(7, qty)</th>\n",
       "      <th>(7, source_id)</th>\n",
       "      <th>(7, tod)</th>\n",
       "      <th>(8, price)</th>\n",
       "      <th>(8, qty)</th>\n",
       "      <th>(8, source_id)</th>\n",
       "      <th>(8, tod)</th>\n",
       "      <th>(9, price)</th>\n",
       "      <th>(9, qty)</th>\n",
       "      <th>(9, source_id)</th>\n",
       "      <th>(9, tod)</th>\n",
       "      <th>stock_id</th>\n",
       "      <th>day_id</th>\n",
       "      <th>ID</th>\n",
       "    </tr>\n",
       "  </thead>\n",
       "  <tbody>\n",
       "    <tr>\n",
       "      <th>0</th>\n",
       "      <td>4.5</td>\n",
       "      <td>562.5</td>\n",
       "      <td>0.002330</td>\n",
       "      <td>0.093197</td>\n",
       "      <td>-25.5</td>\n",
       "      <td>-545.5</td>\n",
       "      <td>0.046598</td>\n",
       "      <td>0.046598</td>\n",
       "      <td>-0.5</td>\n",
       "      <td>0.037279</td>\n",
       "      <td>2</td>\n",
       "      <td>38931125000</td>\n",
       "      <td>38931123475</td>\n",
       "      <td>4.5</td>\n",
       "      <td>10.5</td>\n",
       "      <td>0.004660</td>\n",
       "      <td>0.023299</td>\n",
       "      <td>-18.5</td>\n",
       "      <td>-23.5</td>\n",
       "      <td>0.034949</td>\n",
       "      <td>0.093197</td>\n",
       "      <td>38931124450</td>\n",
       "      <td>3.5</td>\n",
       "      <td>6.5</td>\n",
       "      <td>0.004660</td>\n",
       "      <td>0.046598</td>\n",
       "      <td>-4.5</td>\n",
       "      <td>-8.5</td>\n",
       "      <td>0.046598</td>\n",
       "      <td>0.093197</td>\n",
       "      <td>3.893112e+10</td>\n",
       "      <td>4.5</td>\n",
       "      <td>562.5</td>\n",
       "      <td>0.002330</td>\n",
       "      <td>0.046598</td>\n",
       "      <td>-25.5</td>\n",
       "      <td>-545.5</td>\n",
       "      <td>0.046598</td>\n",
       "      <td>0.046598</td>\n",
       "      <td>38931123475</td>\n",
       "      <td>4.5</td>\n",
       "      <td>8.5</td>\n",
       "      <td>0.051258</td>\n",
       "      <td>0.017707</td>\n",
       "      <td>-8.5</td>\n",
       "      <td>-9.5</td>\n",
       "      <td>0.017707</td>\n",
       "      <td>0.046598</td>\n",
       "      <td>38931123625</td>\n",
       "      <td>4.5</td>\n",
       "      <td>59.5</td>\n",
       "      <td>0.002330</td>\n",
       "      <td>0.046598</td>\n",
       "      <td>-3.5</td>\n",
       "      <td>-68.5</td>\n",
       "      <td>0.046598</td>\n",
       "      <td>0.093197</td>\n",
       "      <td>38931124450</td>\n",
       "      <td>-0.5</td>\n",
       "      <td>0.009320</td>\n",
       "      <td>2</td>\n",
       "      <td>38931125000</td>\n",
       "      <td>-0.5</td>\n",
       "      <td>0.009320</td>\n",
       "      <td>2</td>\n",
       "      <td>38931124000</td>\n",
       "      <td>0.5</td>\n",
       "      <td>0.006524</td>\n",
       "      <td>4</td>\n",
       "      <td>38931123325</td>\n",
       "      <td>0.5</td>\n",
       "      <td>0.046598</td>\n",
       "      <td>5</td>\n",
       "      <td>38931123125</td>\n",
       "      <td>0.5</td>\n",
       "      <td>0.046598</td>\n",
       "      <td>1</td>\n",
       "      <td>38931123100</td>\n",
       "      <td>0.5</td>\n",
       "      <td>0.004660</td>\n",
       "      <td>4</td>\n",
       "      <td>38930877575</td>\n",
       "      <td>2.5</td>\n",
       "      <td>0.004660</td>\n",
       "      <td>2</td>\n",
       "      <td>38930877000</td>\n",
       "      <td>2.5</td>\n",
       "      <td>0.004660</td>\n",
       "      <td>4</td>\n",
       "      <td>38930876675</td>\n",
       "      <td>-3.5</td>\n",
       "      <td>0.046598</td>\n",
       "      <td>2</td>\n",
       "      <td>38930876000</td>\n",
       "      <td>387</td>\n",
       "      <td>238</td>\n",
       "      <td>0</td>\n",
       "    </tr>\n",
       "    <tr>\n",
       "      <th>1</th>\n",
       "      <td>2.5</td>\n",
       "      <td>14.5</td>\n",
       "      <td>0.001314</td>\n",
       "      <td>0.013139</td>\n",
       "      <td>-10.5</td>\n",
       "      <td>-406.5</td>\n",
       "      <td>0.013139</td>\n",
       "      <td>0.026278</td>\n",
       "      <td>-0.5</td>\n",
       "      <td>0.013139</td>\n",
       "      <td>4</td>\n",
       "      <td>46336099325</td>\n",
       "      <td>46336092050</td>\n",
       "      <td>1.5</td>\n",
       "      <td>2.5</td>\n",
       "      <td>0.013139</td>\n",
       "      <td>0.032584</td>\n",
       "      <td>-1.5</td>\n",
       "      <td>-2.5</td>\n",
       "      <td>0.013139</td>\n",
       "      <td>0.039417</td>\n",
       "      <td>46336099225</td>\n",
       "      <td>1.5</td>\n",
       "      <td>3.5</td>\n",
       "      <td>0.027592</td>\n",
       "      <td>0.039417</td>\n",
       "      <td>-1.5</td>\n",
       "      <td>-2.5</td>\n",
       "      <td>0.039417</td>\n",
       "      <td>0.026278</td>\n",
       "      <td>4.633610e+10</td>\n",
       "      <td>2.5</td>\n",
       "      <td>12.5</td>\n",
       "      <td>0.010511</td>\n",
       "      <td>0.013139</td>\n",
       "      <td>-8.5</td>\n",
       "      <td>-406.5</td>\n",
       "      <td>0.013139</td>\n",
       "      <td>0.013139</td>\n",
       "      <td>46336099250</td>\n",
       "      <td>2.5</td>\n",
       "      <td>3.5</td>\n",
       "      <td>0.170805</td>\n",
       "      <td>0.161083</td>\n",
       "      <td>-1.5</td>\n",
       "      <td>-2.5</td>\n",
       "      <td>0.078833</td>\n",
       "      <td>0.118775</td>\n",
       "      <td>46336099325</td>\n",
       "      <td>2.5</td>\n",
       "      <td>3.5</td>\n",
       "      <td>0.015767</td>\n",
       "      <td>0.027986</td>\n",
       "      <td>-1.5</td>\n",
       "      <td>-2.5</td>\n",
       "      <td>0.026278</td>\n",
       "      <td>0.065694</td>\n",
       "      <td>46336094200</td>\n",
       "      <td>-0.5</td>\n",
       "      <td>0.013139</td>\n",
       "      <td>4</td>\n",
       "      <td>46336099325</td>\n",
       "      <td>-0.5</td>\n",
       "      <td>0.078833</td>\n",
       "      <td>4</td>\n",
       "      <td>46336099325</td>\n",
       "      <td>-0.5</td>\n",
       "      <td>0.013139</td>\n",
       "      <td>3</td>\n",
       "      <td>46336099250</td>\n",
       "      <td>-0.5</td>\n",
       "      <td>0.013139</td>\n",
       "      <td>1</td>\n",
       "      <td>46336099225</td>\n",
       "      <td>-0.5</td>\n",
       "      <td>0.039417</td>\n",
       "      <td>2</td>\n",
       "      <td>46336099000</td>\n",
       "      <td>-0.5</td>\n",
       "      <td>0.013139</td>\n",
       "      <td>2</td>\n",
       "      <td>46336099000</td>\n",
       "      <td>1.5</td>\n",
       "      <td>0.013139</td>\n",
       "      <td>5</td>\n",
       "      <td>46336089125</td>\n",
       "      <td>1.5</td>\n",
       "      <td>0.013139</td>\n",
       "      <td>2</td>\n",
       "      <td>46336088000</td>\n",
       "      <td>1.5</td>\n",
       "      <td>0.013139</td>\n",
       "      <td>4</td>\n",
       "      <td>46336087875</td>\n",
       "      <td>437</td>\n",
       "      <td>22</td>\n",
       "      <td>1</td>\n",
       "    </tr>\n",
       "    <tr>\n",
       "      <th>2</th>\n",
       "      <td>5.0</td>\n",
       "      <td>210.0</td>\n",
       "      <td>0.010792</td>\n",
       "      <td>0.010792</td>\n",
       "      <td>-95.0</td>\n",
       "      <td>-285.0</td>\n",
       "      <td>0.032376</td>\n",
       "      <td>0.021584</td>\n",
       "      <td>-3.0</td>\n",
       "      <td>0.010253</td>\n",
       "      <td>2</td>\n",
       "      <td>57592945000</td>\n",
       "      <td>57585501775</td>\n",
       "      <td>26.0</td>\n",
       "      <td>210.0</td>\n",
       "      <td>0.021584</td>\n",
       "      <td>0.010792</td>\n",
       "      <td>-5.0</td>\n",
       "      <td>-8.0</td>\n",
       "      <td>0.010792</td>\n",
       "      <td>0.010792</td>\n",
       "      <td>57586713300</td>\n",
       "      <td>5.0</td>\n",
       "      <td>6.0</td>\n",
       "      <td>0.478200</td>\n",
       "      <td>0.086337</td>\n",
       "      <td>-5.0</td>\n",
       "      <td>-6.0</td>\n",
       "      <td>0.021584</td>\n",
       "      <td>0.021584</td>\n",
       "      <td>5.759294e+10</td>\n",
       "      <td>5.0</td>\n",
       "      <td>124.0</td>\n",
       "      <td>0.010792</td>\n",
       "      <td>0.010792</td>\n",
       "      <td>-95.0</td>\n",
       "      <td>-139.0</td>\n",
       "      <td>0.032376</td>\n",
       "      <td>0.010792</td>\n",
       "      <td>57592943075</td>\n",
       "      <td>5.0</td>\n",
       "      <td>13.0</td>\n",
       "      <td>0.000216</td>\n",
       "      <td>0.010792</td>\n",
       "      <td>-21.0</td>\n",
       "      <td>-95.0</td>\n",
       "      <td>0.021584</td>\n",
       "      <td>0.122275</td>\n",
       "      <td>57592943750</td>\n",
       "      <td>210.0</td>\n",
       "      <td>282.0</td>\n",
       "      <td>0.010792</td>\n",
       "      <td>0.010792</td>\n",
       "      <td>-5.0</td>\n",
       "      <td>-7.0</td>\n",
       "      <td>0.010792</td>\n",
       "      <td>0.010792</td>\n",
       "      <td>57590003900</td>\n",
       "      <td>-3.0</td>\n",
       "      <td>0.010792</td>\n",
       "      <td>3</td>\n",
       "      <td>57592942500</td>\n",
       "      <td>-3.0</td>\n",
       "      <td>0.008742</td>\n",
       "      <td>2</td>\n",
       "      <td>57590265000</td>\n",
       "      <td>-3.0</td>\n",
       "      <td>0.002051</td>\n",
       "      <td>2</td>\n",
       "      <td>57590265000</td>\n",
       "      <td>-3.0</td>\n",
       "      <td>0.008742</td>\n",
       "      <td>2</td>\n",
       "      <td>57590153000</td>\n",
       "      <td>5.0</td>\n",
       "      <td>0.010792</td>\n",
       "      <td>2</td>\n",
       "      <td>57588573000</td>\n",
       "      <td>-2.0</td>\n",
       "      <td>0.007555</td>\n",
       "      <td>2</td>\n",
       "      <td>57587277000</td>\n",
       "      <td>5.0</td>\n",
       "      <td>0.010792</td>\n",
       "      <td>2</td>\n",
       "      <td>57584792000</td>\n",
       "      <td>5.0</td>\n",
       "      <td>0.050615</td>\n",
       "      <td>2</td>\n",
       "      <td>57584792000</td>\n",
       "      <td>0.0</td>\n",
       "      <td>0.010792</td>\n",
       "      <td>2</td>\n",
       "      <td>57583312000</td>\n",
       "      <td>7</td>\n",
       "      <td>255</td>\n",
       "      <td>2</td>\n",
       "    </tr>\n",
       "    <tr>\n",
       "      <th>3</th>\n",
       "      <td>0.5</td>\n",
       "      <td>1.5</td>\n",
       "      <td>0.006943</td>\n",
       "      <td>0.006943</td>\n",
       "      <td>-2.5</td>\n",
       "      <td>-3.5</td>\n",
       "      <td>0.006943</td>\n",
       "      <td>0.013886</td>\n",
       "      <td>-0.5</td>\n",
       "      <td>0.000069</td>\n",
       "      <td>2</td>\n",
       "      <td>49600934000</td>\n",
       "      <td>49556431600</td>\n",
       "      <td>0.5</td>\n",
       "      <td>1.5</td>\n",
       "      <td>0.062487</td>\n",
       "      <td>0.069430</td>\n",
       "      <td>-1.5</td>\n",
       "      <td>-2.5</td>\n",
       "      <td>0.027772</td>\n",
       "      <td>0.041658</td>\n",
       "      <td>49600914425</td>\n",
       "      <td>0.5</td>\n",
       "      <td>1.5</td>\n",
       "      <td>0.159689</td>\n",
       "      <td>0.104145</td>\n",
       "      <td>-1.5</td>\n",
       "      <td>-2.5</td>\n",
       "      <td>0.055544</td>\n",
       "      <td>0.055544</td>\n",
       "      <td>4.960093e+10</td>\n",
       "      <td>0.5</td>\n",
       "      <td>3.5</td>\n",
       "      <td>0.006943</td>\n",
       "      <td>0.006943</td>\n",
       "      <td>-2.5</td>\n",
       "      <td>-3.5</td>\n",
       "      <td>0.006943</td>\n",
       "      <td>0.006943</td>\n",
       "      <td>49598110725</td>\n",
       "      <td>0.5</td>\n",
       "      <td>1.5</td>\n",
       "      <td>0.057141</td>\n",
       "      <td>0.152746</td>\n",
       "      <td>-0.5</td>\n",
       "      <td>-1.5</td>\n",
       "      <td>0.009373</td>\n",
       "      <td>0.034715</td>\n",
       "      <td>49600895075</td>\n",
       "      <td>0.5</td>\n",
       "      <td>1.5</td>\n",
       "      <td>0.055544</td>\n",
       "      <td>0.027772</td>\n",
       "      <td>-1.5</td>\n",
       "      <td>-2.5</td>\n",
       "      <td>0.013886</td>\n",
       "      <td>0.010067</td>\n",
       "      <td>49600916450</td>\n",
       "      <td>-0.5</td>\n",
       "      <td>0.000903</td>\n",
       "      <td>2</td>\n",
       "      <td>49600934000</td>\n",
       "      <td>-0.5</td>\n",
       "      <td>0.001805</td>\n",
       "      <td>2</td>\n",
       "      <td>49600934000</td>\n",
       "      <td>-0.5</td>\n",
       "      <td>0.006874</td>\n",
       "      <td>2</td>\n",
       "      <td>49600934000</td>\n",
       "      <td>-0.5</td>\n",
       "      <td>0.000069</td>\n",
       "      <td>2</td>\n",
       "      <td>49600934000</td>\n",
       "      <td>-0.5</td>\n",
       "      <td>0.000069</td>\n",
       "      <td>2</td>\n",
       "      <td>49575045000</td>\n",
       "      <td>-0.5</td>\n",
       "      <td>0.006943</td>\n",
       "      <td>2</td>\n",
       "      <td>49549374000</td>\n",
       "      <td>0.5</td>\n",
       "      <td>0.006943</td>\n",
       "      <td>4</td>\n",
       "      <td>49549010300</td>\n",
       "      <td>0.5</td>\n",
       "      <td>0.013886</td>\n",
       "      <td>4</td>\n",
       "      <td>49549010300</td>\n",
       "      <td>0.5</td>\n",
       "      <td>0.006943</td>\n",
       "      <td>1</td>\n",
       "      <td>49549010200</td>\n",
       "      <td>48</td>\n",
       "      <td>64</td>\n",
       "      <td>3</td>\n",
       "    </tr>\n",
       "    <tr>\n",
       "      <th>4</th>\n",
       "      <td>15.0</td>\n",
       "      <td>442.0</td>\n",
       "      <td>0.035689</td>\n",
       "      <td>0.071378</td>\n",
       "      <td>-391.0</td>\n",
       "      <td>-397.0</td>\n",
       "      <td>0.035689</td>\n",
       "      <td>0.035689</td>\n",
       "      <td>3.0</td>\n",
       "      <td>0.035689</td>\n",
       "      <td>4</td>\n",
       "      <td>42582838575</td>\n",
       "      <td>42582838575</td>\n",
       "      <td>6.0</td>\n",
       "      <td>8.0</td>\n",
       "      <td>0.045682</td>\n",
       "      <td>0.035689</td>\n",
       "      <td>-6.0</td>\n",
       "      <td>-9.0</td>\n",
       "      <td>0.009993</td>\n",
       "      <td>0.045682</td>\n",
       "      <td>42552991475</td>\n",
       "      <td>7.0</td>\n",
       "      <td>9.0</td>\n",
       "      <td>0.071378</td>\n",
       "      <td>0.071378</td>\n",
       "      <td>-5.0</td>\n",
       "      <td>-7.0</td>\n",
       "      <td>0.071378</td>\n",
       "      <td>0.035689</td>\n",
       "      <td>4.258284e+10</td>\n",
       "      <td>15.0</td>\n",
       "      <td>442.0</td>\n",
       "      <td>0.035689</td>\n",
       "      <td>0.035689</td>\n",
       "      <td>-6.0</td>\n",
       "      <td>-391.0</td>\n",
       "      <td>0.035689</td>\n",
       "      <td>0.035689</td>\n",
       "      <td>42582838075</td>\n",
       "      <td>10.0</td>\n",
       "      <td>42.0</td>\n",
       "      <td>0.002141</td>\n",
       "      <td>0.035689</td>\n",
       "      <td>-7.0</td>\n",
       "      <td>-11.0</td>\n",
       "      <td>0.142755</td>\n",
       "      <td>0.071378</td>\n",
       "      <td>42582838575</td>\n",
       "      <td>5.0</td>\n",
       "      <td>8.0</td>\n",
       "      <td>0.010350</td>\n",
       "      <td>0.009636</td>\n",
       "      <td>-7.0</td>\n",
       "      <td>-10.0</td>\n",
       "      <td>0.010350</td>\n",
       "      <td>0.009636</td>\n",
       "      <td>42543442150</td>\n",
       "      <td>3.0</td>\n",
       "      <td>0.035689</td>\n",
       "      <td>0</td>\n",
       "      <td>42582838575</td>\n",
       "      <td>3.0</td>\n",
       "      <td>0.035689</td>\n",
       "      <td>0</td>\n",
       "      <td>42582838575</td>\n",
       "      <td>3.0</td>\n",
       "      <td>0.000357</td>\n",
       "      <td>2</td>\n",
       "      <td>42582838000</td>\n",
       "      <td>3.0</td>\n",
       "      <td>0.034261</td>\n",
       "      <td>2</td>\n",
       "      <td>42582838000</td>\n",
       "      <td>3.0</td>\n",
       "      <td>0.001428</td>\n",
       "      <td>2</td>\n",
       "      <td>42582838000</td>\n",
       "      <td>2.0</td>\n",
       "      <td>0.000357</td>\n",
       "      <td>2</td>\n",
       "      <td>42552979000</td>\n",
       "      <td>-12.0</td>\n",
       "      <td>0.035689</td>\n",
       "      <td>5</td>\n",
       "      <td>42463285900</td>\n",
       "      <td>-12.0</td>\n",
       "      <td>0.035689</td>\n",
       "      <td>2</td>\n",
       "      <td>42452055000</td>\n",
       "      <td>-8.0</td>\n",
       "      <td>0.035689</td>\n",
       "      <td>3</td>\n",
       "      <td>42451072650</td>\n",
       "      <td>52</td>\n",
       "      <td>231</td>\n",
       "      <td>4</td>\n",
       "    </tr>\n",
       "    <tr>\n",
       "      <th>...</th>\n",
       "      <td>...</td>\n",
       "      <td>...</td>\n",
       "      <td>...</td>\n",
       "      <td>...</td>\n",
       "      <td>...</td>\n",
       "      <td>...</td>\n",
       "      <td>...</td>\n",
       "      <td>...</td>\n",
       "      <td>...</td>\n",
       "      <td>...</td>\n",
       "      <td>...</td>\n",
       "      <td>...</td>\n",
       "      <td>...</td>\n",
       "      <td>...</td>\n",
       "      <td>...</td>\n",
       "      <td>...</td>\n",
       "      <td>...</td>\n",
       "      <td>...</td>\n",
       "      <td>...</td>\n",
       "      <td>...</td>\n",
       "      <td>...</td>\n",
       "      <td>...</td>\n",
       "      <td>...</td>\n",
       "      <td>...</td>\n",
       "      <td>...</td>\n",
       "      <td>...</td>\n",
       "      <td>...</td>\n",
       "      <td>...</td>\n",
       "      <td>...</td>\n",
       "      <td>...</td>\n",
       "      <td>...</td>\n",
       "      <td>...</td>\n",
       "      <td>...</td>\n",
       "      <td>...</td>\n",
       "      <td>...</td>\n",
       "      <td>...</td>\n",
       "      <td>...</td>\n",
       "      <td>...</td>\n",
       "      <td>...</td>\n",
       "      <td>...</td>\n",
       "      <td>...</td>\n",
       "      <td>...</td>\n",
       "      <td>...</td>\n",
       "      <td>...</td>\n",
       "      <td>...</td>\n",
       "      <td>...</td>\n",
       "      <td>...</td>\n",
       "      <td>...</td>\n",
       "      <td>...</td>\n",
       "      <td>...</td>\n",
       "      <td>...</td>\n",
       "      <td>...</td>\n",
       "      <td>...</td>\n",
       "      <td>...</td>\n",
       "      <td>...</td>\n",
       "      <td>...</td>\n",
       "      <td>...</td>\n",
       "      <td>...</td>\n",
       "      <td>...</td>\n",
       "      <td>...</td>\n",
       "      <td>...</td>\n",
       "      <td>...</td>\n",
       "      <td>...</td>\n",
       "      <td>...</td>\n",
       "      <td>...</td>\n",
       "      <td>...</td>\n",
       "      <td>...</td>\n",
       "      <td>...</td>\n",
       "      <td>...</td>\n",
       "      <td>...</td>\n",
       "      <td>...</td>\n",
       "      <td>...</td>\n",
       "      <td>...</td>\n",
       "      <td>...</td>\n",
       "      <td>...</td>\n",
       "      <td>...</td>\n",
       "      <td>...</td>\n",
       "      <td>...</td>\n",
       "      <td>...</td>\n",
       "      <td>...</td>\n",
       "      <td>...</td>\n",
       "      <td>...</td>\n",
       "      <td>...</td>\n",
       "      <td>...</td>\n",
       "      <td>...</td>\n",
       "      <td>...</td>\n",
       "      <td>...</td>\n",
       "      <td>...</td>\n",
       "      <td>...</td>\n",
       "      <td>...</td>\n",
       "      <td>...</td>\n",
       "      <td>...</td>\n",
       "      <td>...</td>\n",
       "      <td>...</td>\n",
       "      <td>...</td>\n",
       "      <td>...</td>\n",
       "      <td>...</td>\n",
       "    </tr>\n",
       "    <tr>\n",
       "      <th>959501</th>\n",
       "      <td>21.0</td>\n",
       "      <td>525.0</td>\n",
       "      <td>0.054885</td>\n",
       "      <td>0.054885</td>\n",
       "      <td>-13.0</td>\n",
       "      <td>-568.0</td>\n",
       "      <td>0.054885</td>\n",
       "      <td>0.054885</td>\n",
       "      <td>-2.0</td>\n",
       "      <td>0.054885</td>\n",
       "      <td>2</td>\n",
       "      <td>37690561000</td>\n",
       "      <td>37690560400</td>\n",
       "      <td>4.0</td>\n",
       "      <td>9.0</td>\n",
       "      <td>0.054885</td>\n",
       "      <td>0.054885</td>\n",
       "      <td>-4.0</td>\n",
       "      <td>-5.0</td>\n",
       "      <td>0.054885</td>\n",
       "      <td>0.024149</td>\n",
       "      <td>37690560375</td>\n",
       "      <td>6.0</td>\n",
       "      <td>13.0</td>\n",
       "      <td>0.005488</td>\n",
       "      <td>0.054885</td>\n",
       "      <td>-5.0</td>\n",
       "      <td>-11.0</td>\n",
       "      <td>0.054885</td>\n",
       "      <td>0.054885</td>\n",
       "      <td>3.769056e+10</td>\n",
       "      <td>17.0</td>\n",
       "      <td>532.0</td>\n",
       "      <td>0.054885</td>\n",
       "      <td>0.054885</td>\n",
       "      <td>-12.0</td>\n",
       "      <td>-575.0</td>\n",
       "      <td>0.054885</td>\n",
       "      <td>0.054885</td>\n",
       "      <td>37690560375</td>\n",
       "      <td>8.0</td>\n",
       "      <td>9.0</td>\n",
       "      <td>0.024149</td>\n",
       "      <td>0.001098</td>\n",
       "      <td>-4.0</td>\n",
       "      <td>-6.0</td>\n",
       "      <td>0.054885</td>\n",
       "      <td>0.024149</td>\n",
       "      <td>37690560250</td>\n",
       "      <td>7.0</td>\n",
       "      <td>10.0</td>\n",
       "      <td>0.024149</td>\n",
       "      <td>0.024149</td>\n",
       "      <td>-5.0</td>\n",
       "      <td>-8.0</td>\n",
       "      <td>0.024698</td>\n",
       "      <td>0.024698</td>\n",
       "      <td>37690560400</td>\n",
       "      <td>-1.0</td>\n",
       "      <td>0.027442</td>\n",
       "      <td>4</td>\n",
       "      <td>37690560200</td>\n",
       "      <td>-1.0</td>\n",
       "      <td>0.002195</td>\n",
       "      <td>4</td>\n",
       "      <td>37690560200</td>\n",
       "      <td>-1.0</td>\n",
       "      <td>0.054885</td>\n",
       "      <td>2</td>\n",
       "      <td>37690559000</td>\n",
       "      <td>2.0</td>\n",
       "      <td>0.054885</td>\n",
       "      <td>4</td>\n",
       "      <td>37687057350</td>\n",
       "      <td>2.0</td>\n",
       "      <td>0.054885</td>\n",
       "      <td>4</td>\n",
       "      <td>37687057050</td>\n",
       "      <td>5.0</td>\n",
       "      <td>0.016465</td>\n",
       "      <td>2</td>\n",
       "      <td>37687010000</td>\n",
       "      <td>5.0</td>\n",
       "      <td>0.000549</td>\n",
       "      <td>2</td>\n",
       "      <td>37687010000</td>\n",
       "      <td>4.0</td>\n",
       "      <td>0.005488</td>\n",
       "      <td>4</td>\n",
       "      <td>37685622400</td>\n",
       "      <td>4.0</td>\n",
       "      <td>0.021954</td>\n",
       "      <td>1</td>\n",
       "      <td>37685622225</td>\n",
       "      <td>448</td>\n",
       "      <td>37</td>\n",
       "      <td>959501</td>\n",
       "    </tr>\n",
       "    <tr>\n",
       "      <th>959502</th>\n",
       "      <td>2.5</td>\n",
       "      <td>3.5</td>\n",
       "      <td>0.011474</td>\n",
       "      <td>0.011474</td>\n",
       "      <td>-2.5</td>\n",
       "      <td>-97.5</td>\n",
       "      <td>0.022949</td>\n",
       "      <td>0.022949</td>\n",
       "      <td>0.5</td>\n",
       "      <td>0.011474</td>\n",
       "      <td>4</td>\n",
       "      <td>41224167075</td>\n",
       "      <td>41221128950</td>\n",
       "      <td>1.5</td>\n",
       "      <td>2.5</td>\n",
       "      <td>0.068847</td>\n",
       "      <td>0.045898</td>\n",
       "      <td>-0.5</td>\n",
       "      <td>-1.5</td>\n",
       "      <td>0.022949</td>\n",
       "      <td>0.057372</td>\n",
       "      <td>41221887100</td>\n",
       "      <td>0.5</td>\n",
       "      <td>1.5</td>\n",
       "      <td>0.011474</td>\n",
       "      <td>0.091796</td>\n",
       "      <td>-0.5</td>\n",
       "      <td>-1.5</td>\n",
       "      <td>0.080321</td>\n",
       "      <td>0.126219</td>\n",
       "      <td>4.122417e+10</td>\n",
       "      <td>2.5</td>\n",
       "      <td>3.5</td>\n",
       "      <td>0.022949</td>\n",
       "      <td>0.034423</td>\n",
       "      <td>-1.5</td>\n",
       "      <td>-2.5</td>\n",
       "      <td>0.011474</td>\n",
       "      <td>0.022949</td>\n",
       "      <td>41220561775</td>\n",
       "      <td>1.5</td>\n",
       "      <td>2.5</td>\n",
       "      <td>0.068847</td>\n",
       "      <td>0.045898</td>\n",
       "      <td>-0.5</td>\n",
       "      <td>-1.5</td>\n",
       "      <td>0.047619</td>\n",
       "      <td>0.034423</td>\n",
       "      <td>41224167075</td>\n",
       "      <td>1.5</td>\n",
       "      <td>2.5</td>\n",
       "      <td>0.045898</td>\n",
       "      <td>0.034423</td>\n",
       "      <td>-0.5</td>\n",
       "      <td>-1.5</td>\n",
       "      <td>0.022949</td>\n",
       "      <td>0.034423</td>\n",
       "      <td>41221105100</td>\n",
       "      <td>0.5</td>\n",
       "      <td>0.011474</td>\n",
       "      <td>2</td>\n",
       "      <td>41221119000</td>\n",
       "      <td>0.5</td>\n",
       "      <td>0.011474</td>\n",
       "      <td>2</td>\n",
       "      <td>41221119000</td>\n",
       "      <td>0.5</td>\n",
       "      <td>0.011474</td>\n",
       "      <td>4</td>\n",
       "      <td>41213174550</td>\n",
       "      <td>0.5</td>\n",
       "      <td>0.011474</td>\n",
       "      <td>1</td>\n",
       "      <td>41207218725</td>\n",
       "      <td>0.5</td>\n",
       "      <td>0.011474</td>\n",
       "      <td>2</td>\n",
       "      <td>41207218000</td>\n",
       "      <td>0.5</td>\n",
       "      <td>0.011474</td>\n",
       "      <td>2</td>\n",
       "      <td>41207218000</td>\n",
       "      <td>0.5</td>\n",
       "      <td>0.011474</td>\n",
       "      <td>2</td>\n",
       "      <td>41207218000</td>\n",
       "      <td>0.5</td>\n",
       "      <td>0.002869</td>\n",
       "      <td>1</td>\n",
       "      <td>41207217975</td>\n",
       "      <td>0.5</td>\n",
       "      <td>0.006426</td>\n",
       "      <td>3</td>\n",
       "      <td>41206462575</td>\n",
       "      <td>451</td>\n",
       "      <td>13</td>\n",
       "      <td>959502</td>\n",
       "    </tr>\n",
       "    <tr>\n",
       "      <th>959503</th>\n",
       "      <td>26.5</td>\n",
       "      <td>161.5</td>\n",
       "      <td>0.009052</td>\n",
       "      <td>0.004526</td>\n",
       "      <td>-0.5</td>\n",
       "      <td>-144.5</td>\n",
       "      <td>0.022630</td>\n",
       "      <td>0.009052</td>\n",
       "      <td>0.5</td>\n",
       "      <td>0.009052</td>\n",
       "      <td>3</td>\n",
       "      <td>36667918950</td>\n",
       "      <td>36667239950</td>\n",
       "      <td>1.5</td>\n",
       "      <td>2.5</td>\n",
       "      <td>0.009052</td>\n",
       "      <td>0.013578</td>\n",
       "      <td>-0.5</td>\n",
       "      <td>-1.5</td>\n",
       "      <td>0.104096</td>\n",
       "      <td>0.090518</td>\n",
       "      <td>36667239950</td>\n",
       "      <td>0.5</td>\n",
       "      <td>1.5</td>\n",
       "      <td>0.031002</td>\n",
       "      <td>0.013578</td>\n",
       "      <td>-0.5</td>\n",
       "      <td>-1.5</td>\n",
       "      <td>0.179950</td>\n",
       "      <td>0.067889</td>\n",
       "      <td>3.666780e+10</td>\n",
       "      <td>6.5</td>\n",
       "      <td>7.5</td>\n",
       "      <td>0.005295</td>\n",
       "      <td>0.004526</td>\n",
       "      <td>-0.5</td>\n",
       "      <td>-4.5</td>\n",
       "      <td>0.027155</td>\n",
       "      <td>0.005295</td>\n",
       "      <td>36667918950</td>\n",
       "      <td>1.5</td>\n",
       "      <td>2.5</td>\n",
       "      <td>0.022630</td>\n",
       "      <td>0.027155</td>\n",
       "      <td>-0.5</td>\n",
       "      <td>-1.5</td>\n",
       "      <td>0.117674</td>\n",
       "      <td>0.067889</td>\n",
       "      <td>36667239825</td>\n",
       "      <td>0.5</td>\n",
       "      <td>1.5</td>\n",
       "      <td>0.009052</td>\n",
       "      <td>0.004526</td>\n",
       "      <td>-0.5</td>\n",
       "      <td>-1.5</td>\n",
       "      <td>0.054311</td>\n",
       "      <td>0.099570</td>\n",
       "      <td>36667686200</td>\n",
       "      <td>0.5</td>\n",
       "      <td>0.004526</td>\n",
       "      <td>3</td>\n",
       "      <td>36667210425</td>\n",
       "      <td>0.5</td>\n",
       "      <td>0.004526</td>\n",
       "      <td>3</td>\n",
       "      <td>36667209975</td>\n",
       "      <td>0.5</td>\n",
       "      <td>0.009052</td>\n",
       "      <td>4</td>\n",
       "      <td>36667209800</td>\n",
       "      <td>0.5</td>\n",
       "      <td>0.004526</td>\n",
       "      <td>4</td>\n",
       "      <td>36666344325</td>\n",
       "      <td>0.5</td>\n",
       "      <td>0.018104</td>\n",
       "      <td>4</td>\n",
       "      <td>36666344325</td>\n",
       "      <td>0.5</td>\n",
       "      <td>0.004526</td>\n",
       "      <td>1</td>\n",
       "      <td>36666339375</td>\n",
       "      <td>0.5</td>\n",
       "      <td>0.004526</td>\n",
       "      <td>1</td>\n",
       "      <td>36666337800</td>\n",
       "      <td>0.5</td>\n",
       "      <td>0.004526</td>\n",
       "      <td>1</td>\n",
       "      <td>36666336825</td>\n",
       "      <td>0.5</td>\n",
       "      <td>0.018104</td>\n",
       "      <td>1</td>\n",
       "      <td>36666319950</td>\n",
       "      <td>101</td>\n",
       "      <td>45</td>\n",
       "      <td>959503</td>\n",
       "    </tr>\n",
       "    <tr>\n",
       "      <th>959504</th>\n",
       "      <td>1.5</td>\n",
       "      <td>2.5</td>\n",
       "      <td>0.009576</td>\n",
       "      <td>0.028727</td>\n",
       "      <td>-6.5</td>\n",
       "      <td>-7.5</td>\n",
       "      <td>0.019152</td>\n",
       "      <td>0.019152</td>\n",
       "      <td>-0.5</td>\n",
       "      <td>0.004979</td>\n",
       "      <td>4</td>\n",
       "      <td>35452051200</td>\n",
       "      <td>35451892700</td>\n",
       "      <td>0.5</td>\n",
       "      <td>1.5</td>\n",
       "      <td>0.057455</td>\n",
       "      <td>0.047879</td>\n",
       "      <td>-1.5</td>\n",
       "      <td>-2.5</td>\n",
       "      <td>0.038303</td>\n",
       "      <td>0.047879</td>\n",
       "      <td>35452040375</td>\n",
       "      <td>0.5</td>\n",
       "      <td>2.5</td>\n",
       "      <td>0.009576</td>\n",
       "      <td>0.019152</td>\n",
       "      <td>-1.5</td>\n",
       "      <td>-7.5</td>\n",
       "      <td>0.019152</td>\n",
       "      <td>0.009576</td>\n",
       "      <td>3.545204e+10</td>\n",
       "      <td>20.5</td>\n",
       "      <td>33.5</td>\n",
       "      <td>0.019152</td>\n",
       "      <td>0.019152</td>\n",
       "      <td>-6.5</td>\n",
       "      <td>-7.5</td>\n",
       "      <td>0.018673</td>\n",
       "      <td>0.019152</td>\n",
       "      <td>35451629350</td>\n",
       "      <td>0.5</td>\n",
       "      <td>1.5</td>\n",
       "      <td>0.057455</td>\n",
       "      <td>0.153213</td>\n",
       "      <td>-0.5</td>\n",
       "      <td>-1.5</td>\n",
       "      <td>0.023748</td>\n",
       "      <td>0.143637</td>\n",
       "      <td>35452051200</td>\n",
       "      <td>0.5</td>\n",
       "      <td>1.5</td>\n",
       "      <td>0.076606</td>\n",
       "      <td>0.076606</td>\n",
       "      <td>-0.5</td>\n",
       "      <td>-1.5</td>\n",
       "      <td>0.009576</td>\n",
       "      <td>0.057455</td>\n",
       "      <td>35452039700</td>\n",
       "      <td>0.0</td>\n",
       "      <td>0.009576</td>\n",
       "      <td>1</td>\n",
       "      <td>35451629275</td>\n",
       "      <td>-0.5</td>\n",
       "      <td>0.003064</td>\n",
       "      <td>5</td>\n",
       "      <td>35451610350</td>\n",
       "      <td>-0.5</td>\n",
       "      <td>0.006895</td>\n",
       "      <td>2</td>\n",
       "      <td>35451610000</td>\n",
       "      <td>-0.5</td>\n",
       "      <td>0.002681</td>\n",
       "      <td>2</td>\n",
       "      <td>35451605000</td>\n",
       "      <td>-0.5</td>\n",
       "      <td>0.009576</td>\n",
       "      <td>4</td>\n",
       "      <td>35451599200</td>\n",
       "      <td>-0.5</td>\n",
       "      <td>0.009576</td>\n",
       "      <td>4</td>\n",
       "      <td>35451599200</td>\n",
       "      <td>-0.5</td>\n",
       "      <td>0.009576</td>\n",
       "      <td>0</td>\n",
       "      <td>35450973025</td>\n",
       "      <td>-2.5</td>\n",
       "      <td>0.000479</td>\n",
       "      <td>5</td>\n",
       "      <td>35449044950</td>\n",
       "      <td>-2.5</td>\n",
       "      <td>0.009576</td>\n",
       "      <td>3</td>\n",
       "      <td>35449044900</td>\n",
       "      <td>388</td>\n",
       "      <td>110</td>\n",
       "      <td>959504</td>\n",
       "    </tr>\n",
       "    <tr>\n",
       "      <th>959505</th>\n",
       "      <td>0.5</td>\n",
       "      <td>1.5</td>\n",
       "      <td>0.029694</td>\n",
       "      <td>0.010530</td>\n",
       "      <td>-0.5</td>\n",
       "      <td>-1.5</td>\n",
       "      <td>0.026324</td>\n",
       "      <td>0.007897</td>\n",
       "      <td>-0.5</td>\n",
       "      <td>0.002317</td>\n",
       "      <td>3</td>\n",
       "      <td>57567824950</td>\n",
       "      <td>57566997350</td>\n",
       "      <td>0.5</td>\n",
       "      <td>1.5</td>\n",
       "      <td>0.010898</td>\n",
       "      <td>0.027272</td>\n",
       "      <td>-0.5</td>\n",
       "      <td>-1.5</td>\n",
       "      <td>0.013162</td>\n",
       "      <td>0.015794</td>\n",
       "      <td>57566225575</td>\n",
       "      <td>0.5</td>\n",
       "      <td>1.5</td>\n",
       "      <td>0.149126</td>\n",
       "      <td>0.121091</td>\n",
       "      <td>-0.5</td>\n",
       "      <td>-1.5</td>\n",
       "      <td>0.237680</td>\n",
       "      <td>0.147494</td>\n",
       "      <td>5.756782e+10</td>\n",
       "      <td>0.5</td>\n",
       "      <td>1.5</td>\n",
       "      <td>0.011662</td>\n",
       "      <td>0.026324</td>\n",
       "      <td>-1.5</td>\n",
       "      <td>-2.5</td>\n",
       "      <td>0.007897</td>\n",
       "      <td>0.005265</td>\n",
       "      <td>57567824950</td>\n",
       "      <td>0.5</td>\n",
       "      <td>1.5</td>\n",
       "      <td>0.023692</td>\n",
       "      <td>0.034221</td>\n",
       "      <td>-0.5</td>\n",
       "      <td>-1.5</td>\n",
       "      <td>0.018427</td>\n",
       "      <td>0.022902</td>\n",
       "      <td>57567135950</td>\n",
       "      <td>0.5</td>\n",
       "      <td>1.5</td>\n",
       "      <td>0.010530</td>\n",
       "      <td>0.015794</td>\n",
       "      <td>-0.5</td>\n",
       "      <td>-1.5</td>\n",
       "      <td>0.015794</td>\n",
       "      <td>0.010530</td>\n",
       "      <td>57566997625</td>\n",
       "      <td>-0.5</td>\n",
       "      <td>0.005265</td>\n",
       "      <td>3</td>\n",
       "      <td>57567824950</td>\n",
       "      <td>-0.5</td>\n",
       "      <td>0.002632</td>\n",
       "      <td>3</td>\n",
       "      <td>57567779375</td>\n",
       "      <td>-0.5</td>\n",
       "      <td>0.002632</td>\n",
       "      <td>3</td>\n",
       "      <td>57567381950</td>\n",
       "      <td>-0.5</td>\n",
       "      <td>0.002632</td>\n",
       "      <td>3</td>\n",
       "      <td>57567213550</td>\n",
       "      <td>-0.5</td>\n",
       "      <td>0.005265</td>\n",
       "      <td>3</td>\n",
       "      <td>57566997150</td>\n",
       "      <td>0.5</td>\n",
       "      <td>0.001500</td>\n",
       "      <td>3</td>\n",
       "      <td>57564623000</td>\n",
       "      <td>0.5</td>\n",
       "      <td>0.002632</td>\n",
       "      <td>3</td>\n",
       "      <td>57564322550</td>\n",
       "      <td>0.5</td>\n",
       "      <td>0.002632</td>\n",
       "      <td>3</td>\n",
       "      <td>57563221650</td>\n",
       "      <td>0.5</td>\n",
       "      <td>0.002632</td>\n",
       "      <td>3</td>\n",
       "      <td>57563221650</td>\n",
       "      <td>9</td>\n",
       "      <td>71</td>\n",
       "      <td>959505</td>\n",
       "    </tr>\n",
       "  </tbody>\n",
       "</table>\n",
       "<p>959506 rows × 97 columns</p>\n",
       "</div>"
      ],
      "text/plain": [
       "        (0, ask)  (0, ask1)  (0, ask_size)  (0, ask_size1)  (0, bid)  \\\n",
       "0            4.5      562.5       0.002330        0.093197     -25.5   \n",
       "1            2.5       14.5       0.001314        0.013139     -10.5   \n",
       "2            5.0      210.0       0.010792        0.010792     -95.0   \n",
       "3            0.5        1.5       0.006943        0.006943      -2.5   \n",
       "4           15.0      442.0       0.035689        0.071378    -391.0   \n",
       "...          ...        ...            ...             ...       ...   \n",
       "959501      21.0      525.0       0.054885        0.054885     -13.0   \n",
       "959502       2.5        3.5       0.011474        0.011474      -2.5   \n",
       "959503      26.5      161.5       0.009052        0.004526      -0.5   \n",
       "959504       1.5        2.5       0.009576        0.028727      -6.5   \n",
       "959505       0.5        1.5       0.029694        0.010530      -0.5   \n",
       "\n",
       "        (0, bid1)  (0, bid_size)  (0, bid_size1)  (0, price)  (0, qty)  \\\n",
       "0          -545.5       0.046598        0.046598        -0.5  0.037279   \n",
       "1          -406.5       0.013139        0.026278        -0.5  0.013139   \n",
       "2          -285.0       0.032376        0.021584        -3.0  0.010253   \n",
       "3            -3.5       0.006943        0.013886        -0.5  0.000069   \n",
       "4          -397.0       0.035689        0.035689         3.0  0.035689   \n",
       "...           ...            ...             ...         ...       ...   \n",
       "959501     -568.0       0.054885        0.054885        -2.0  0.054885   \n",
       "959502      -97.5       0.022949        0.022949         0.5  0.011474   \n",
       "959503     -144.5       0.022630        0.009052         0.5  0.009052   \n",
       "959504       -7.5       0.019152        0.019152        -0.5  0.004979   \n",
       "959505       -1.5       0.026324        0.007897        -0.5  0.002317   \n",
       "\n",
       "        (0, source_id)     (0, tod)  (0, ts_last_update)  (1, ask)  (1, ask1)  \\\n",
       "0                    2  38931125000          38931123475       4.5       10.5   \n",
       "1                    4  46336099325          46336092050       1.5        2.5   \n",
       "2                    2  57592945000          57585501775      26.0      210.0   \n",
       "3                    2  49600934000          49556431600       0.5        1.5   \n",
       "4                    4  42582838575          42582838575       6.0        8.0   \n",
       "...                ...          ...                  ...       ...        ...   \n",
       "959501               2  37690561000          37690560400       4.0        9.0   \n",
       "959502               4  41224167075          41221128950       1.5        2.5   \n",
       "959503               3  36667918950          36667239950       1.5        2.5   \n",
       "959504               4  35452051200          35451892700       0.5        1.5   \n",
       "959505               3  57567824950          57566997350       0.5        1.5   \n",
       "\n",
       "        (1, ask_size)  (1, ask_size1)  (1, bid)  (1, bid1)  (1, bid_size)  \\\n",
       "0            0.004660        0.023299     -18.5      -23.5       0.034949   \n",
       "1            0.013139        0.032584      -1.5       -2.5       0.013139   \n",
       "2            0.021584        0.010792      -5.0       -8.0       0.010792   \n",
       "3            0.062487        0.069430      -1.5       -2.5       0.027772   \n",
       "4            0.045682        0.035689      -6.0       -9.0       0.009993   \n",
       "...               ...             ...       ...        ...            ...   \n",
       "959501       0.054885        0.054885      -4.0       -5.0       0.054885   \n",
       "959502       0.068847        0.045898      -0.5       -1.5       0.022949   \n",
       "959503       0.009052        0.013578      -0.5       -1.5       0.104096   \n",
       "959504       0.057455        0.047879      -1.5       -2.5       0.038303   \n",
       "959505       0.010898        0.027272      -0.5       -1.5       0.013162   \n",
       "\n",
       "        (1, bid_size1)  (1, ts_last_update)  (2, ask)  (2, ask1)  \\\n",
       "0             0.093197          38931124450       3.5        6.5   \n",
       "1             0.039417          46336099225       1.5        3.5   \n",
       "2             0.010792          57586713300       5.0        6.0   \n",
       "3             0.041658          49600914425       0.5        1.5   \n",
       "4             0.045682          42552991475       7.0        9.0   \n",
       "...                ...                  ...       ...        ...   \n",
       "959501        0.024149          37690560375       6.0       13.0   \n",
       "959502        0.057372          41221887100       0.5        1.5   \n",
       "959503        0.090518          36667239950       0.5        1.5   \n",
       "959504        0.047879          35452040375       0.5        2.5   \n",
       "959505        0.015794          57566225575       0.5        1.5   \n",
       "\n",
       "        (2, ask_size)  (2, ask_size1)  (2, bid)  (2, bid1)  (2, bid_size)  \\\n",
       "0            0.004660        0.046598      -4.5       -8.5       0.046598   \n",
       "1            0.027592        0.039417      -1.5       -2.5       0.039417   \n",
       "2            0.478200        0.086337      -5.0       -6.0       0.021584   \n",
       "3            0.159689        0.104145      -1.5       -2.5       0.055544   \n",
       "4            0.071378        0.071378      -5.0       -7.0       0.071378   \n",
       "...               ...             ...       ...        ...            ...   \n",
       "959501       0.005488        0.054885      -5.0      -11.0       0.054885   \n",
       "959502       0.011474        0.091796      -0.5       -1.5       0.080321   \n",
       "959503       0.031002        0.013578      -0.5       -1.5       0.179950   \n",
       "959504       0.009576        0.019152      -1.5       -7.5       0.019152   \n",
       "959505       0.149126        0.121091      -0.5       -1.5       0.237680   \n",
       "\n",
       "        (2, bid_size1)  (2, ts_last_update)  (3, ask)  (3, ask1)  \\\n",
       "0             0.093197         3.893112e+10       4.5      562.5   \n",
       "1             0.026278         4.633610e+10       2.5       12.5   \n",
       "2             0.021584         5.759294e+10       5.0      124.0   \n",
       "3             0.055544         4.960093e+10       0.5        3.5   \n",
       "4             0.035689         4.258284e+10      15.0      442.0   \n",
       "...                ...                  ...       ...        ...   \n",
       "959501        0.054885         3.769056e+10      17.0      532.0   \n",
       "959502        0.126219         4.122417e+10       2.5        3.5   \n",
       "959503        0.067889         3.666780e+10       6.5        7.5   \n",
       "959504        0.009576         3.545204e+10      20.5       33.5   \n",
       "959505        0.147494         5.756782e+10       0.5        1.5   \n",
       "\n",
       "        (3, ask_size)  (3, ask_size1)  (3, bid)  (3, bid1)  (3, bid_size)  \\\n",
       "0            0.002330        0.046598     -25.5     -545.5       0.046598   \n",
       "1            0.010511        0.013139      -8.5     -406.5       0.013139   \n",
       "2            0.010792        0.010792     -95.0     -139.0       0.032376   \n",
       "3            0.006943        0.006943      -2.5       -3.5       0.006943   \n",
       "4            0.035689        0.035689      -6.0     -391.0       0.035689   \n",
       "...               ...             ...       ...        ...            ...   \n",
       "959501       0.054885        0.054885     -12.0     -575.0       0.054885   \n",
       "959502       0.022949        0.034423      -1.5       -2.5       0.011474   \n",
       "959503       0.005295        0.004526      -0.5       -4.5       0.027155   \n",
       "959504       0.019152        0.019152      -6.5       -7.5       0.018673   \n",
       "959505       0.011662        0.026324      -1.5       -2.5       0.007897   \n",
       "\n",
       "        (3, bid_size1)  (3, ts_last_update)  (4, ask)  (4, ask1)  \\\n",
       "0             0.046598          38931123475       4.5        8.5   \n",
       "1             0.013139          46336099250       2.5        3.5   \n",
       "2             0.010792          57592943075       5.0       13.0   \n",
       "3             0.006943          49598110725       0.5        1.5   \n",
       "4             0.035689          42582838075      10.0       42.0   \n",
       "...                ...                  ...       ...        ...   \n",
       "959501        0.054885          37690560375       8.0        9.0   \n",
       "959502        0.022949          41220561775       1.5        2.5   \n",
       "959503        0.005295          36667918950       1.5        2.5   \n",
       "959504        0.019152          35451629350       0.5        1.5   \n",
       "959505        0.005265          57567824950       0.5        1.5   \n",
       "\n",
       "        (4, ask_size)  (4, ask_size1)  (4, bid)  (4, bid1)  (4, bid_size)  \\\n",
       "0            0.051258        0.017707      -8.5       -9.5       0.017707   \n",
       "1            0.170805        0.161083      -1.5       -2.5       0.078833   \n",
       "2            0.000216        0.010792     -21.0      -95.0       0.021584   \n",
       "3            0.057141        0.152746      -0.5       -1.5       0.009373   \n",
       "4            0.002141        0.035689      -7.0      -11.0       0.142755   \n",
       "...               ...             ...       ...        ...            ...   \n",
       "959501       0.024149        0.001098      -4.0       -6.0       0.054885   \n",
       "959502       0.068847        0.045898      -0.5       -1.5       0.047619   \n",
       "959503       0.022630        0.027155      -0.5       -1.5       0.117674   \n",
       "959504       0.057455        0.153213      -0.5       -1.5       0.023748   \n",
       "959505       0.023692        0.034221      -0.5       -1.5       0.018427   \n",
       "\n",
       "        (4, bid_size1)  (4, ts_last_update)  (5, ask)  (5, ask1)  \\\n",
       "0             0.046598          38931123625       4.5       59.5   \n",
       "1             0.118775          46336099325       2.5        3.5   \n",
       "2             0.122275          57592943750     210.0      282.0   \n",
       "3             0.034715          49600895075       0.5        1.5   \n",
       "4             0.071378          42582838575       5.0        8.0   \n",
       "...                ...                  ...       ...        ...   \n",
       "959501        0.024149          37690560250       7.0       10.0   \n",
       "959502        0.034423          41224167075       1.5        2.5   \n",
       "959503        0.067889          36667239825       0.5        1.5   \n",
       "959504        0.143637          35452051200       0.5        1.5   \n",
       "959505        0.022902          57567135950       0.5        1.5   \n",
       "\n",
       "        (5, ask_size)  (5, ask_size1)  (5, bid)  (5, bid1)  (5, bid_size)  \\\n",
       "0            0.002330        0.046598      -3.5      -68.5       0.046598   \n",
       "1            0.015767        0.027986      -1.5       -2.5       0.026278   \n",
       "2            0.010792        0.010792      -5.0       -7.0       0.010792   \n",
       "3            0.055544        0.027772      -1.5       -2.5       0.013886   \n",
       "4            0.010350        0.009636      -7.0      -10.0       0.010350   \n",
       "...               ...             ...       ...        ...            ...   \n",
       "959501       0.024149        0.024149      -5.0       -8.0       0.024698   \n",
       "959502       0.045898        0.034423      -0.5       -1.5       0.022949   \n",
       "959503       0.009052        0.004526      -0.5       -1.5       0.054311   \n",
       "959504       0.076606        0.076606      -0.5       -1.5       0.009576   \n",
       "959505       0.010530        0.015794      -0.5       -1.5       0.015794   \n",
       "\n",
       "        (5, bid_size1)  (5, ts_last_update)  (1, price)  (1, qty)  \\\n",
       "0             0.093197          38931124450        -0.5  0.009320   \n",
       "1             0.065694          46336094200        -0.5  0.013139   \n",
       "2             0.010792          57590003900        -3.0  0.010792   \n",
       "3             0.010067          49600916450        -0.5  0.000903   \n",
       "4             0.009636          42543442150         3.0  0.035689   \n",
       "...                ...                  ...         ...       ...   \n",
       "959501        0.024698          37690560400        -1.0  0.027442   \n",
       "959502        0.034423          41221105100         0.5  0.011474   \n",
       "959503        0.099570          36667686200         0.5  0.004526   \n",
       "959504        0.057455          35452039700         0.0  0.009576   \n",
       "959505        0.010530          57566997625        -0.5  0.005265   \n",
       "\n",
       "        (1, source_id)     (1, tod)  (2, price)  (2, qty)  (2, source_id)  \\\n",
       "0                    2  38931125000        -0.5  0.009320               2   \n",
       "1                    4  46336099325        -0.5  0.078833               4   \n",
       "2                    3  57592942500        -3.0  0.008742               2   \n",
       "3                    2  49600934000        -0.5  0.001805               2   \n",
       "4                    0  42582838575         3.0  0.035689               0   \n",
       "...                ...          ...         ...       ...             ...   \n",
       "959501               4  37690560200        -1.0  0.002195               4   \n",
       "959502               2  41221119000         0.5  0.011474               2   \n",
       "959503               3  36667210425         0.5  0.004526               3   \n",
       "959504               1  35451629275        -0.5  0.003064               5   \n",
       "959505               3  57567824950        -0.5  0.002632               3   \n",
       "\n",
       "           (2, tod)  (3, price)  (3, qty)  (3, source_id)     (3, tod)  \\\n",
       "0       38931124000         0.5  0.006524               4  38931123325   \n",
       "1       46336099325        -0.5  0.013139               3  46336099250   \n",
       "2       57590265000        -3.0  0.002051               2  57590265000   \n",
       "3       49600934000        -0.5  0.006874               2  49600934000   \n",
       "4       42582838575         3.0  0.000357               2  42582838000   \n",
       "...             ...         ...       ...             ...          ...   \n",
       "959501  37690560200        -1.0  0.054885               2  37690559000   \n",
       "959502  41221119000         0.5  0.011474               4  41213174550   \n",
       "959503  36667209975         0.5  0.009052               4  36667209800   \n",
       "959504  35451610350        -0.5  0.006895               2  35451610000   \n",
       "959505  57567779375        -0.5  0.002632               3  57567381950   \n",
       "\n",
       "        (4, price)  (4, qty)  (4, source_id)     (4, tod)  (5, price)  \\\n",
       "0              0.5  0.046598               5  38931123125         0.5   \n",
       "1             -0.5  0.013139               1  46336099225        -0.5   \n",
       "2             -3.0  0.008742               2  57590153000         5.0   \n",
       "3             -0.5  0.000069               2  49600934000        -0.5   \n",
       "4              3.0  0.034261               2  42582838000         3.0   \n",
       "...            ...       ...             ...          ...         ...   \n",
       "959501         2.0  0.054885               4  37687057350         2.0   \n",
       "959502         0.5  0.011474               1  41207218725         0.5   \n",
       "959503         0.5  0.004526               4  36666344325         0.5   \n",
       "959504        -0.5  0.002681               2  35451605000        -0.5   \n",
       "959505        -0.5  0.002632               3  57567213550        -0.5   \n",
       "\n",
       "        (5, qty)  (5, source_id)     (5, tod)  (6, price)  (6, qty)  \\\n",
       "0       0.046598               1  38931123100         0.5  0.004660   \n",
       "1       0.039417               2  46336099000        -0.5  0.013139   \n",
       "2       0.010792               2  57588573000        -2.0  0.007555   \n",
       "3       0.000069               2  49575045000        -0.5  0.006943   \n",
       "4       0.001428               2  42582838000         2.0  0.000357   \n",
       "...          ...             ...          ...         ...       ...   \n",
       "959501  0.054885               4  37687057050         5.0  0.016465   \n",
       "959502  0.011474               2  41207218000         0.5  0.011474   \n",
       "959503  0.018104               4  36666344325         0.5  0.004526   \n",
       "959504  0.009576               4  35451599200        -0.5  0.009576   \n",
       "959505  0.005265               3  57566997150         0.5  0.001500   \n",
       "\n",
       "        (6, source_id)     (6, tod)  (7, price)  (7, qty)  (7, source_id)  \\\n",
       "0                    4  38930877575         2.5  0.004660               2   \n",
       "1                    2  46336099000         1.5  0.013139               5   \n",
       "2                    2  57587277000         5.0  0.010792               2   \n",
       "3                    2  49549374000         0.5  0.006943               4   \n",
       "4                    2  42552979000       -12.0  0.035689               5   \n",
       "...                ...          ...         ...       ...             ...   \n",
       "959501               2  37687010000         5.0  0.000549               2   \n",
       "959502               2  41207218000         0.5  0.011474               2   \n",
       "959503               1  36666339375         0.5  0.004526               1   \n",
       "959504               4  35451599200        -0.5  0.009576               0   \n",
       "959505               3  57564623000         0.5  0.002632               3   \n",
       "\n",
       "           (7, tod)  (8, price)  (8, qty)  (8, source_id)     (8, tod)  \\\n",
       "0       38930877000         2.5  0.004660               4  38930876675   \n",
       "1       46336089125         1.5  0.013139               2  46336088000   \n",
       "2       57584792000         5.0  0.050615               2  57584792000   \n",
       "3       49549010300         0.5  0.013886               4  49549010300   \n",
       "4       42463285900       -12.0  0.035689               2  42452055000   \n",
       "...             ...         ...       ...             ...          ...   \n",
       "959501  37687010000         4.0  0.005488               4  37685622400   \n",
       "959502  41207218000         0.5  0.002869               1  41207217975   \n",
       "959503  36666337800         0.5  0.004526               1  36666336825   \n",
       "959504  35450973025        -2.5  0.000479               5  35449044950   \n",
       "959505  57564322550         0.5  0.002632               3  57563221650   \n",
       "\n",
       "        (9, price)  (9, qty)  (9, source_id)     (9, tod)  stock_id  day_id  \\\n",
       "0             -3.5  0.046598               2  38930876000       387     238   \n",
       "1              1.5  0.013139               4  46336087875       437      22   \n",
       "2              0.0  0.010792               2  57583312000         7     255   \n",
       "3              0.5  0.006943               1  49549010200        48      64   \n",
       "4             -8.0  0.035689               3  42451072650        52     231   \n",
       "...            ...       ...             ...          ...       ...     ...   \n",
       "959501         4.0  0.021954               1  37685622225       448      37   \n",
       "959502         0.5  0.006426               3  41206462575       451      13   \n",
       "959503         0.5  0.018104               1  36666319950       101      45   \n",
       "959504        -2.5  0.009576               3  35449044900       388     110   \n",
       "959505         0.5  0.002632               3  57563221650         9      71   \n",
       "\n",
       "            ID  \n",
       "0            0  \n",
       "1            1  \n",
       "2            2  \n",
       "3            3  \n",
       "4            4  \n",
       "...        ...  \n",
       "959501  959501  \n",
       "959502  959502  \n",
       "959503  959503  \n",
       "959504  959504  \n",
       "959505  959505  \n",
       "\n",
       "[959506 rows x 97 columns]"
      ]
     },
     "execution_count": 37,
     "metadata": {},
     "output_type": "execute_result"
    }
   ],
   "source": [
    "train_data"
   ]
  },
  {
   "cell_type": "markdown",
   "metadata": {},
   "source": [
    "## Exploratory analysis"
   ]
  },
  {
   "cell_type": "code",
   "execution_count": 4,
   "metadata": {},
   "outputs": [
    {
     "data": {
      "text/html": [
       "<div>\n",
       "<style scoped>\n",
       "    .dataframe tbody tr th:only-of-type {\n",
       "        vertical-align: middle;\n",
       "    }\n",
       "\n",
       "    .dataframe tbody tr th {\n",
       "        vertical-align: top;\n",
       "    }\n",
       "\n",
       "    .dataframe thead th {\n",
       "        text-align: right;\n",
       "    }\n",
       "</style>\n",
       "<table border=\"1\" class=\"dataframe\">\n",
       "  <thead>\n",
       "    <tr style=\"text-align: right;\">\n",
       "      <th></th>\n",
       "      <th>(0, ask)</th>\n",
       "      <th>(0, ask1)</th>\n",
       "      <th>(0, ask_size)</th>\n",
       "      <th>(0, ask_size1)</th>\n",
       "      <th>(0, bid)</th>\n",
       "      <th>(0, bid1)</th>\n",
       "      <th>(0, bid_size)</th>\n",
       "      <th>(0, bid_size1)</th>\n",
       "      <th>(0, price)</th>\n",
       "      <th>(0, qty)</th>\n",
       "      <th>...</th>\n",
       "      <th>(8, qty)</th>\n",
       "      <th>(8, source_id)</th>\n",
       "      <th>(8, tod)</th>\n",
       "      <th>(9, price)</th>\n",
       "      <th>(9, qty)</th>\n",
       "      <th>(9, source_id)</th>\n",
       "      <th>(9, tod)</th>\n",
       "      <th>stock_id</th>\n",
       "      <th>day_id</th>\n",
       "      <th>source_id</th>\n",
       "    </tr>\n",
       "  </thead>\n",
       "  <tbody>\n",
       "    <tr>\n",
       "      <th>0</th>\n",
       "      <td>4.5</td>\n",
       "      <td>562.5</td>\n",
       "      <td>0.002330</td>\n",
       "      <td>0.093197</td>\n",
       "      <td>-25.5</td>\n",
       "      <td>-545.5</td>\n",
       "      <td>0.046598</td>\n",
       "      <td>0.046598</td>\n",
       "      <td>-0.5</td>\n",
       "      <td>0.037279</td>\n",
       "      <td>...</td>\n",
       "      <td>0.004660</td>\n",
       "      <td>4</td>\n",
       "      <td>38930876675</td>\n",
       "      <td>-3.5</td>\n",
       "      <td>0.046598</td>\n",
       "      <td>2</td>\n",
       "      <td>38930876000</td>\n",
       "      <td>387</td>\n",
       "      <td>238</td>\n",
       "      <td>2</td>\n",
       "    </tr>\n",
       "    <tr>\n",
       "      <th>1</th>\n",
       "      <td>2.5</td>\n",
       "      <td>14.5</td>\n",
       "      <td>0.001314</td>\n",
       "      <td>0.013139</td>\n",
       "      <td>-10.5</td>\n",
       "      <td>-406.5</td>\n",
       "      <td>0.013139</td>\n",
       "      <td>0.026278</td>\n",
       "      <td>-0.5</td>\n",
       "      <td>0.013139</td>\n",
       "      <td>...</td>\n",
       "      <td>0.013139</td>\n",
       "      <td>2</td>\n",
       "      <td>46336088000</td>\n",
       "      <td>1.5</td>\n",
       "      <td>0.013139</td>\n",
       "      <td>4</td>\n",
       "      <td>46336087875</td>\n",
       "      <td>437</td>\n",
       "      <td>22</td>\n",
       "      <td>2</td>\n",
       "    </tr>\n",
       "    <tr>\n",
       "      <th>2</th>\n",
       "      <td>5.0</td>\n",
       "      <td>210.0</td>\n",
       "      <td>0.010792</td>\n",
       "      <td>0.010792</td>\n",
       "      <td>-95.0</td>\n",
       "      <td>-285.0</td>\n",
       "      <td>0.032376</td>\n",
       "      <td>0.021584</td>\n",
       "      <td>-3.0</td>\n",
       "      <td>0.010253</td>\n",
       "      <td>...</td>\n",
       "      <td>0.050615</td>\n",
       "      <td>2</td>\n",
       "      <td>57584792000</td>\n",
       "      <td>0.0</td>\n",
       "      <td>0.010792</td>\n",
       "      <td>2</td>\n",
       "      <td>57583312000</td>\n",
       "      <td>7</td>\n",
       "      <td>255</td>\n",
       "      <td>2</td>\n",
       "    </tr>\n",
       "    <tr>\n",
       "      <th>3</th>\n",
       "      <td>0.5</td>\n",
       "      <td>1.5</td>\n",
       "      <td>0.006943</td>\n",
       "      <td>0.006943</td>\n",
       "      <td>-2.5</td>\n",
       "      <td>-3.5</td>\n",
       "      <td>0.006943</td>\n",
       "      <td>0.013886</td>\n",
       "      <td>-0.5</td>\n",
       "      <td>0.000069</td>\n",
       "      <td>...</td>\n",
       "      <td>0.013886</td>\n",
       "      <td>4</td>\n",
       "      <td>49549010300</td>\n",
       "      <td>0.5</td>\n",
       "      <td>0.006943</td>\n",
       "      <td>1</td>\n",
       "      <td>49549010200</td>\n",
       "      <td>48</td>\n",
       "      <td>64</td>\n",
       "      <td>4</td>\n",
       "    </tr>\n",
       "    <tr>\n",
       "      <th>4</th>\n",
       "      <td>15.0</td>\n",
       "      <td>442.0</td>\n",
       "      <td>0.035689</td>\n",
       "      <td>0.071378</td>\n",
       "      <td>-391.0</td>\n",
       "      <td>-397.0</td>\n",
       "      <td>0.035689</td>\n",
       "      <td>0.035689</td>\n",
       "      <td>3.0</td>\n",
       "      <td>0.035689</td>\n",
       "      <td>...</td>\n",
       "      <td>0.035689</td>\n",
       "      <td>2</td>\n",
       "      <td>42452055000</td>\n",
       "      <td>-8.0</td>\n",
       "      <td>0.035689</td>\n",
       "      <td>3</td>\n",
       "      <td>42451072650</td>\n",
       "      <td>52</td>\n",
       "      <td>231</td>\n",
       "      <td>2</td>\n",
       "    </tr>\n",
       "  </tbody>\n",
       "</table>\n",
       "<p>5 rows × 97 columns</p>\n",
       "</div>"
      ],
      "text/plain": [
       "   (0, ask)  (0, ask1)  (0, ask_size)  (0, ask_size1)  (0, bid)  (0, bid1)  \\\n",
       "0       4.5      562.5       0.002330        0.093197     -25.5     -545.5   \n",
       "1       2.5       14.5       0.001314        0.013139     -10.5     -406.5   \n",
       "2       5.0      210.0       0.010792        0.010792     -95.0     -285.0   \n",
       "3       0.5        1.5       0.006943        0.006943      -2.5       -3.5   \n",
       "4      15.0      442.0       0.035689        0.071378    -391.0     -397.0   \n",
       "\n",
       "   (0, bid_size)  (0, bid_size1)  (0, price)  (0, qty)  ...  (8, qty)  \\\n",
       "0       0.046598        0.046598        -0.5  0.037279  ...  0.004660   \n",
       "1       0.013139        0.026278        -0.5  0.013139  ...  0.013139   \n",
       "2       0.032376        0.021584        -3.0  0.010253  ...  0.050615   \n",
       "3       0.006943        0.013886        -0.5  0.000069  ...  0.013886   \n",
       "4       0.035689        0.035689         3.0  0.035689  ...  0.035689   \n",
       "\n",
       "   (8, source_id)     (8, tod)  (9, price)  (9, qty)  (9, source_id)  \\\n",
       "0               4  38930876675        -3.5  0.046598               2   \n",
       "1               2  46336088000         1.5  0.013139               4   \n",
       "2               2  57584792000         0.0  0.010792               2   \n",
       "3               4  49549010300         0.5  0.006943               1   \n",
       "4               2  42452055000        -8.0  0.035689               3   \n",
       "\n",
       "      (9, tod)  stock_id  day_id  source_id  \n",
       "0  38930876000       387     238          2  \n",
       "1  46336087875       437      22          2  \n",
       "2  57583312000         7     255          2  \n",
       "3  49549010200        48      64          4  \n",
       "4  42451072650        52     231          2  \n",
       "\n",
       "[5 rows x 97 columns]"
      ]
     },
     "execution_count": 4,
     "metadata": {},
     "output_type": "execute_result"
    }
   ],
   "source": [
    "concat.head()"
   ]
  },
  {
   "cell_type": "code",
   "execution_count": 9,
   "metadata": {},
   "outputs": [
    {
     "data": {
      "text/plain": [
       "(0, ask)          4.500000e+00\n",
       "(0, ask1)         5.625000e+02\n",
       "(0, ask_size)     2.329916e-03\n",
       "(0, ask_size1)    9.319665e-02\n",
       "(0, bid)         -2.550000e+01\n",
       "                      ...     \n",
       "(9, source_id)    2.000000e+00\n",
       "(9, tod)          3.893088e+10\n",
       "stock_id          3.870000e+02\n",
       "day_id            2.380000e+02\n",
       "source_id         2.000000e+00\n",
       "Name: 0, Length: 97, dtype: float64"
      ]
     },
     "execution_count": 9,
     "metadata": {},
     "output_type": "execute_result"
    }
   ],
   "source": [
    "concat.iloc[0]"
   ]
  },
  {
   "cell_type": "code",
   "execution_count": null,
   "metadata": {},
   "outputs": [],
   "source": [
    "#Explique comment ca marche?\n",
    "\n",
    "#combien il ya de stocks (bid size, bid size1,ask size, ask size 1) vs prix (ask, ask1, bid, bid1) Pour chaque order book\n",
    "\n",
    "#Trades price up top and timestamp in bottom, color is the venue number\n",
    "\n",
    "#Trade pourra être achat ou vente on sait pas donc le meilleur score convergera ver 0.5?\n",
    "\n",
    "#Trends by stock?\n",
    "\n",
    "#We check pour un stock particulier la venue préféré count(venue préféré (max venue)/count(autres venue))  (pourcentage)\n",
    "\n",
    "#We check pour tous les stocks dispo the average of count(venue préféré (max venue)/count(autres venue))\n",
    "\n",
    "#Trends by day?\n",
    "\n",
    "#Do certain days favour certain venues=> Venue by day\n"
   ]
  },
  {
   "cell_type": "code",
   "execution_count": null,
   "metadata": {},
   "outputs": [],
   "source": [
    "#Feature engineering\n",
    "#Venue with best bid, venue with best ask\n",
    "#Venue with the biggest bid size, venue with biggest ask size\n",
    "#Convert all the timestamps to hours (timestamps sont en milliseconds)\n"
   ]
  },
  {
   "cell_type": "code",
   "execution_count": 85,
   "metadata": {},
   "outputs": [],
   "source": [
    "import lightgbm\n",
    "\n",
    "\n",
    "train_data = lightgbm.Dataset(train_data, label=labels.drop(columns=[\"ID\"]), categorical_feature=cat_features)\n",
    "\n",
    "\n"
   ]
  },
  {
   "cell_type": "code",
   "execution_count": 86,
   "metadata": {},
   "outputs": [
    {
     "ename": "TypeError",
     "evalue": "Cannot initialize Dataset from Dataset",
     "output_type": "error",
     "traceback": [
      "\u001b[1;31m---------------------------------------------------------------------------\u001b[0m",
      "\u001b[1;31mTypeError\u001b[0m                                 Traceback (most recent call last)",
      "\u001b[1;32m~\\Anaconda3\\lib\\site-packages\\scipy\\sparse\\base.py\u001b[0m in \u001b[0;36masformat\u001b[1;34m(self, format, copy)\u001b[0m\n\u001b[0;32m    321\u001b[0m             \u001b[1;32mtry\u001b[0m\u001b[1;33m:\u001b[0m\u001b[1;33m\u001b[0m\u001b[1;33m\u001b[0m\u001b[0m\n\u001b[1;32m--> 322\u001b[1;33m                 \u001b[1;32mreturn\u001b[0m \u001b[0mconvert_method\u001b[0m\u001b[1;33m(\u001b[0m\u001b[0mcopy\u001b[0m\u001b[1;33m=\u001b[0m\u001b[0mcopy\u001b[0m\u001b[1;33m)\u001b[0m\u001b[1;33m\u001b[0m\u001b[1;33m\u001b[0m\u001b[0m\n\u001b[0m\u001b[0;32m    323\u001b[0m             \u001b[1;32mexcept\u001b[0m \u001b[0mTypeError\u001b[0m\u001b[1;33m:\u001b[0m\u001b[1;33m\u001b[0m\u001b[1;33m\u001b[0m\u001b[0m\n",
      "\u001b[1;32m~\\Anaconda3\\lib\\site-packages\\scipy\\sparse\\coo.py\u001b[0m in \u001b[0;36mtocsr\u001b[1;34m(self, copy)\u001b[0m\n\u001b[0;32m    403\u001b[0m             \u001b[0mindices\u001b[0m \u001b[1;33m=\u001b[0m \u001b[0mnp\u001b[0m\u001b[1;33m.\u001b[0m\u001b[0mempty_like\u001b[0m\u001b[1;33m(\u001b[0m\u001b[0mcol\u001b[0m\u001b[1;33m,\u001b[0m \u001b[0mdtype\u001b[0m\u001b[1;33m=\u001b[0m\u001b[0midx_dtype\u001b[0m\u001b[1;33m)\u001b[0m\u001b[1;33m\u001b[0m\u001b[1;33m\u001b[0m\u001b[0m\n\u001b[1;32m--> 404\u001b[1;33m             \u001b[0mdata\u001b[0m \u001b[1;33m=\u001b[0m \u001b[0mnp\u001b[0m\u001b[1;33m.\u001b[0m\u001b[0mempty_like\u001b[0m\u001b[1;33m(\u001b[0m\u001b[0mself\u001b[0m\u001b[1;33m.\u001b[0m\u001b[0mdata\u001b[0m\u001b[1;33m,\u001b[0m \u001b[0mdtype\u001b[0m\u001b[1;33m=\u001b[0m\u001b[0mupcast\u001b[0m\u001b[1;33m(\u001b[0m\u001b[0mself\u001b[0m\u001b[1;33m.\u001b[0m\u001b[0mdtype\u001b[0m\u001b[1;33m)\u001b[0m\u001b[1;33m)\u001b[0m\u001b[1;33m\u001b[0m\u001b[1;33m\u001b[0m\u001b[0m\n\u001b[0m\u001b[0;32m    405\u001b[0m \u001b[1;33m\u001b[0m\u001b[0m\n",
      "\u001b[1;32m~\\Anaconda3\\lib\\site-packages\\scipy\\sparse\\sputils.py\u001b[0m in \u001b[0;36mupcast\u001b[1;34m(*args)\u001b[0m\n\u001b[0;32m     50\u001b[0m \u001b[1;33m\u001b[0m\u001b[0m\n\u001b[1;32m---> 51\u001b[1;33m     \u001b[1;32mraise\u001b[0m \u001b[0mTypeError\u001b[0m\u001b[1;33m(\u001b[0m\u001b[1;34m'no supported conversion for types: %r'\u001b[0m \u001b[1;33m%\u001b[0m \u001b[1;33m(\u001b[0m\u001b[0margs\u001b[0m\u001b[1;33m,\u001b[0m\u001b[1;33m)\u001b[0m\u001b[1;33m)\u001b[0m\u001b[1;33m\u001b[0m\u001b[1;33m\u001b[0m\u001b[0m\n\u001b[0m\u001b[0;32m     52\u001b[0m \u001b[1;33m\u001b[0m\u001b[0m\n",
      "\u001b[1;31mTypeError\u001b[0m: no supported conversion for types: (dtype('O'),)",
      "\nDuring handling of the above exception, another exception occurred:\n",
      "\u001b[1;31mTypeError\u001b[0m                                 Traceback (most recent call last)",
      "\u001b[1;32m~\\Anaconda3\\lib\\site-packages\\lightgbm\\basic.py\u001b[0m in \u001b[0;36m_lazy_init\u001b[1;34m(self, data, label, reference, weight, group, init_score, predictor, silent, feature_name, categorical_feature, params)\u001b[0m\n\u001b[0;32m   1129\u001b[0m             \u001b[1;32mtry\u001b[0m\u001b[1;33m:\u001b[0m\u001b[1;33m\u001b[0m\u001b[1;33m\u001b[0m\u001b[0m\n\u001b[1;32m-> 1130\u001b[1;33m                 \u001b[0mcsr\u001b[0m \u001b[1;33m=\u001b[0m \u001b[0mscipy\u001b[0m\u001b[1;33m.\u001b[0m\u001b[0msparse\u001b[0m\u001b[1;33m.\u001b[0m\u001b[0mcsr_matrix\u001b[0m\u001b[1;33m(\u001b[0m\u001b[0mdata\u001b[0m\u001b[1;33m)\u001b[0m\u001b[1;33m\u001b[0m\u001b[1;33m\u001b[0m\u001b[0m\n\u001b[0m\u001b[0;32m   1131\u001b[0m                 \u001b[0mself\u001b[0m\u001b[1;33m.\u001b[0m\u001b[0m__init_from_csr\u001b[0m\u001b[1;33m(\u001b[0m\u001b[0mcsr\u001b[0m\u001b[1;33m,\u001b[0m \u001b[0mparams_str\u001b[0m\u001b[1;33m,\u001b[0m \u001b[0mref_dataset\u001b[0m\u001b[1;33m)\u001b[0m\u001b[1;33m\u001b[0m\u001b[1;33m\u001b[0m\u001b[0m\n",
      "\u001b[1;32m~\\Anaconda3\\lib\\site-packages\\scipy\\sparse\\compressed.py\u001b[0m in \u001b[0;36m__init__\u001b[1;34m(self, arg1, shape, dtype, copy)\u001b[0m\n\u001b[0;32m     84\u001b[0m             \u001b[1;32mfrom\u001b[0m \u001b[1;33m.\u001b[0m\u001b[0mcoo\u001b[0m \u001b[1;32mimport\u001b[0m \u001b[0mcoo_matrix\u001b[0m\u001b[1;33m\u001b[0m\u001b[1;33m\u001b[0m\u001b[0m\n\u001b[1;32m---> 85\u001b[1;33m             \u001b[0mself\u001b[0m\u001b[1;33m.\u001b[0m\u001b[0m_set_self\u001b[0m\u001b[1;33m(\u001b[0m\u001b[0mself\u001b[0m\u001b[1;33m.\u001b[0m\u001b[0m__class__\u001b[0m\u001b[1;33m(\u001b[0m\u001b[0mcoo_matrix\u001b[0m\u001b[1;33m(\u001b[0m\u001b[0marg1\u001b[0m\u001b[1;33m,\u001b[0m \u001b[0mdtype\u001b[0m\u001b[1;33m=\u001b[0m\u001b[0mdtype\u001b[0m\u001b[1;33m)\u001b[0m\u001b[1;33m)\u001b[0m\u001b[1;33m)\u001b[0m\u001b[1;33m\u001b[0m\u001b[1;33m\u001b[0m\u001b[0m\n\u001b[0m\u001b[0;32m     86\u001b[0m \u001b[1;33m\u001b[0m\u001b[0m\n",
      "\u001b[1;32m~\\Anaconda3\\lib\\site-packages\\scipy\\sparse\\compressed.py\u001b[0m in \u001b[0;36m__init__\u001b[1;34m(self, arg1, shape, dtype, copy)\u001b[0m\n\u001b[0;32m     33\u001b[0m             \u001b[1;32melse\u001b[0m\u001b[1;33m:\u001b[0m\u001b[1;33m\u001b[0m\u001b[1;33m\u001b[0m\u001b[0m\n\u001b[1;32m---> 34\u001b[1;33m                 \u001b[0marg1\u001b[0m \u001b[1;33m=\u001b[0m \u001b[0marg1\u001b[0m\u001b[1;33m.\u001b[0m\u001b[0masformat\u001b[0m\u001b[1;33m(\u001b[0m\u001b[0mself\u001b[0m\u001b[1;33m.\u001b[0m\u001b[0mformat\u001b[0m\u001b[1;33m)\u001b[0m\u001b[1;33m\u001b[0m\u001b[1;33m\u001b[0m\u001b[0m\n\u001b[0m\u001b[0;32m     35\u001b[0m             \u001b[0mself\u001b[0m\u001b[1;33m.\u001b[0m\u001b[0m_set_self\u001b[0m\u001b[1;33m(\u001b[0m\u001b[0marg1\u001b[0m\u001b[1;33m)\u001b[0m\u001b[1;33m\u001b[0m\u001b[1;33m\u001b[0m\u001b[0m\n",
      "\u001b[1;32m~\\Anaconda3\\lib\\site-packages\\scipy\\sparse\\base.py\u001b[0m in \u001b[0;36masformat\u001b[1;34m(self, format, copy)\u001b[0m\n\u001b[0;32m    323\u001b[0m             \u001b[1;32mexcept\u001b[0m \u001b[0mTypeError\u001b[0m\u001b[1;33m:\u001b[0m\u001b[1;33m\u001b[0m\u001b[1;33m\u001b[0m\u001b[0m\n\u001b[1;32m--> 324\u001b[1;33m                 \u001b[1;32mreturn\u001b[0m \u001b[0mconvert_method\u001b[0m\u001b[1;33m(\u001b[0m\u001b[1;33m)\u001b[0m\u001b[1;33m\u001b[0m\u001b[1;33m\u001b[0m\u001b[0m\n\u001b[0m\u001b[0;32m    325\u001b[0m \u001b[1;33m\u001b[0m\u001b[0m\n",
      "\u001b[1;32m~\\Anaconda3\\lib\\site-packages\\scipy\\sparse\\coo.py\u001b[0m in \u001b[0;36mtocsr\u001b[1;34m(self, copy)\u001b[0m\n\u001b[0;32m    403\u001b[0m             \u001b[0mindices\u001b[0m \u001b[1;33m=\u001b[0m \u001b[0mnp\u001b[0m\u001b[1;33m.\u001b[0m\u001b[0mempty_like\u001b[0m\u001b[1;33m(\u001b[0m\u001b[0mcol\u001b[0m\u001b[1;33m,\u001b[0m \u001b[0mdtype\u001b[0m\u001b[1;33m=\u001b[0m\u001b[0midx_dtype\u001b[0m\u001b[1;33m)\u001b[0m\u001b[1;33m\u001b[0m\u001b[1;33m\u001b[0m\u001b[0m\n\u001b[1;32m--> 404\u001b[1;33m             \u001b[0mdata\u001b[0m \u001b[1;33m=\u001b[0m \u001b[0mnp\u001b[0m\u001b[1;33m.\u001b[0m\u001b[0mempty_like\u001b[0m\u001b[1;33m(\u001b[0m\u001b[0mself\u001b[0m\u001b[1;33m.\u001b[0m\u001b[0mdata\u001b[0m\u001b[1;33m,\u001b[0m \u001b[0mdtype\u001b[0m\u001b[1;33m=\u001b[0m\u001b[0mupcast\u001b[0m\u001b[1;33m(\u001b[0m\u001b[0mself\u001b[0m\u001b[1;33m.\u001b[0m\u001b[0mdtype\u001b[0m\u001b[1;33m)\u001b[0m\u001b[1;33m)\u001b[0m\u001b[1;33m\u001b[0m\u001b[1;33m\u001b[0m\u001b[0m\n\u001b[0m\u001b[0;32m    405\u001b[0m \u001b[1;33m\u001b[0m\u001b[0m\n",
      "\u001b[1;32m~\\Anaconda3\\lib\\site-packages\\scipy\\sparse\\sputils.py\u001b[0m in \u001b[0;36mupcast\u001b[1;34m(*args)\u001b[0m\n\u001b[0;32m     50\u001b[0m \u001b[1;33m\u001b[0m\u001b[0m\n\u001b[1;32m---> 51\u001b[1;33m     \u001b[1;32mraise\u001b[0m \u001b[0mTypeError\u001b[0m\u001b[1;33m(\u001b[0m\u001b[1;34m'no supported conversion for types: %r'\u001b[0m \u001b[1;33m%\u001b[0m \u001b[1;33m(\u001b[0m\u001b[0margs\u001b[0m\u001b[1;33m,\u001b[0m\u001b[1;33m)\u001b[0m\u001b[1;33m)\u001b[0m\u001b[1;33m\u001b[0m\u001b[1;33m\u001b[0m\u001b[0m\n\u001b[0m\u001b[0;32m     52\u001b[0m \u001b[1;33m\u001b[0m\u001b[0m\n",
      "\u001b[1;31mTypeError\u001b[0m: no supported conversion for types: (dtype('O'),)",
      "\nDuring handling of the above exception, another exception occurred:\n",
      "\u001b[1;31mTypeError\u001b[0m                                 Traceback (most recent call last)",
      "\u001b[1;32m<ipython-input-86-df90f6944a9a>\u001b[0m in \u001b[0;36m<module>\u001b[1;34m\u001b[0m\n\u001b[0;32m     16\u001b[0m                        \u001b[0mtrain_data\u001b[0m\u001b[1;33m,\u001b[0m\u001b[1;33m\u001b[0m\u001b[1;33m\u001b[0m\u001b[0m\n\u001b[0;32m     17\u001b[0m                        \u001b[0mnum_boost_round\u001b[0m\u001b[1;33m=\u001b[0m\u001b[1;36m5000\u001b[0m\u001b[1;33m,\u001b[0m\u001b[1;33m\u001b[0m\u001b[1;33m\u001b[0m\u001b[0m\n\u001b[1;32m---> 18\u001b[1;33m                        early_stopping_rounds=100)\n\u001b[0m",
      "\u001b[1;32m~\\Anaconda3\\lib\\site-packages\\lightgbm\\engine.py\u001b[0m in \u001b[0;36mtrain\u001b[1;34m(params, train_set, num_boost_round, valid_sets, valid_names, fobj, feval, init_model, feature_name, categorical_feature, early_stopping_rounds, evals_result, verbose_eval, learning_rates, keep_training_booster, callbacks)\u001b[0m\n\u001b[0;32m    229\u001b[0m     \u001b[1;31m# construct booster\u001b[0m\u001b[1;33m\u001b[0m\u001b[1;33m\u001b[0m\u001b[1;33m\u001b[0m\u001b[0m\n\u001b[0;32m    230\u001b[0m     \u001b[1;32mtry\u001b[0m\u001b[1;33m:\u001b[0m\u001b[1;33m\u001b[0m\u001b[1;33m\u001b[0m\u001b[0m\n\u001b[1;32m--> 231\u001b[1;33m         \u001b[0mbooster\u001b[0m \u001b[1;33m=\u001b[0m \u001b[0mBooster\u001b[0m\u001b[1;33m(\u001b[0m\u001b[0mparams\u001b[0m\u001b[1;33m=\u001b[0m\u001b[0mparams\u001b[0m\u001b[1;33m,\u001b[0m \u001b[0mtrain_set\u001b[0m\u001b[1;33m=\u001b[0m\u001b[0mtrain_set\u001b[0m\u001b[1;33m)\u001b[0m\u001b[1;33m\u001b[0m\u001b[1;33m\u001b[0m\u001b[0m\n\u001b[0m\u001b[0;32m    232\u001b[0m         \u001b[1;32mif\u001b[0m \u001b[0mis_valid_contain_train\u001b[0m\u001b[1;33m:\u001b[0m\u001b[1;33m\u001b[0m\u001b[1;33m\u001b[0m\u001b[0m\n\u001b[0;32m    233\u001b[0m             \u001b[0mbooster\u001b[0m\u001b[1;33m.\u001b[0m\u001b[0mset_train_data_name\u001b[0m\u001b[1;33m(\u001b[0m\u001b[0mtrain_data_name\u001b[0m\u001b[1;33m)\u001b[0m\u001b[1;33m\u001b[0m\u001b[1;33m\u001b[0m\u001b[0m\n",
      "\u001b[1;32m~\\Anaconda3\\lib\\site-packages\\lightgbm\\basic.py\u001b[0m in \u001b[0;36m__init__\u001b[1;34m(self, params, train_set, model_file, model_str, silent)\u001b[0m\n\u001b[0;32m   2051\u001b[0m                     \u001b[1;32mbreak\u001b[0m\u001b[1;33m\u001b[0m\u001b[1;33m\u001b[0m\u001b[0m\n\u001b[0;32m   2052\u001b[0m             \u001b[1;31m# construct booster object\u001b[0m\u001b[1;33m\u001b[0m\u001b[1;33m\u001b[0m\u001b[1;33m\u001b[0m\u001b[0m\n\u001b[1;32m-> 2053\u001b[1;33m             \u001b[0mtrain_set\u001b[0m\u001b[1;33m.\u001b[0m\u001b[0mconstruct\u001b[0m\u001b[1;33m(\u001b[0m\u001b[1;33m)\u001b[0m\u001b[1;33m\u001b[0m\u001b[1;33m\u001b[0m\u001b[0m\n\u001b[0m\u001b[0;32m   2054\u001b[0m             \u001b[1;31m# copy the parameters from train_set\u001b[0m\u001b[1;33m\u001b[0m\u001b[1;33m\u001b[0m\u001b[1;33m\u001b[0m\u001b[0m\n\u001b[0;32m   2055\u001b[0m             \u001b[0mparams\u001b[0m\u001b[1;33m.\u001b[0m\u001b[0mupdate\u001b[0m\u001b[1;33m(\u001b[0m\u001b[0mtrain_set\u001b[0m\u001b[1;33m.\u001b[0m\u001b[0mget_params\u001b[0m\u001b[1;33m(\u001b[0m\u001b[1;33m)\u001b[0m\u001b[1;33m)\u001b[0m\u001b[1;33m\u001b[0m\u001b[1;33m\u001b[0m\u001b[0m\n",
      "\u001b[1;32m~\\Anaconda3\\lib\\site-packages\\lightgbm\\basic.py\u001b[0m in \u001b[0;36mconstruct\u001b[1;34m(self)\u001b[0m\n\u001b[0;32m   1323\u001b[0m                                 \u001b[0minit_score\u001b[0m\u001b[1;33m=\u001b[0m\u001b[0mself\u001b[0m\u001b[1;33m.\u001b[0m\u001b[0minit_score\u001b[0m\u001b[1;33m,\u001b[0m \u001b[0mpredictor\u001b[0m\u001b[1;33m=\u001b[0m\u001b[0mself\u001b[0m\u001b[1;33m.\u001b[0m\u001b[0m_predictor\u001b[0m\u001b[1;33m,\u001b[0m\u001b[1;33m\u001b[0m\u001b[1;33m\u001b[0m\u001b[0m\n\u001b[0;32m   1324\u001b[0m                                 \u001b[0msilent\u001b[0m\u001b[1;33m=\u001b[0m\u001b[0mself\u001b[0m\u001b[1;33m.\u001b[0m\u001b[0msilent\u001b[0m\u001b[1;33m,\u001b[0m \u001b[0mfeature_name\u001b[0m\u001b[1;33m=\u001b[0m\u001b[0mself\u001b[0m\u001b[1;33m.\u001b[0m\u001b[0mfeature_name\u001b[0m\u001b[1;33m,\u001b[0m\u001b[1;33m\u001b[0m\u001b[1;33m\u001b[0m\u001b[0m\n\u001b[1;32m-> 1325\u001b[1;33m                                 categorical_feature=self.categorical_feature, params=self.params)\n\u001b[0m\u001b[0;32m   1326\u001b[0m             \u001b[1;32mif\u001b[0m \u001b[0mself\u001b[0m\u001b[1;33m.\u001b[0m\u001b[0mfree_raw_data\u001b[0m\u001b[1;33m:\u001b[0m\u001b[1;33m\u001b[0m\u001b[1;33m\u001b[0m\u001b[0m\n\u001b[0;32m   1327\u001b[0m                 \u001b[0mself\u001b[0m\u001b[1;33m.\u001b[0m\u001b[0mdata\u001b[0m \u001b[1;33m=\u001b[0m \u001b[1;32mNone\u001b[0m\u001b[1;33m\u001b[0m\u001b[1;33m\u001b[0m\u001b[0m\n",
      "\u001b[1;32m~\\Anaconda3\\lib\\site-packages\\lightgbm\\basic.py\u001b[0m in \u001b[0;36m_lazy_init\u001b[1;34m(self, data, label, reference, weight, group, init_score, predictor, silent, feature_name, categorical_feature, params)\u001b[0m\n\u001b[0;32m   1131\u001b[0m                 \u001b[0mself\u001b[0m\u001b[1;33m.\u001b[0m\u001b[0m__init_from_csr\u001b[0m\u001b[1;33m(\u001b[0m\u001b[0mcsr\u001b[0m\u001b[1;33m,\u001b[0m \u001b[0mparams_str\u001b[0m\u001b[1;33m,\u001b[0m \u001b[0mref_dataset\u001b[0m\u001b[1;33m)\u001b[0m\u001b[1;33m\u001b[0m\u001b[1;33m\u001b[0m\u001b[0m\n\u001b[0;32m   1132\u001b[0m             \u001b[1;32mexcept\u001b[0m \u001b[0mBaseException\u001b[0m\u001b[1;33m:\u001b[0m\u001b[1;33m\u001b[0m\u001b[1;33m\u001b[0m\u001b[0m\n\u001b[1;32m-> 1133\u001b[1;33m                 \u001b[1;32mraise\u001b[0m \u001b[0mTypeError\u001b[0m\u001b[1;33m(\u001b[0m\u001b[1;34m'Cannot initialize Dataset from {}'\u001b[0m\u001b[1;33m.\u001b[0m\u001b[0mformat\u001b[0m\u001b[1;33m(\u001b[0m\u001b[0mtype\u001b[0m\u001b[1;33m(\u001b[0m\u001b[0mdata\u001b[0m\u001b[1;33m)\u001b[0m\u001b[1;33m.\u001b[0m\u001b[0m__name__\u001b[0m\u001b[1;33m)\u001b[0m\u001b[1;33m)\u001b[0m\u001b[1;33m\u001b[0m\u001b[1;33m\u001b[0m\u001b[0m\n\u001b[0m\u001b[0;32m   1134\u001b[0m         \u001b[1;32mif\u001b[0m \u001b[0mlabel\u001b[0m \u001b[1;32mis\u001b[0m \u001b[1;32mnot\u001b[0m \u001b[1;32mNone\u001b[0m\u001b[1;33m:\u001b[0m\u001b[1;33m\u001b[0m\u001b[1;33m\u001b[0m\u001b[0m\n\u001b[0;32m   1135\u001b[0m             \u001b[0mself\u001b[0m\u001b[1;33m.\u001b[0m\u001b[0mset_label\u001b[0m\u001b[1;33m(\u001b[0m\u001b[0mlabel\u001b[0m\u001b[1;33m)\u001b[0m\u001b[1;33m\u001b[0m\u001b[1;33m\u001b[0m\u001b[0m\n",
      "\u001b[1;31mTypeError\u001b[0m: Cannot initialize Dataset from Dataset"
     ]
    }
   ],
   "source": [
    "parameters = {\n",
    "    'objective': 'multiclass',\n",
    "    'metric': 'auc',\n",
    "    'is_unbalance': 'true',\n",
    "    'boosting': 'gbdt',\n",
    "     'num_iterations':100,\n",
    "#     'num_leaves': 31,\n",
    "#     'feature_fraction': 0.5,\n",
    "#     'bagging_fraction': 0.5,\n",
    "#     'bagging_freq': 20,\n",
    "#     'learning_rate': 0.05,\n",
    "    'verbose': 1\n",
    "}\n",
    "\n",
    "model = lightgbm.train(parameters,\n",
    "                       train_data,\n",
    "                       num_boost_round=5000,\n",
    "                       early_stopping_rounds=100)"
   ]
  },
  {
   "cell_type": "code",
   "execution_count": null,
   "metadata": {},
   "outputs": [],
   "source": []
  }
 ],
 "metadata": {
  "kernelspec": {
   "display_name": "Python 3",
   "language": "python",
   "name": "python3"
  },
  "language_info": {
   "codemirror_mode": {
    "name": "ipython",
    "version": 3
   },
   "file_extension": ".py",
   "mimetype": "text/x-python",
   "name": "python",
   "nbconvert_exporter": "python",
   "pygments_lexer": "ipython3",
   "version": "3.6.12"
  }
 },
 "nbformat": 4,
 "nbformat_minor": 4
}
